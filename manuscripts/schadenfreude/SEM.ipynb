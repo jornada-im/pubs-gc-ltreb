{
 "cells": [
  {
   "cell_type": "markdown",
   "id": "69efedc0",
   "metadata": {},
   "source": [
    "# SEM\n",
    "\n",
    "## See some of these (Statistics of DOOM)\n",
    "https://statisticsofdoom.com/page/structural-equation-modeling/\n",
    "\n",
    "## Use Lavaan\n",
    "https://www.lavaan.ugent.be/\n",
    "\n",
    "## And Semplot\n",
    "http://sachaepskamp.com/semPlot\n",
    "\n",
    "## Another tutorial\n",
    "https://stats.idre.ucla.edu/r/seminars/rsem/"
   ]
  },
  {
   "cell_type": "code",
   "execution_count": 1,
   "id": "38f07292-ab41-482b-847a-197993cfdccd",
   "metadata": {
    "vscode": {
     "languageId": "r"
    }
   },
   "outputs": [
    {
     "name": "stderr",
     "output_type": "stream",
     "text": [
      "── \u001b[1mAttaching core tidyverse packages\u001b[22m ──────────────────────── tidyverse 2.0.0 ──\n",
      "\u001b[32m✔\u001b[39m \u001b[34mdplyr    \u001b[39m 1.1.4     \u001b[32m✔\u001b[39m \u001b[34mreadr    \u001b[39m 2.1.5\n",
      "\u001b[32m✔\u001b[39m \u001b[34mforcats  \u001b[39m 1.0.0     \u001b[32m✔\u001b[39m \u001b[34mstringr  \u001b[39m 1.5.1\n",
      "\u001b[32m✔\u001b[39m \u001b[34mggplot2  \u001b[39m 3.5.2     \u001b[32m✔\u001b[39m \u001b[34mtibble   \u001b[39m 3.2.1\n",
      "\u001b[32m✔\u001b[39m \u001b[34mlubridate\u001b[39m 1.9.4     \u001b[32m✔\u001b[39m \u001b[34mtidyr    \u001b[39m 1.3.1\n",
      "\u001b[32m✔\u001b[39m \u001b[34mpurrr    \u001b[39m 1.0.4     \n",
      "── \u001b[1mConflicts\u001b[22m ────────────────────────────────────────── tidyverse_conflicts() ──\n",
      "\u001b[31m✖\u001b[39m \u001b[34mdplyr\u001b[39m::\u001b[32mfilter()\u001b[39m masks \u001b[34mstats\u001b[39m::filter()\n",
      "\u001b[31m✖\u001b[39m \u001b[34mdplyr\u001b[39m::\u001b[32mlag()\u001b[39m    masks \u001b[34mstats\u001b[39m::lag()\n",
      "\u001b[36mℹ\u001b[39m Use the conflicted package (\u001b[3m\u001b[34m<http://conflicted.r-lib.org/>\u001b[39m\u001b[23m) to force all conflicts to become errors\n"
     ]
    },
    {
     "ename": "ERROR",
     "evalue": "Error in library(lavaan): there is no package called ‘lavaan’\n",
     "output_type": "error",
     "traceback": [
      "Error in library(lavaan): there is no package called ‘lavaan’\nTraceback:\n",
      "1. stop(packageNotFoundError(package, lib.loc, sys.call()))"
     ]
    }
   ],
   "source": [
    "library(tidyverse)\n",
    "library(lavaan)\n",
    "library(lubridate)\n",
    "library(semPlot)\n",
    "\n",
    "#ready_path <- '/Users/gmaurer/GD_gmaurer@nmsu/_current/gc_ltreb_io/data/'\n",
    "ready_path <- '../data_tmp/'\n",
    "#out_path <- '/Users/gmaurer/GD_gmaurer@nmsu/_current/gc_ltreb_io/'\n",
    "out_path <- '../out_tmp/'"
   ]
  },
  {
   "cell_type": "code",
   "execution_count": 2,
   "id": "5a7c4dc0-bb7b-46ab-8106-29a31d0cc15e",
   "metadata": {
    "vscode": {
     "languageId": "r"
    }
   },
   "outputs": [
    {
     "ename": "ERROR",
     "evalue": "Error: object 'ready_path' not found\n",
     "output_type": "error",
     "traceback": [
      "Error: object 'ready_path' not found\nTraceback:\n",
      "1. mutate(., PPT_treatment = case_match(ppt_trt, \"0.2\" ~ \"-80%\", \n .     \"1.0\" ~ \"ambient\", \"1.8\" ~ \"+80%\"))",
      "2. read_csv(paste0(ready_path, \"jrn349001_cover_and_biomass_juntar.csv\"), \n .     col_types = list(ppt_trt = col_character()))",
      "3. vroom::vroom(file, delim = \",\", col_names = col_names, col_types = col_types, \n .     col_select = {\n .         {\n .             col_select\n .         }\n .     }, id = id, .name_repair = name_repair, skip = skip, n_max = n_max, \n .     na = na, quote = quote, comment = comment, skip_empty_rows = skip_empty_rows, \n .     trim_ws = trim_ws, escape_double = TRUE, escape_backslash = FALSE, \n .     locale = locale, guess_max = guess_max, show_col_types = show_col_types, \n .     progress = progress, altrep = lazy, num_threads = num_threads)",
      "4. standardise_path(file)",
      "5. paste0(ready_path, \"jrn349001_cover_and_biomass_juntar.csv\")",
      "6. .handleSimpleError(function (cnd) \n . {\n .     watcher$capture_plot_and_output()\n .     cnd <- sanitize_call(cnd)\n .     watcher$push(cnd)\n .     switch(on_error, continue = invokeRestart(\"eval_continue\"), \n .         stop = invokeRestart(\"eval_stop\"), error = NULL)\n . }, \"object 'ready_path' not found\", base::quote(eval(expr, envir)))"
     ]
    }
   ],
   "source": [
    "# Read in the production data\n",
    "# This comes from package knb-lter-jrn.210349001 on EDI\n",
    "df <- read_csv(paste0(ready_path, 'jrn349001_cover_and_biomass_juntar.csv'),\n",
    "               col_types = list(ppt_trt = col_character())) %>%\n",
    "    mutate(PPT_treatment = case_match(ppt_trt,\n",
    "                                      '0.2' ~ '-80%', \n",
    "                                      '1.0' ~ 'ambient',\n",
    "                                      '1.8' ~ '+80%'))\n",
    "str(df)"
   ]
  },
  {
   "cell_type": "code",
   "execution_count": null,
   "id": "7a413ec6-3149-4c5b-a082-a6dae03486c7",
   "metadata": {
    "vscode": {
     "languageId": "r"
    }
   },
   "outputs": [
    {
     "data": {
      "text/html": [
       "<table class=\"dataframe\">\n",
       "<caption>A tibble: 6 × 20</caption>\n",
       "<thead>\n",
       "\t<tr><th scope=col>year</th><th scope=col>plotid</th><th scope=col>ppt_trt</th><th scope=col>n_trt</th><th scope=col>biomass.grass</th><th scope=col>biomass.rare</th><th scope=col>biomass.shrub</th><th scope=col>cover.grass</th><th scope=col>cover.rare</th><th scope=col>cover.shrub</th><th scope=col>biomass.total</th><th scope=col>cover.total</th><th scope=col>PPT treatment</th><th scope=col>ann_PPT_mm</th><th scope=col>gs_PPT_mm</th><th scope=col>shrubratio</th><th scope=col>RUEann_tot</th><th scope=col>RUEgs_tot</th><th scope=col>RUEgs_shrub</th><th scope=col>RUEgs_grass</th></tr>\n",
       "\t<tr><th scope=col>&lt;dbl&gt;</th><th scope=col>&lt;dbl&gt;</th><th scope=col>&lt;dbl&gt;</th><th scope=col>&lt;dbl&gt;</th><th scope=col>&lt;dbl&gt;</th><th scope=col>&lt;dbl&gt;</th><th scope=col>&lt;dbl&gt;</th><th scope=col>&lt;dbl&gt;</th><th scope=col>&lt;dbl&gt;</th><th scope=col>&lt;dbl&gt;</th><th scope=col>&lt;dbl&gt;</th><th scope=col>&lt;dbl&gt;</th><th scope=col>&lt;chr&gt;</th><th scope=col>&lt;dbl&gt;</th><th scope=col>&lt;dbl&gt;</th><th scope=col>&lt;dbl&gt;</th><th scope=col>&lt;dbl&gt;</th><th scope=col>&lt;dbl&gt;</th><th scope=col>&lt;dbl&gt;</th><th scope=col>&lt;dbl&gt;</th></tr>\n",
       "</thead>\n",
       "<tbody>\n",
       "\t<tr><td>2006</td><td>104</td><td>1</td><td>1</td><td>126.83714</td><td> 3.382477</td><td>19.691052</td><td>0.4794267</td><td>0.01832229</td><td>0.10666298</td><td>149.9107</td><td>0.6044120</td><td>-80%</td><td>NA</td><td>NA</td><td>0.13135191</td><td>NA</td><td>NA</td><td>NA</td><td>NA</td></tr>\n",
       "\t<tr><td>2006</td><td>108</td><td>1</td><td>0</td><td>104.61701</td><td>21.647286</td><td>23.448126</td><td>0.3954378</td><td>0.11725955</td><td>0.12701439</td><td>149.7124</td><td>0.6397117</td><td>-80%</td><td>NA</td><td>NA</td><td>0.15662111</td><td>NA</td><td>NA</td><td>NA</td><td>NA</td></tr>\n",
       "\t<tr><td>2006</td><td>114</td><td>1</td><td>1</td><td> 87.40713</td><td>24.078834</td><td>17.116412</td><td>0.3303868</td><td>0.13043082</td><td>0.09271660</td><td>128.6024</td><td>0.5535342</td><td>-80%</td><td>NA</td><td>NA</td><td>0.13309561</td><td>NA</td><td>NA</td><td>NA</td><td>NA</td></tr>\n",
       "\t<tr><td>2006</td><td>126</td><td>1</td><td>0</td><td>122.05797</td><td>36.484190</td><td>51.738546</td><td>0.4613621</td><td>0.19762846</td><td>0.28025863</td><td>210.2807</td><td>0.9392492</td><td>-80%</td><td>NA</td><td>NA</td><td>0.24604514</td><td>NA</td><td>NA</td><td>NA</td><td>NA</td></tr>\n",
       "\t<tr><td>2006</td><td>134</td><td>1</td><td>0</td><td>121.31113</td><td>18.787405</td><td> 6.804681</td><td>0.4585392</td><td>0.10176808</td><td>0.03685977</td><td>146.9032</td><td>0.5971670</td><td>-80%</td><td>NA</td><td>NA</td><td>0.04632085</td><td>NA</td><td>NA</td><td>NA</td><td>NA</td></tr>\n",
       "\t<tr><td>2006</td><td>136</td><td>1</td><td>1</td><td>140.67847</td><td>21.607569</td><td>13.863992</td><td>0.5317451</td><td>0.11704441</td><td>0.07509881</td><td>176.1500</td><td>0.7238883</td><td>-80%</td><td>NA</td><td>NA</td><td>0.07870559</td><td>NA</td><td>NA</td><td>NA</td><td>NA</td></tr>\n",
       "</tbody>\n",
       "</table>\n"
      ],
      "text/latex": [
       "A tibble: 6 × 20\n",
       "\\begin{tabular}{llllllllllllllllllll}\n",
       " year & plotid & ppt\\_trt & n\\_trt & biomass.grass & biomass.rare & biomass.shrub & cover.grass & cover.rare & cover.shrub & biomass.total & cover.total & PPT treatment & ann\\_PPT\\_mm & gs\\_PPT\\_mm & shrubratio & RUEann\\_tot & RUEgs\\_tot & RUEgs\\_shrub & RUEgs\\_grass\\\\\n",
       " <dbl> & <dbl> & <dbl> & <dbl> & <dbl> & <dbl> & <dbl> & <dbl> & <dbl> & <dbl> & <dbl> & <dbl> & <chr> & <dbl> & <dbl> & <dbl> & <dbl> & <dbl> & <dbl> & <dbl>\\\\\n",
       "\\hline\n",
       "\t 2006 & 104 & 1 & 1 & 126.83714 &  3.382477 & 19.691052 & 0.4794267 & 0.01832229 & 0.10666298 & 149.9107 & 0.6044120 & -80\\% & NA & NA & 0.13135191 & NA & NA & NA & NA\\\\\n",
       "\t 2006 & 108 & 1 & 0 & 104.61701 & 21.647286 & 23.448126 & 0.3954378 & 0.11725955 & 0.12701439 & 149.7124 & 0.6397117 & -80\\% & NA & NA & 0.15662111 & NA & NA & NA & NA\\\\\n",
       "\t 2006 & 114 & 1 & 1 &  87.40713 & 24.078834 & 17.116412 & 0.3303868 & 0.13043082 & 0.09271660 & 128.6024 & 0.5535342 & -80\\% & NA & NA & 0.13309561 & NA & NA & NA & NA\\\\\n",
       "\t 2006 & 126 & 1 & 0 & 122.05797 & 36.484190 & 51.738546 & 0.4613621 & 0.19762846 & 0.28025863 & 210.2807 & 0.9392492 & -80\\% & NA & NA & 0.24604514 & NA & NA & NA & NA\\\\\n",
       "\t 2006 & 134 & 1 & 0 & 121.31113 & 18.787405 &  6.804681 & 0.4585392 & 0.10176808 & 0.03685977 & 146.9032 & 0.5971670 & -80\\% & NA & NA & 0.04632085 & NA & NA & NA & NA\\\\\n",
       "\t 2006 & 136 & 1 & 1 & 140.67847 & 21.607569 & 13.863992 & 0.5317451 & 0.11704441 & 0.07509881 & 176.1500 & 0.7238883 & -80\\% & NA & NA & 0.07870559 & NA & NA & NA & NA\\\\\n",
       "\\end{tabular}\n"
      ],
      "text/markdown": [
       "\n",
       "A tibble: 6 × 20\n",
       "\n",
       "| year &lt;dbl&gt; | plotid &lt;dbl&gt; | ppt_trt &lt;dbl&gt; | n_trt &lt;dbl&gt; | biomass.grass &lt;dbl&gt; | biomass.rare &lt;dbl&gt; | biomass.shrub &lt;dbl&gt; | cover.grass &lt;dbl&gt; | cover.rare &lt;dbl&gt; | cover.shrub &lt;dbl&gt; | biomass.total &lt;dbl&gt; | cover.total &lt;dbl&gt; | PPT treatment &lt;chr&gt; | ann_PPT_mm &lt;dbl&gt; | gs_PPT_mm &lt;dbl&gt; | shrubratio &lt;dbl&gt; | RUEann_tot &lt;dbl&gt; | RUEgs_tot &lt;dbl&gt; | RUEgs_shrub &lt;dbl&gt; | RUEgs_grass &lt;dbl&gt; |\n",
       "|---|---|---|---|---|---|---|---|---|---|---|---|---|---|---|---|---|---|---|---|\n",
       "| 2006 | 104 | 1 | 1 | 126.83714 |  3.382477 | 19.691052 | 0.4794267 | 0.01832229 | 0.10666298 | 149.9107 | 0.6044120 | -80% | NA | NA | 0.13135191 | NA | NA | NA | NA |\n",
       "| 2006 | 108 | 1 | 0 | 104.61701 | 21.647286 | 23.448126 | 0.3954378 | 0.11725955 | 0.12701439 | 149.7124 | 0.6397117 | -80% | NA | NA | 0.15662111 | NA | NA | NA | NA |\n",
       "| 2006 | 114 | 1 | 1 |  87.40713 | 24.078834 | 17.116412 | 0.3303868 | 0.13043082 | 0.09271660 | 128.6024 | 0.5535342 | -80% | NA | NA | 0.13309561 | NA | NA | NA | NA |\n",
       "| 2006 | 126 | 1 | 0 | 122.05797 | 36.484190 | 51.738546 | 0.4613621 | 0.19762846 | 0.28025863 | 210.2807 | 0.9392492 | -80% | NA | NA | 0.24604514 | NA | NA | NA | NA |\n",
       "| 2006 | 134 | 1 | 0 | 121.31113 | 18.787405 |  6.804681 | 0.4585392 | 0.10176808 | 0.03685977 | 146.9032 | 0.5971670 | -80% | NA | NA | 0.04632085 | NA | NA | NA | NA |\n",
       "| 2006 | 136 | 1 | 1 | 140.67847 | 21.607569 | 13.863992 | 0.5317451 | 0.11704441 | 0.07509881 | 176.1500 | 0.7238883 | -80% | NA | NA | 0.07870559 | NA | NA | NA | NA |\n",
       "\n"
      ],
      "text/plain": [
       "  year plotid ppt_trt n_trt biomass.grass biomass.rare biomass.shrub\n",
       "1 2006 104    1       1     126.83714      3.382477    19.691052    \n",
       "2 2006 108    1       0     104.61701     21.647286    23.448126    \n",
       "3 2006 114    1       1      87.40713     24.078834    17.116412    \n",
       "4 2006 126    1       0     122.05797     36.484190    51.738546    \n",
       "5 2006 134    1       0     121.31113     18.787405     6.804681    \n",
       "6 2006 136    1       1     140.67847     21.607569    13.863992    \n",
       "  cover.grass cover.rare cover.shrub biomass.total cover.total PPT treatment\n",
       "1 0.4794267   0.01832229 0.10666298  149.9107      0.6044120   -80%         \n",
       "2 0.3954378   0.11725955 0.12701439  149.7124      0.6397117   -80%         \n",
       "3 0.3303868   0.13043082 0.09271660  128.6024      0.5535342   -80%         \n",
       "4 0.4613621   0.19762846 0.28025863  210.2807      0.9392492   -80%         \n",
       "5 0.4585392   0.10176808 0.03685977  146.9032      0.5971670   -80%         \n",
       "6 0.5317451   0.11704441 0.07509881  176.1500      0.7238883   -80%         \n",
       "  ann_PPT_mm gs_PPT_mm shrubratio RUEann_tot RUEgs_tot RUEgs_shrub RUEgs_grass\n",
       "1 NA         NA        0.13135191 NA         NA        NA          NA         \n",
       "2 NA         NA        0.15662111 NA         NA        NA          NA         \n",
       "3 NA         NA        0.13309561 NA         NA        NA          NA         \n",
       "4 NA         NA        0.24604514 NA         NA        NA          NA         \n",
       "5 NA         NA        0.04632085 NA         NA        NA          NA         \n",
       "6 NA         NA        0.07870559 NA         NA        NA          NA         "
      ]
     },
     "metadata": {},
     "output_type": "display_data"
    }
   ],
   "source": [
    "# Load precipitation data\n",
    "# This comes from package knb-lter-jrn.210349002 on EDI\n",
    "ppt <- read_csv(paste0(ready_path, 'seasonal_ppt_juntar.csv'),\n",
    "                col_types = list(ppt_trt = col_character())) %>%\n",
    "    mutate(PPT_treatment = case_match(ppt_trt,\n",
    "                                      '0.2' ~ '-80%', \n",
    "                                      '1.0' ~ 'ambient',\n",
    "                                      '1.8' ~ '+80%'))\n",
    "# Split the seasons\n",
    "gs_ppt <- subset(ppt, season=='growing_season')\n",
    "ann_ppt <- subset(ppt, season=='annual')\n",
    "# Rename columns so they can be merged\n",
    "gs_ppt <- gs_ppt %>% rename(\"gs_ppt_mm\" = \"ppt_mm\")\n",
    "ann_ppt <- ann_ppt %>% rename(\"ann_ppt_mm\" = \"ppt_mm\")\n",
    "str(gs_ppt)"
   ]
  },
  {
   "cell_type": "code",
   "execution_count": null,
   "id": "653d77ab-9f28-4b20-9465-6603c83c8585",
   "metadata": {
    "vscode": {
     "languageId": "r"
    }
   },
   "outputs": [
    {
     "name": "stderr",
     "output_type": "stream",
     "text": [
      "\u001b[1mRows: \u001b[22m\u001b[34m1967760\u001b[39m \u001b[1mColumns: \u001b[22m\u001b[34m10\u001b[39m\n",
      "\u001b[36m──\u001b[39m \u001b[1mColumn specification\u001b[22m \u001b[36m────────────────────────────────────────────────────────\u001b[39m\n",
      "\u001b[1mDelimiter:\u001b[22m \",\"\n",
      "\u001b[31mchr\u001b[39m  (3): variable, depth, Treatment\n",
      "\u001b[32mdbl\u001b[39m  (6): value, plotid, n_trt, ppt_trt, month, year\n",
      "\u001b[34mdttm\u001b[39m (1): datetime\n",
      "\n",
      "\u001b[36mℹ\u001b[39m Use `spec()` to retrieve the full column specification for this data.\n",
      "\u001b[36mℹ\u001b[39m Specify the column types or set `show_col_types = FALSE` to quiet this message.\n"
     ]
    }
   ],
   "source": [
    "# Merge precip data with plot data and calculate shrub ratio and RUE\n",
    "df <- merge(df, ann_ppt[,c('year','PPT_treatment','ann_ppt_mm')], on=c('year', 'PPT_treatment'), all.x=T)\n",
    "df <- merge(df, gs_ppt[,c('year','PPT_treatment','gs_ppt_mm')], on=c('year', 'PPT_treatment'), all.x=T)\n",
    "str(df)"
   ]
  },
  {
   "cell_type": "markdown",
   "id": "b41198fa-fcb1-4555-80b3-c679a5dcb4d8",
   "metadata": {},
   "source": [
    "## Mediation 2, growing season ppt"
   ]
  },
  {
   "cell_type": "code",
   "execution_count": null,
   "id": "9800c240-14ae-4887-b550-e4802ccad351",
   "metadata": {
    "vscode": {
     "languageId": "r"
    }
   },
   "outputs": [],
   "source": [
    "med.model.2gs <- \"\n",
    "  biomass.grass ~ gs_PPT_mm  \n",
    "  biomass.shrub ~ gs_PPT_mm + biomass.grass\n",
    "\"\n",
    "med.2gs.fit <- sem(med.model.2gs, data=df)"
   ]
  },
  {
   "cell_type": "code",
   "execution_count": null,
   "id": "558ef8bf-3589-453d-a6ef-7ff90eed85d3",
   "metadata": {
    "tags": [],
    "vscode": {
     "languageId": "r"
    }
   },
   "outputs": [
    {
     "data": {
      "text/html": [
       "<dl>\n",
       "\t<dt>$header</dt>\n",
       "\t\t<dd><dl>\n",
       "\t<dt>$lavaan.version</dt>\n",
       "\t\t<dd>'0.6-19'</dd>\n",
       "\t<dt>$sam.approach</dt>\n",
       "\t\t<dd>FALSE</dd>\n",
       "\t<dt>$optim.method</dt>\n",
       "\t\t<dd>'nlminb'</dd>\n",
       "\t<dt>$optim.iterations</dt>\n",
       "\t\t<dd>1</dd>\n",
       "\t<dt>$optim.converged</dt>\n",
       "\t\t<dd>TRUE</dd>\n",
       "</dl>\n",
       "</dd>\n",
       "\t<dt>$optim</dt>\n",
       "\t\t<dd><dl>\n",
       "\t<dt>$estimator</dt>\n",
       "\t\t<dd>'ML'</dd>\n",
       "\t<dt>$estimator.args</dt>\n",
       "\t\t<dd><ol>\n",
       "</ol>\n",
       "</dd>\n",
       "\t<dt>$optim.method</dt>\n",
       "\t\t<dd>'nlminb'</dd>\n",
       "\t<dt>$npar</dt>\n",
       "\t\t<dd>5</dd>\n",
       "\t<dt>$eq.constraints</dt>\n",
       "\t\t<dd>FALSE</dd>\n",
       "\t<dt>$nrow.ceq.jac</dt>\n",
       "\t\t<dd>0</dd>\n",
       "\t<dt>$nrow.cin.jac</dt>\n",
       "\t\t<dd>0</dd>\n",
       "\t<dt>$nrow.con.jac</dt>\n",
       "\t\t<dd>0</dd>\n",
       "\t<dt>$con.jac.rank</dt>\n",
       "\t\t<dd>0</dd>\n",
       "</dl>\n",
       "</dd>\n",
       "\t<dt>$data</dt>\n",
       "\t\t<dd><dl>\n",
       "\t<dt>$ngroups</dt>\n",
       "\t\t<dd>1</dd>\n",
       "\t<dt>$nobs</dt>\n",
       "\t\t<dd>709</dd>\n",
       "\t<dt>$norig</dt>\n",
       "\t\t<dd>827</dd>\n",
       "</dl>\n",
       "</dd>\n",
       "\t<dt>$test</dt>\n",
       "\t\t<dd><strong>$standard</strong> = <dl>\n",
       "\t<dt>$test</dt>\n",
       "\t\t<dd>'standard'</dd>\n",
       "\t<dt>$stat</dt>\n",
       "\t\t<dd>0</dd>\n",
       "\t<dt>$stat.group</dt>\n",
       "\t\t<dd>0</dd>\n",
       "\t<dt>$df</dt>\n",
       "\t\t<dd>0</dd>\n",
       "\t<dt>$refdistr</dt>\n",
       "\t\t<dd>'chisq'</dd>\n",
       "\t<dt>$pvalue</dt>\n",
       "\t\t<dd>&lt;NA&gt;</dd>\n",
       "</dl>\n",
       "</dd>\n",
       "\t<dt>$pe</dt>\n",
       "\t\t<dd><table class=\"dataframe\">\n",
       "<caption>A data.frame: 8 × 8</caption>\n",
       "<thead>\n",
       "\t<tr><th scope=col>lhs</th><th scope=col>op</th><th scope=col>rhs</th><th scope=col>exo</th><th scope=col>est</th><th scope=col>se</th><th scope=col>z</th><th scope=col>pvalue</th></tr>\n",
       "\t<tr><th scope=col>&lt;chr&gt;</th><th scope=col>&lt;chr&gt;</th><th scope=col>&lt;chr&gt;</th><th scope=col>&lt;int&gt;</th><th scope=col>&lt;dbl&gt;</th><th scope=col>&lt;dbl&gt;</th><th scope=col>&lt;dbl&gt;</th><th scope=col>&lt;dbl&gt;</th></tr>\n",
       "</thead>\n",
       "<tbody>\n",
       "\t<tr><td>biomass.grass</td><td>~ </td><td>gs_PPT_mm    </td><td>0</td><td> 2.351301e-01</td><td>  0.01435420</td><td> 16.3805759</td><td>0.000000</td></tr>\n",
       "\t<tr><td>biomass.shrub</td><td>~ </td><td>gs_PPT_mm    </td><td>0</td><td>-1.325717e-03</td><td>  0.01187173</td><td> -0.1116701</td><td>0.911085</td></tr>\n",
       "\t<tr><td>biomass.shrub</td><td>~ </td><td>biomass.grass</td><td>0</td><td>-4.455797e-01</td><td>  0.02645550</td><td>-16.8426100</td><td>0.000000</td></tr>\n",
       "\t<tr><td>biomass.grass</td><td>~~</td><td>biomass.grass</td><td>0</td><td> 2.307273e+03</td><td>122.54366277</td><td> 18.8281704</td><td>0.000000</td></tr>\n",
       "\t<tr><td>biomass.shrub</td><td>~~</td><td>biomass.shrub</td><td>0</td><td> 1.144925e+03</td><td> 60.80916634</td><td> 18.8281704</td><td>0.000000</td></tr>\n",
       "\t<tr><td>gs_PPT_mm    </td><td>~~</td><td>gs_PPT_mm    </td><td>1</td><td> 1.579409e+04</td><td>  0.00000000</td><td>         NA</td><td>      NA</td></tr>\n",
       "\t<tr><td>biomass.grass</td><td>r2</td><td>biomass.grass</td><td>0</td><td> 2.745491e-01</td><td>          NA</td><td>         NA</td><td>      NA</td></tr>\n",
       "\t<tr><td>biomass.shrub</td><td>r2</td><td>biomass.shrub</td><td>0</td><td> 3.570705e-01</td><td>          NA</td><td>         NA</td><td>      NA</td></tr>\n",
       "</tbody>\n",
       "</table>\n",
       "</dd>\n",
       "</dl>\n"
      ],
      "text/latex": [
       "\\begin{description}\n",
       "\\item[\\$header] \\begin{description}\n",
       "\\item[\\$lavaan.version] '0.6-19'\n",
       "\\item[\\$sam.approach] FALSE\n",
       "\\item[\\$optim.method] 'nlminb'\n",
       "\\item[\\$optim.iterations] 1\n",
       "\\item[\\$optim.converged] TRUE\n",
       "\\end{description}\n",
       "\n",
       "\\item[\\$optim] \\begin{description}\n",
       "\\item[\\$estimator] 'ML'\n",
       "\\item[\\$estimator.args] \\begin{enumerate}\n",
       "\\end{enumerate}\n",
       "\n",
       "\\item[\\$optim.method] 'nlminb'\n",
       "\\item[\\$npar] 5\n",
       "\\item[\\$eq.constraints] FALSE\n",
       "\\item[\\$nrow.ceq.jac] 0\n",
       "\\item[\\$nrow.cin.jac] 0\n",
       "\\item[\\$nrow.con.jac] 0\n",
       "\\item[\\$con.jac.rank] 0\n",
       "\\end{description}\n",
       "\n",
       "\\item[\\$data] \\begin{description}\n",
       "\\item[\\$ngroups] 1\n",
       "\\item[\\$nobs] 709\n",
       "\\item[\\$norig] 827\n",
       "\\end{description}\n",
       "\n",
       "\\item[\\$test] \\textbf{\\$standard} = \\begin{description}\n",
       "\\item[\\$test] 'standard'\n",
       "\\item[\\$stat] 0\n",
       "\\item[\\$stat.group] 0\n",
       "\\item[\\$df] 0\n",
       "\\item[\\$refdistr] 'chisq'\n",
       "\\item[\\$pvalue] <NA>\n",
       "\\end{description}\n",
       "\n",
       "\\item[\\$pe] A data.frame: 8 × 8\n",
       "\\begin{tabular}{llllllll}\n",
       " lhs & op & rhs & exo & est & se & z & pvalue\\\\\n",
       " <chr> & <chr> & <chr> & <int> & <dbl> & <dbl> & <dbl> & <dbl>\\\\\n",
       "\\hline\n",
       "\t biomass.grass & \\textasciitilde{}  & gs\\_PPT\\_mm     & 0 &  2.351301e-01 &   0.01435420 &  16.3805759 & 0.000000\\\\\n",
       "\t biomass.shrub & \\textasciitilde{}  & gs\\_PPT\\_mm     & 0 & -1.325717e-03 &   0.01187173 &  -0.1116701 & 0.911085\\\\\n",
       "\t biomass.shrub & \\textasciitilde{}  & biomass.grass & 0 & -4.455797e-01 &   0.02645550 & -16.8426100 & 0.000000\\\\\n",
       "\t biomass.grass & \\textasciitilde{}\\textasciitilde{} & biomass.grass & 0 &  2.307273e+03 & 122.54366277 &  18.8281704 & 0.000000\\\\\n",
       "\t biomass.shrub & \\textasciitilde{}\\textasciitilde{} & biomass.shrub & 0 &  1.144925e+03 &  60.80916634 &  18.8281704 & 0.000000\\\\\n",
       "\t gs\\_PPT\\_mm     & \\textasciitilde{}\\textasciitilde{} & gs\\_PPT\\_mm     & 1 &  1.579409e+04 &   0.00000000 &          NA &       NA\\\\\n",
       "\t biomass.grass & r2 & biomass.grass & 0 &  2.745491e-01 &           NA &          NA &       NA\\\\\n",
       "\t biomass.shrub & r2 & biomass.shrub & 0 &  3.570705e-01 &           NA &          NA &       NA\\\\\n",
       "\\end{tabular}\n",
       "\n",
       "\\end{description}\n"
      ],
      "text/markdown": [
       "$header\n",
       ":   $lavaan.version\n",
       ":   '0.6-19'\n",
       "$sam.approach\n",
       ":   FALSE\n",
       "$optim.method\n",
       ":   'nlminb'\n",
       "$optim.iterations\n",
       ":   1\n",
       "$optim.converged\n",
       ":   TRUE\n",
       "\n",
       "\n",
       "\n",
       "$optim\n",
       ":   $estimator\n",
       ":   'ML'\n",
       "$estimator.args\n",
       ":   \n",
       "\n",
       "\n",
       "$optim.method\n",
       ":   'nlminb'\n",
       "$npar\n",
       ":   5\n",
       "$eq.constraints\n",
       ":   FALSE\n",
       "$nrow.ceq.jac\n",
       ":   0\n",
       "$nrow.cin.jac\n",
       ":   0\n",
       "$nrow.con.jac\n",
       ":   0\n",
       "$con.jac.rank\n",
       ":   0\n",
       "\n",
       "\n",
       "\n",
       "$data\n",
       ":   $ngroups\n",
       ":   1\n",
       "$nobs\n",
       ":   709\n",
       "$norig\n",
       ":   827\n",
       "\n",
       "\n",
       "\n",
       "$test\n",
       ":   **$standard** = $test\n",
       ":   'standard'\n",
       "$stat\n",
       ":   0\n",
       "$stat.group\n",
       ":   0\n",
       "$df\n",
       ":   0\n",
       "$refdistr\n",
       ":   'chisq'\n",
       "$pvalue\n",
       ":   &lt;NA&gt;\n",
       "\n",
       "\n",
       "\n",
       "$pe\n",
       ":   \n",
       "A data.frame: 8 × 8\n",
       "\n",
       "| lhs &lt;chr&gt; | op &lt;chr&gt; | rhs &lt;chr&gt; | exo &lt;int&gt; | est &lt;dbl&gt; | se &lt;dbl&gt; | z &lt;dbl&gt; | pvalue &lt;dbl&gt; |\n",
       "|---|---|---|---|---|---|---|---|\n",
       "| biomass.grass | ~  | gs_PPT_mm     | 0 |  2.351301e-01 |   0.01435420 |  16.3805759 | 0.000000 |\n",
       "| biomass.shrub | ~  | gs_PPT_mm     | 0 | -1.325717e-03 |   0.01187173 |  -0.1116701 | 0.911085 |\n",
       "| biomass.shrub | ~  | biomass.grass | 0 | -4.455797e-01 |   0.02645550 | -16.8426100 | 0.000000 |\n",
       "| biomass.grass | ~~ | biomass.grass | 0 |  2.307273e+03 | 122.54366277 |  18.8281704 | 0.000000 |\n",
       "| biomass.shrub | ~~ | biomass.shrub | 0 |  1.144925e+03 |  60.80916634 |  18.8281704 | 0.000000 |\n",
       "| gs_PPT_mm     | ~~ | gs_PPT_mm     | 1 |  1.579409e+04 |   0.00000000 |          NA |       NA |\n",
       "| biomass.grass | r2 | biomass.grass | 0 |  2.745491e-01 |           NA |          NA |       NA |\n",
       "| biomass.shrub | r2 | biomass.shrub | 0 |  3.570705e-01 |           NA |          NA |       NA |\n",
       "\n",
       "\n",
       "\n",
       "\n"
      ],
      "text/plain": [
       "lavaan 0.6-19 ended normally after 1 iteration\n",
       "\n",
       "  Estimator                                         ML\n",
       "  Optimization method                           NLMINB\n",
       "  Number of model parameters                         5\n",
       "\n",
       "                                                  Used       Total\n",
       "  Number of observations                           709         827\n",
       "\n",
       "Model Test User Model:\n",
       "                                                      \n",
       "  Test statistic                                 0.000\n",
       "  Degrees of freedom                                 0\n",
       "\n",
       "Parameter Estimates:\n",
       "\n",
       "  Standard errors                             Standard\n",
       "  Information                                 Expected\n",
       "  Information saturated (h1) model          Structured\n",
       "\n",
       "Regressions:\n",
       "                   Estimate   Std.Err  z-value  P(>|z|)\n",
       "  biomass.grass ~                                      \n",
       "    gs_PPT_mm          0.235    0.014   16.381    0.000\n",
       "  biomass.shrub ~                                      \n",
       "    gs_PPT_mm         -0.001    0.012   -0.112    0.911\n",
       "    biomass.grass     -0.446    0.026  -16.843    0.000\n",
       "\n",
       "Variances:\n",
       "                   Estimate   Std.Err  z-value  P(>|z|)\n",
       "   .biomass.grass   2307.273  122.544   18.828    0.000\n",
       "   .biomass.shrub   1144.925   60.809   18.828    0.000\n",
       "\n",
       "R-Square:\n",
       "                   Estimate \n",
       "    biomass.grass      0.275\n",
       "    biomass.shrub      0.357\n"
      ]
     },
     "metadata": {},
     "output_type": "display_data"
    }
   ],
   "source": [
    "summary(med.2gs.fit, rsq=TRUE, standardized=F, fit.measures=F)"
   ]
  },
  {
   "cell_type": "code",
   "execution_count": null,
   "id": "adbb382a-eaa7-459e-8623-cbca21920b27",
   "metadata": {
    "vscode": {
     "languageId": "r"
    }
   },
   "outputs": [
    {
     "data": {
      "text/html": [
       "<strong>pdf:</strong> 2"
      ],
      "text/latex": [
       "\\textbf{pdf:} 2"
      ],
      "text/markdown": [
       "**pdf:** 2"
      ],
      "text/plain": [
       "pdf \n",
       "  2 "
      ]
     },
     "metadata": {},
     "output_type": "display_data"
    }
   ],
   "source": [
    "#png(paste0(out_path, 'fig2sem_med2_gs_2006-2024.png'), width=4, height=4, units='in', res=400)\n",
    "#pdf(paste0(out_path, 'fig2sem_med2_gs_2006-2024.pdf'), width=4, height=4)\n",
    "med2gs_plot <- semPlot::semPaths(med.2gs.fit, \"par\",\n",
    "             sizeMan = 15, sizeInt = 15, sizeLat = 15,\n",
    "             edge.label.cex=1.5,\n",
    "             fade=FALSE, residuals=FALSE,\n",
    "             nodeLabels=c('Grass NPP', 'Shrub NPP','PPT_gs'))\n",
    "#dev.off()"
   ]
  }
 ],
 "metadata": {
  "kernelspec": {
   "display_name": "R",
   "language": "R",
   "name": "ir"
  },
  "language_info": {
   "codemirror_mode": "r",
   "file_extension": ".r",
   "mimetype": "text/x-r-source",
   "name": "R",
   "pygments_lexer": "r",
   "version": "4.5.1"
  }
 },
 "nbformat": 4,
 "nbformat_minor": 5
}
