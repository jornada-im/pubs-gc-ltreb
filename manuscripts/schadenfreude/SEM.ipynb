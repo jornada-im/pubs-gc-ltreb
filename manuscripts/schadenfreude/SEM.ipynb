{
 "cells": [
  {
   "cell_type": "markdown",
   "id": "69efedc0",
   "metadata": {},
   "source": [
    "#SEM\n",
    "\n",
    "# See some of these (Statistics of DOOM)\n",
    "http://sachaepskamp.com/semPlot\n",
    "\n",
    "# Use Lavaan\n",
    "https://www.lavaan.ugent.be/\n",
    "\n",
    "# And Semplot\n",
    "http://sachaepskamp.com/semPlot\n",
    "\n",
    "# Another tutorial\n",
    "https://stats.idre.ucla.edu/r/seminars/rsem/"
   ]
  },
  {
   "cell_type": "code",
   "execution_count": 2,
   "id": "38f07292-ab41-482b-847a-197993cfdccd",
   "metadata": {
    "vscode": {
     "languageId": "r"
    }
   },
   "outputs": [],
   "source": [
    "library(tidyverse)\n",
    "library(lavaan)\n",
    "library(lubridate)\n",
    "library(semPlot)\n",
    "\n",
    "iopath <- '/Users/gmaurer/GD_gmaurer@nmsu/_current/gc_ltreb_io'"
   ]
  },
  {
   "cell_type": "code",
   "execution_count": 3,
   "id": "5a7c4dc0-bb7b-46ab-8106-29a31d0cc15e",
   "metadata": {
    "vscode": {
     "languageId": "r"
    }
   },
   "outputs": [
    {
     "name": "stderr",
     "output_type": "stream",
     "text": [
      "\u001b[1mRows: \u001b[22m\u001b[34m827\u001b[39m \u001b[1mColumns: \u001b[22m\u001b[34m20\u001b[39m\n",
      "\u001b[36m──\u001b[39m \u001b[1mColumn specification\u001b[22m \u001b[36m────────────────────────────────────────────────────────\u001b[39m\n",
      "\u001b[1mDelimiter:\u001b[22m \",\"\n",
      "\u001b[31mchr\u001b[39m  (1): PPT treatment\n",
      "\u001b[32mdbl\u001b[39m (19): year, plotid, ppt_trt, n_trt, biomass.grass, biomass.rare, biomass...\n",
      "\n",
      "\u001b[36mℹ\u001b[39m Use `spec()` to retrieve the full column specification for this data.\n",
      "\u001b[36mℹ\u001b[39m Specify the column types or set `show_col_types = FALSE` to quiet this message.\n"
     ]
    }
   ],
   "source": [
    "df <- read_csv(paste0(iopath, '/data/reduced_plotlevel_update.csv'))"
   ]
  },
  {
   "cell_type": "code",
   "execution_count": 4,
   "id": "7a413ec6-3149-4c5b-a082-a6dae03486c7",
   "metadata": {
    "vscode": {
     "languageId": "r"
    }
   },
   "outputs": [
    {
     "data": {
      "text/html": [
       "<table class=\"dataframe\">\n",
       "<caption>A tibble: 6 × 20</caption>\n",
       "<thead>\n",
       "\t<tr><th scope=col>year</th><th scope=col>plotid</th><th scope=col>ppt_trt</th><th scope=col>n_trt</th><th scope=col>biomass.grass</th><th scope=col>biomass.rare</th><th scope=col>biomass.shrub</th><th scope=col>cover.grass</th><th scope=col>cover.rare</th><th scope=col>cover.shrub</th><th scope=col>biomass.total</th><th scope=col>cover.total</th><th scope=col>PPT treatment</th><th scope=col>ann_PPT_mm</th><th scope=col>gs_PPT_mm</th><th scope=col>shrubratio</th><th scope=col>RUEann_tot</th><th scope=col>RUEgs_tot</th><th scope=col>RUEgs_shrub</th><th scope=col>RUEgs_grass</th></tr>\n",
       "\t<tr><th scope=col>&lt;dbl&gt;</th><th scope=col>&lt;dbl&gt;</th><th scope=col>&lt;dbl&gt;</th><th scope=col>&lt;dbl&gt;</th><th scope=col>&lt;dbl&gt;</th><th scope=col>&lt;dbl&gt;</th><th scope=col>&lt;dbl&gt;</th><th scope=col>&lt;dbl&gt;</th><th scope=col>&lt;dbl&gt;</th><th scope=col>&lt;dbl&gt;</th><th scope=col>&lt;dbl&gt;</th><th scope=col>&lt;dbl&gt;</th><th scope=col>&lt;chr&gt;</th><th scope=col>&lt;dbl&gt;</th><th scope=col>&lt;dbl&gt;</th><th scope=col>&lt;dbl&gt;</th><th scope=col>&lt;dbl&gt;</th><th scope=col>&lt;dbl&gt;</th><th scope=col>&lt;dbl&gt;</th><th scope=col>&lt;dbl&gt;</th></tr>\n",
       "</thead>\n",
       "<tbody>\n",
       "\t<tr><td>2006</td><td>104</td><td>1</td><td>1</td><td>126.83714</td><td> 3.382477</td><td>19.691052</td><td>0.4794267</td><td>0.01832229</td><td>0.10666298</td><td>149.9107</td><td>0.6044120</td><td>-80%</td><td>NA</td><td>NA</td><td>0.13135191</td><td>NA</td><td>NA</td><td>NA</td><td>NA</td></tr>\n",
       "\t<tr><td>2006</td><td>108</td><td>1</td><td>0</td><td>104.61701</td><td>21.647286</td><td>23.448126</td><td>0.3954378</td><td>0.11725955</td><td>0.12701439</td><td>149.7124</td><td>0.6397117</td><td>-80%</td><td>NA</td><td>NA</td><td>0.15662111</td><td>NA</td><td>NA</td><td>NA</td><td>NA</td></tr>\n",
       "\t<tr><td>2006</td><td>114</td><td>1</td><td>1</td><td> 87.40713</td><td>24.078834</td><td>17.116412</td><td>0.3303868</td><td>0.13043082</td><td>0.09271660</td><td>128.6024</td><td>0.5535342</td><td>-80%</td><td>NA</td><td>NA</td><td>0.13309561</td><td>NA</td><td>NA</td><td>NA</td><td>NA</td></tr>\n",
       "\t<tr><td>2006</td><td>126</td><td>1</td><td>0</td><td>122.05797</td><td>36.484190</td><td>51.738546</td><td>0.4613621</td><td>0.19762846</td><td>0.28025863</td><td>210.2807</td><td>0.9392492</td><td>-80%</td><td>NA</td><td>NA</td><td>0.24604514</td><td>NA</td><td>NA</td><td>NA</td><td>NA</td></tr>\n",
       "\t<tr><td>2006</td><td>134</td><td>1</td><td>0</td><td>121.31113</td><td>18.787405</td><td> 6.804681</td><td>0.4585392</td><td>0.10176808</td><td>0.03685977</td><td>146.9032</td><td>0.5971670</td><td>-80%</td><td>NA</td><td>NA</td><td>0.04632085</td><td>NA</td><td>NA</td><td>NA</td><td>NA</td></tr>\n",
       "\t<tr><td>2006</td><td>136</td><td>1</td><td>1</td><td>140.67847</td><td>21.607569</td><td>13.863992</td><td>0.5317451</td><td>0.11704441</td><td>0.07509881</td><td>176.1500</td><td>0.7238883</td><td>-80%</td><td>NA</td><td>NA</td><td>0.07870559</td><td>NA</td><td>NA</td><td>NA</td><td>NA</td></tr>\n",
       "</tbody>\n",
       "</table>\n"
      ],
      "text/latex": [
       "A tibble: 6 × 20\n",
       "\\begin{tabular}{llllllllllllllllllll}\n",
       " year & plotid & ppt\\_trt & n\\_trt & biomass.grass & biomass.rare & biomass.shrub & cover.grass & cover.rare & cover.shrub & biomass.total & cover.total & PPT treatment & ann\\_PPT\\_mm & gs\\_PPT\\_mm & shrubratio & RUEann\\_tot & RUEgs\\_tot & RUEgs\\_shrub & RUEgs\\_grass\\\\\n",
       " <dbl> & <dbl> & <dbl> & <dbl> & <dbl> & <dbl> & <dbl> & <dbl> & <dbl> & <dbl> & <dbl> & <dbl> & <chr> & <dbl> & <dbl> & <dbl> & <dbl> & <dbl> & <dbl> & <dbl>\\\\\n",
       "\\hline\n",
       "\t 2006 & 104 & 1 & 1 & 126.83714 &  3.382477 & 19.691052 & 0.4794267 & 0.01832229 & 0.10666298 & 149.9107 & 0.6044120 & -80\\% & NA & NA & 0.13135191 & NA & NA & NA & NA\\\\\n",
       "\t 2006 & 108 & 1 & 0 & 104.61701 & 21.647286 & 23.448126 & 0.3954378 & 0.11725955 & 0.12701439 & 149.7124 & 0.6397117 & -80\\% & NA & NA & 0.15662111 & NA & NA & NA & NA\\\\\n",
       "\t 2006 & 114 & 1 & 1 &  87.40713 & 24.078834 & 17.116412 & 0.3303868 & 0.13043082 & 0.09271660 & 128.6024 & 0.5535342 & -80\\% & NA & NA & 0.13309561 & NA & NA & NA & NA\\\\\n",
       "\t 2006 & 126 & 1 & 0 & 122.05797 & 36.484190 & 51.738546 & 0.4613621 & 0.19762846 & 0.28025863 & 210.2807 & 0.9392492 & -80\\% & NA & NA & 0.24604514 & NA & NA & NA & NA\\\\\n",
       "\t 2006 & 134 & 1 & 0 & 121.31113 & 18.787405 &  6.804681 & 0.4585392 & 0.10176808 & 0.03685977 & 146.9032 & 0.5971670 & -80\\% & NA & NA & 0.04632085 & NA & NA & NA & NA\\\\\n",
       "\t 2006 & 136 & 1 & 1 & 140.67847 & 21.607569 & 13.863992 & 0.5317451 & 0.11704441 & 0.07509881 & 176.1500 & 0.7238883 & -80\\% & NA & NA & 0.07870559 & NA & NA & NA & NA\\\\\n",
       "\\end{tabular}\n"
      ],
      "text/markdown": [
       "\n",
       "A tibble: 6 × 20\n",
       "\n",
       "| year &lt;dbl&gt; | plotid &lt;dbl&gt; | ppt_trt &lt;dbl&gt; | n_trt &lt;dbl&gt; | biomass.grass &lt;dbl&gt; | biomass.rare &lt;dbl&gt; | biomass.shrub &lt;dbl&gt; | cover.grass &lt;dbl&gt; | cover.rare &lt;dbl&gt; | cover.shrub &lt;dbl&gt; | biomass.total &lt;dbl&gt; | cover.total &lt;dbl&gt; | PPT treatment &lt;chr&gt; | ann_PPT_mm &lt;dbl&gt; | gs_PPT_mm &lt;dbl&gt; | shrubratio &lt;dbl&gt; | RUEann_tot &lt;dbl&gt; | RUEgs_tot &lt;dbl&gt; | RUEgs_shrub &lt;dbl&gt; | RUEgs_grass &lt;dbl&gt; |\n",
       "|---|---|---|---|---|---|---|---|---|---|---|---|---|---|---|---|---|---|---|---|\n",
       "| 2006 | 104 | 1 | 1 | 126.83714 |  3.382477 | 19.691052 | 0.4794267 | 0.01832229 | 0.10666298 | 149.9107 | 0.6044120 | -80% | NA | NA | 0.13135191 | NA | NA | NA | NA |\n",
       "| 2006 | 108 | 1 | 0 | 104.61701 | 21.647286 | 23.448126 | 0.3954378 | 0.11725955 | 0.12701439 | 149.7124 | 0.6397117 | -80% | NA | NA | 0.15662111 | NA | NA | NA | NA |\n",
       "| 2006 | 114 | 1 | 1 |  87.40713 | 24.078834 | 17.116412 | 0.3303868 | 0.13043082 | 0.09271660 | 128.6024 | 0.5535342 | -80% | NA | NA | 0.13309561 | NA | NA | NA | NA |\n",
       "| 2006 | 126 | 1 | 0 | 122.05797 | 36.484190 | 51.738546 | 0.4613621 | 0.19762846 | 0.28025863 | 210.2807 | 0.9392492 | -80% | NA | NA | 0.24604514 | NA | NA | NA | NA |\n",
       "| 2006 | 134 | 1 | 0 | 121.31113 | 18.787405 |  6.804681 | 0.4585392 | 0.10176808 | 0.03685977 | 146.9032 | 0.5971670 | -80% | NA | NA | 0.04632085 | NA | NA | NA | NA |\n",
       "| 2006 | 136 | 1 | 1 | 140.67847 | 21.607569 | 13.863992 | 0.5317451 | 0.11704441 | 0.07509881 | 176.1500 | 0.7238883 | -80% | NA | NA | 0.07870559 | NA | NA | NA | NA |\n",
       "\n"
      ],
      "text/plain": [
       "  year plotid ppt_trt n_trt biomass.grass biomass.rare biomass.shrub\n",
       "1 2006 104    1       1     126.83714      3.382477    19.691052    \n",
       "2 2006 108    1       0     104.61701     21.647286    23.448126    \n",
       "3 2006 114    1       1      87.40713     24.078834    17.116412    \n",
       "4 2006 126    1       0     122.05797     36.484190    51.738546    \n",
       "5 2006 134    1       0     121.31113     18.787405     6.804681    \n",
       "6 2006 136    1       1     140.67847     21.607569    13.863992    \n",
       "  cover.grass cover.rare cover.shrub biomass.total cover.total PPT treatment\n",
       "1 0.4794267   0.01832229 0.10666298  149.9107      0.6044120   -80%         \n",
       "2 0.3954378   0.11725955 0.12701439  149.7124      0.6397117   -80%         \n",
       "3 0.3303868   0.13043082 0.09271660  128.6024      0.5535342   -80%         \n",
       "4 0.4613621   0.19762846 0.28025863  210.2807      0.9392492   -80%         \n",
       "5 0.4585392   0.10176808 0.03685977  146.9032      0.5971670   -80%         \n",
       "6 0.5317451   0.11704441 0.07509881  176.1500      0.7238883   -80%         \n",
       "  ann_PPT_mm gs_PPT_mm shrubratio RUEann_tot RUEgs_tot RUEgs_shrub RUEgs_grass\n",
       "1 NA         NA        0.13135191 NA         NA        NA          NA         \n",
       "2 NA         NA        0.15662111 NA         NA        NA          NA         \n",
       "3 NA         NA        0.13309561 NA         NA        NA          NA         \n",
       "4 NA         NA        0.24604514 NA         NA        NA          NA         \n",
       "5 NA         NA        0.04632085 NA         NA        NA          NA         \n",
       "6 NA         NA        0.07870559 NA         NA        NA          NA         "
      ]
     },
     "metadata": {},
     "output_type": "display_data"
    }
   ],
   "source": [
    "head(df)"
   ]
  },
  {
   "cell_type": "code",
   "execution_count": 5,
   "id": "653d77ab-9f28-4b20-9465-6603c83c8585",
   "metadata": {
    "vscode": {
     "languageId": "r"
    }
   },
   "outputs": [
    {
     "name": "stderr",
     "output_type": "stream",
     "text": [
      "\u001b[1mRows: \u001b[22m\u001b[34m1967760\u001b[39m \u001b[1mColumns: \u001b[22m\u001b[34m10\u001b[39m\n",
      "\u001b[36m──\u001b[39m \u001b[1mColumn specification\u001b[22m \u001b[36m────────────────────────────────────────────────────────\u001b[39m\n",
      "\u001b[1mDelimiter:\u001b[22m \",\"\n",
      "\u001b[31mchr\u001b[39m  (3): variable, depth, Treatment\n",
      "\u001b[32mdbl\u001b[39m  (6): value, plotid, n_trt, ppt_trt, month, year\n",
      "\u001b[34mdttm\u001b[39m (1): datetime\n",
      "\n",
      "\u001b[36mℹ\u001b[39m Use `spec()` to retrieve the full column specification for this data.\n",
      "\u001b[36mℹ\u001b[39m Specify the column types or set `show_col_types = FALSE` to quiet this message.\n"
     ]
    }
   ],
   "source": [
    "sm <-  read_csv(paste0(iopath, '/data/sm_long_new.csv'))"
   ]
  },
  {
   "cell_type": "code",
   "execution_count": 6,
   "id": "e944fa95-f49a-4a17-be53-3ed6a7e3b94e",
   "metadata": {
    "vscode": {
     "languageId": "r"
    }
   },
   "outputs": [
    {
     "data": {
      "text/html": [
       "<table class=\"dataframe\">\n",
       "<caption>A tibble: 6 × 10</caption>\n",
       "<thead>\n",
       "\t<tr><th scope=col>datetime</th><th scope=col>variable</th><th scope=col>value</th><th scope=col>depth</th><th scope=col>plotid</th><th scope=col>n_trt</th><th scope=col>ppt_trt</th><th scope=col>month</th><th scope=col>year</th><th scope=col>Treatment</th></tr>\n",
       "\t<tr><th scope=col>&lt;dttm&gt;</th><th scope=col>&lt;chr&gt;</th><th scope=col>&lt;dbl&gt;</th><th scope=col>&lt;chr&gt;</th><th scope=col>&lt;dbl&gt;</th><th scope=col>&lt;dbl&gt;</th><th scope=col>&lt;dbl&gt;</th><th scope=col>&lt;dbl&gt;</th><th scope=col>&lt;dbl&gt;</th><th scope=col>&lt;chr&gt;</th></tr>\n",
       "</thead>\n",
       "<tbody>\n",
       "\t<tr><td>2024-09-29 19:00:00</td><td>surfVWC_341_Avg</td><td>0.023</td><td>surf</td><td>341</td><td>0</td><td>5</td><td>9</td><td>2024</td><td>+80%</td></tr>\n",
       "\t<tr><td>2024-09-29 20:00:00</td><td>surfVWC_341_Avg</td><td>0.023</td><td>surf</td><td>341</td><td>0</td><td>5</td><td>9</td><td>2024</td><td>+80%</td></tr>\n",
       "\t<tr><td>2024-09-29 21:00:00</td><td>surfVWC_341_Avg</td><td>0.022</td><td>surf</td><td>341</td><td>0</td><td>5</td><td>9</td><td>2024</td><td>+80%</td></tr>\n",
       "\t<tr><td>2024-09-29 22:00:00</td><td>surfVWC_341_Avg</td><td>0.022</td><td>surf</td><td>341</td><td>0</td><td>5</td><td>9</td><td>2024</td><td>+80%</td></tr>\n",
       "\t<tr><td>2024-09-29 23:00:00</td><td>surfVWC_341_Avg</td><td>0.021</td><td>surf</td><td>341</td><td>0</td><td>5</td><td>9</td><td>2024</td><td>+80%</td></tr>\n",
       "\t<tr><td>2024-09-30 00:00:00</td><td>surfVWC_341_Avg</td><td>0.021</td><td>surf</td><td>341</td><td>0</td><td>5</td><td>9</td><td>2024</td><td>+80%</td></tr>\n",
       "</tbody>\n",
       "</table>\n"
      ],
      "text/latex": [
       "A tibble: 6 × 10\n",
       "\\begin{tabular}{llllllllll}\n",
       " datetime & variable & value & depth & plotid & n\\_trt & ppt\\_trt & month & year & Treatment\\\\\n",
       " <dttm> & <chr> & <dbl> & <chr> & <dbl> & <dbl> & <dbl> & <dbl> & <dbl> & <chr>\\\\\n",
       "\\hline\n",
       "\t 2024-09-29 19:00:00 & surfVWC\\_341\\_Avg & 0.023 & surf & 341 & 0 & 5 & 9 & 2024 & +80\\%\\\\\n",
       "\t 2024-09-29 20:00:00 & surfVWC\\_341\\_Avg & 0.023 & surf & 341 & 0 & 5 & 9 & 2024 & +80\\%\\\\\n",
       "\t 2024-09-29 21:00:00 & surfVWC\\_341\\_Avg & 0.022 & surf & 341 & 0 & 5 & 9 & 2024 & +80\\%\\\\\n",
       "\t 2024-09-29 22:00:00 & surfVWC\\_341\\_Avg & 0.022 & surf & 341 & 0 & 5 & 9 & 2024 & +80\\%\\\\\n",
       "\t 2024-09-29 23:00:00 & surfVWC\\_341\\_Avg & 0.021 & surf & 341 & 0 & 5 & 9 & 2024 & +80\\%\\\\\n",
       "\t 2024-09-30 00:00:00 & surfVWC\\_341\\_Avg & 0.021 & surf & 341 & 0 & 5 & 9 & 2024 & +80\\%\\\\\n",
       "\\end{tabular}\n"
      ],
      "text/markdown": [
       "\n",
       "A tibble: 6 × 10\n",
       "\n",
       "| datetime &lt;dttm&gt; | variable &lt;chr&gt; | value &lt;dbl&gt; | depth &lt;chr&gt; | plotid &lt;dbl&gt; | n_trt &lt;dbl&gt; | ppt_trt &lt;dbl&gt; | month &lt;dbl&gt; | year &lt;dbl&gt; | Treatment &lt;chr&gt; |\n",
       "|---|---|---|---|---|---|---|---|---|---|\n",
       "| 2024-09-29 19:00:00 | surfVWC_341_Avg | 0.023 | surf | 341 | 0 | 5 | 9 | 2024 | +80% |\n",
       "| 2024-09-29 20:00:00 | surfVWC_341_Avg | 0.023 | surf | 341 | 0 | 5 | 9 | 2024 | +80% |\n",
       "| 2024-09-29 21:00:00 | surfVWC_341_Avg | 0.022 | surf | 341 | 0 | 5 | 9 | 2024 | +80% |\n",
       "| 2024-09-29 22:00:00 | surfVWC_341_Avg | 0.022 | surf | 341 | 0 | 5 | 9 | 2024 | +80% |\n",
       "| 2024-09-29 23:00:00 | surfVWC_341_Avg | 0.021 | surf | 341 | 0 | 5 | 9 | 2024 | +80% |\n",
       "| 2024-09-30 00:00:00 | surfVWC_341_Avg | 0.021 | surf | 341 | 0 | 5 | 9 | 2024 | +80% |\n",
       "\n"
      ],
      "text/plain": [
       "  datetime            variable        value depth plotid n_trt ppt_trt month\n",
       "1 2024-09-29 19:00:00 surfVWC_341_Avg 0.023 surf  341    0     5       9    \n",
       "2 2024-09-29 20:00:00 surfVWC_341_Avg 0.023 surf  341    0     5       9    \n",
       "3 2024-09-29 21:00:00 surfVWC_341_Avg 0.022 surf  341    0     5       9    \n",
       "4 2024-09-29 22:00:00 surfVWC_341_Avg 0.022 surf  341    0     5       9    \n",
       "5 2024-09-29 23:00:00 surfVWC_341_Avg 0.021 surf  341    0     5       9    \n",
       "6 2024-09-30 00:00:00 surfVWC_341_Avg 0.021 surf  341    0     5       9    \n",
       "  year Treatment\n",
       "1 2024 +80%     \n",
       "2 2024 +80%     \n",
       "3 2024 +80%     \n",
       "4 2024 +80%     \n",
       "5 2024 +80%     \n",
       "6 2024 +80%     "
      ]
     },
     "metadata": {},
     "output_type": "display_data"
    }
   ],
   "source": [
    "tail(sm)"
   ]
  },
  {
   "cell_type": "code",
   "execution_count": 7,
   "id": "a276fc3d-8da9-4730-a703-6d9bdfbc19ed",
   "metadata": {
    "vscode": {
     "languageId": "r"
    }
   },
   "outputs": [
    {
     "data": {
      "text/html": [
       "<style>\n",
       ".list-inline {list-style: none; margin:0; padding: 0}\n",
       ".list-inline>li {display: inline-block}\n",
       ".list-inline>li:not(:last-child)::after {content: \"\\00b7\"; padding: 0 .5ex}\n",
       "</style>\n",
       "<ol class=list-inline><li>2018</li><li>2019</li><li>2020</li><li>2021</li><li>2022</li><li>2023</li><li>2024</li></ol>\n"
      ],
      "text/latex": [
       "\\begin{enumerate*}\n",
       "\\item 2018\n",
       "\\item 2019\n",
       "\\item 2020\n",
       "\\item 2021\n",
       "\\item 2022\n",
       "\\item 2023\n",
       "\\item 2024\n",
       "\\end{enumerate*}\n"
      ],
      "text/markdown": [
       "1. 2018\n",
       "2. 2019\n",
       "3. 2020\n",
       "4. 2021\n",
       "5. 2022\n",
       "6. 2023\n",
       "7. 2024\n",
       "\n",
       "\n"
      ],
      "text/plain": [
       "[1] 2018 2019 2020 2021 2022 2023 2024"
      ]
     },
     "metadata": {},
     "output_type": "display_data"
    }
   ],
   "source": [
    "unique(year(sm$datetime))"
   ]
  },
  {
   "cell_type": "code",
   "execution_count": 8,
   "id": "49a98692-fb38-47f7-970a-59f74da0aa3b",
   "metadata": {
    "tags": [],
    "vscode": {
     "languageId": "r"
    }
   },
   "outputs": [
    {
     "name": "stderr",
     "output_type": "stream",
     "text": [
      "\u001b[1m\u001b[22m`summarise()` has grouped output by 'year', 'plotid'. You can override using\n",
      "the `.groups` argument.\n"
     ]
    }
   ],
   "source": [
    "sm_ann <- sm %>% \n",
    "  mutate(mon = month(datetime),\n",
    "         year = year(datetime)) %>%\n",
    "  filter(mon > 6 & mon < 10) %>%\n",
    "  group_by(year, plotid, depth) %>% \n",
    "  summarise(meansm = mean(value, na.rm = T)) %>%\n",
    "  pivot_wider(names_from = depth, values_from = meansm)\n"
   ]
  },
  {
   "cell_type": "code",
   "execution_count": 9,
   "id": "79bba209-967c-49ac-907c-856add22e331",
   "metadata": {
    "tags": [],
    "vscode": {
     "languageId": "r"
    }
   },
   "outputs": [
    {
     "data": {
      "text/html": [
       "<table class=\"dataframe\">\n",
       "<caption>A grouped_df: 6 × 4</caption>\n",
       "<thead>\n",
       "\t<tr><th scope=col>year</th><th scope=col>plotid</th><th scope=col>deep</th><th scope=col>surf</th></tr>\n",
       "\t<tr><th scope=col>&lt;dbl&gt;</th><th scope=col>&lt;dbl&gt;</th><th scope=col>&lt;dbl&gt;</th><th scope=col>&lt;dbl&gt;</th></tr>\n",
       "</thead>\n",
       "<tbody>\n",
       "\t<tr><td>2018</td><td>101</td><td>0.05591756</td><td>0.10526317</td></tr>\n",
       "\t<tr><td>2018</td><td>108</td><td>0.06647203</td><td>0.10867137</td></tr>\n",
       "\t<tr><td>2018</td><td>124</td><td>0.06570772</td><td>0.12468706</td></tr>\n",
       "\t<tr><td>2018</td><td>126</td><td>0.05658909</td><td>0.09350429</td></tr>\n",
       "\t<tr><td>2018</td><td>131</td><td>0.07900632</td><td>0.13509695</td></tr>\n",
       "\t<tr><td>2018</td><td>139</td><td>0.06518514</td><td>0.14232011</td></tr>\n",
       "</tbody>\n",
       "</table>\n"
      ],
      "text/latex": [
       "A grouped\\_df: 6 × 4\n",
       "\\begin{tabular}{llll}\n",
       " year & plotid & deep & surf\\\\\n",
       " <dbl> & <dbl> & <dbl> & <dbl>\\\\\n",
       "\\hline\n",
       "\t 2018 & 101 & 0.05591756 & 0.10526317\\\\\n",
       "\t 2018 & 108 & 0.06647203 & 0.10867137\\\\\n",
       "\t 2018 & 124 & 0.06570772 & 0.12468706\\\\\n",
       "\t 2018 & 126 & 0.05658909 & 0.09350429\\\\\n",
       "\t 2018 & 131 & 0.07900632 & 0.13509695\\\\\n",
       "\t 2018 & 139 & 0.06518514 & 0.14232011\\\\\n",
       "\\end{tabular}\n"
      ],
      "text/markdown": [
       "\n",
       "A grouped_df: 6 × 4\n",
       "\n",
       "| year &lt;dbl&gt; | plotid &lt;dbl&gt; | deep &lt;dbl&gt; | surf &lt;dbl&gt; |\n",
       "|---|---|---|---|\n",
       "| 2018 | 101 | 0.05591756 | 0.10526317 |\n",
       "| 2018 | 108 | 0.06647203 | 0.10867137 |\n",
       "| 2018 | 124 | 0.06570772 | 0.12468706 |\n",
       "| 2018 | 126 | 0.05658909 | 0.09350429 |\n",
       "| 2018 | 131 | 0.07900632 | 0.13509695 |\n",
       "| 2018 | 139 | 0.06518514 | 0.14232011 |\n",
       "\n"
      ],
      "text/plain": [
       "  year plotid deep       surf      \n",
       "1 2018 101    0.05591756 0.10526317\n",
       "2 2018 108    0.06647203 0.10867137\n",
       "3 2018 124    0.06570772 0.12468706\n",
       "4 2018 126    0.05658909 0.09350429\n",
       "5 2018 131    0.07900632 0.13509695\n",
       "6 2018 139    0.06518514 0.14232011"
      ]
     },
     "metadata": {},
     "output_type": "display_data"
    }
   ],
   "source": [
    "head(sm_ann)\n"
   ]
  },
  {
   "cell_type": "code",
   "execution_count": 10,
   "id": "98832a46-b2ae-408d-b432-6c076625f4fe",
   "metadata": {
    "vscode": {
     "languageId": "r"
    }
   },
   "outputs": [],
   "source": [
    "# Join soil mosture and other data\n",
    "df <- df %>% left_join(sm_ann, by=c('year','plotid'))\n",
    "# get a dataset with 2016 + data\n",
    "df2 <- df %>% filter(year > 2015)\n",
    "df3 <- df %>% filter(year > 2005 & year < 2025)"
   ]
  },
  {
   "cell_type": "code",
   "execution_count": 11,
   "id": "b8fa0433",
   "metadata": {
    "vscode": {
     "languageId": "r"
    }
   },
   "outputs": [
    {
     "data": {
      "text/html": [
       "<style>\n",
       ".list-inline {list-style: none; margin:0; padding: 0}\n",
       ".list-inline>li {display: inline-block}\n",
       ".list-inline>li:not(:last-child)::after {content: \"\\00b7\"; padding: 0 .5ex}\n",
       "</style>\n",
       "<ol class=list-inline><li>2006</li><li>2007</li><li>2008</li><li>2009</li><li>2010</li><li>2011</li><li>2012</li><li>2013</li><li>2014</li><li>2015</li><li>2016</li><li>2017</li><li>2018</li><li>2019</li><li>2020</li><li>2021</li><li>2022</li><li>2023</li><li>2024</li></ol>\n"
      ],
      "text/latex": [
       "\\begin{enumerate*}\n",
       "\\item 2006\n",
       "\\item 2007\n",
       "\\item 2008\n",
       "\\item 2009\n",
       "\\item 2010\n",
       "\\item 2011\n",
       "\\item 2012\n",
       "\\item 2013\n",
       "\\item 2014\n",
       "\\item 2015\n",
       "\\item 2016\n",
       "\\item 2017\n",
       "\\item 2018\n",
       "\\item 2019\n",
       "\\item 2020\n",
       "\\item 2021\n",
       "\\item 2022\n",
       "\\item 2023\n",
       "\\item 2024\n",
       "\\end{enumerate*}\n"
      ],
      "text/markdown": [
       "1. 2006\n",
       "2. 2007\n",
       "3. 2008\n",
       "4. 2009\n",
       "5. 2010\n",
       "6. 2011\n",
       "7. 2012\n",
       "8. 2013\n",
       "9. 2014\n",
       "10. 2015\n",
       "11. 2016\n",
       "12. 2017\n",
       "13. 2018\n",
       "14. 2019\n",
       "15. 2020\n",
       "16. 2021\n",
       "17. 2022\n",
       "18. 2023\n",
       "19. 2024\n",
       "\n",
       "\n"
      ],
      "text/plain": [
       " [1] 2006 2007 2008 2009 2010 2011 2012 2013 2014 2015 2016 2017 2018 2019 2020\n",
       "[16] 2021 2022 2023 2024"
      ]
     },
     "metadata": {},
     "output_type": "display_data"
    }
   ],
   "source": [
    "unique(df3$year)"
   ]
  },
  {
   "cell_type": "code",
   "execution_count": 12,
   "id": "c617c0b2-76fe-45d2-9050-4523ce228f78",
   "metadata": {
    "vscode": {
     "languageId": "r"
    }
   },
   "outputs": [
    {
     "data": {
      "text/html": [
       "85"
      ],
      "text/latex": [
       "85"
      ],
      "text/markdown": [
       "85"
      ],
      "text/plain": [
       "[1] 85"
      ]
     },
     "metadata": {},
     "output_type": "display_data"
    }
   ],
   "source": [
    "length(unique(df$plotid))"
   ]
  },
  {
   "cell_type": "markdown",
   "id": "df4df905-61bb-41c4-bcf7-e8b50de5332a",
   "metadata": {},
   "source": [
    "## Mediation 1 growing season ppt"
   ]
  },
  {
   "cell_type": "code",
   "execution_count": 13,
   "id": "024f5425-9b44-4aa4-af90-bc3f5ced2d3e",
   "metadata": {
    "vscode": {
     "languageId": "r"
    }
   },
   "outputs": [],
   "source": [
    "med.model.1gs <- \"\n",
    "  biomass.shrub ~ gs_PPT_mm + n_trt + biomass.grass  \n",
    "  biomass.grass ~ gs_PPT_mm + n_trt\n",
    "\"\n",
    "med.1gs.fit <- sem(med.model.1gs, data=df)"
   ]
  },
  {
   "cell_type": "code",
   "execution_count": 14,
   "id": "838c4aff-5288-4209-9458-a662d68eaa7d",
   "metadata": {
    "vscode": {
     "languageId": "r"
    }
   },
   "outputs": [
    {
     "data": {
      "text/html": [
       "<dl>\n",
       "\t<dt>$header</dt>\n",
       "\t\t<dd><dl>\n",
       "\t<dt>$lavaan.version</dt>\n",
       "\t\t<dd>'0.6-19'</dd>\n",
       "\t<dt>$sam.approach</dt>\n",
       "\t\t<dd>FALSE</dd>\n",
       "\t<dt>$optim.method</dt>\n",
       "\t\t<dd>'nlminb'</dd>\n",
       "\t<dt>$optim.iterations</dt>\n",
       "\t\t<dd>1</dd>\n",
       "\t<dt>$optim.converged</dt>\n",
       "\t\t<dd>TRUE</dd>\n",
       "</dl>\n",
       "</dd>\n",
       "\t<dt>$optim</dt>\n",
       "\t\t<dd><dl>\n",
       "\t<dt>$estimator</dt>\n",
       "\t\t<dd>'ML'</dd>\n",
       "\t<dt>$estimator.args</dt>\n",
       "\t\t<dd><ol>\n",
       "</ol>\n",
       "</dd>\n",
       "\t<dt>$optim.method</dt>\n",
       "\t\t<dd>'nlminb'</dd>\n",
       "\t<dt>$npar</dt>\n",
       "\t\t<dd>7</dd>\n",
       "\t<dt>$eq.constraints</dt>\n",
       "\t\t<dd>FALSE</dd>\n",
       "\t<dt>$nrow.ceq.jac</dt>\n",
       "\t\t<dd>0</dd>\n",
       "\t<dt>$nrow.cin.jac</dt>\n",
       "\t\t<dd>0</dd>\n",
       "\t<dt>$nrow.con.jac</dt>\n",
       "\t\t<dd>0</dd>\n",
       "\t<dt>$con.jac.rank</dt>\n",
       "\t\t<dd>0</dd>\n",
       "</dl>\n",
       "</dd>\n",
       "\t<dt>$data</dt>\n",
       "\t\t<dd><dl>\n",
       "\t<dt>$ngroups</dt>\n",
       "\t\t<dd>1</dd>\n",
       "\t<dt>$nobs</dt>\n",
       "\t\t<dd>709</dd>\n",
       "\t<dt>$norig</dt>\n",
       "\t\t<dd>827</dd>\n",
       "</dl>\n",
       "</dd>\n",
       "\t<dt>$test</dt>\n",
       "\t\t<dd><strong>$standard</strong> = <dl>\n",
       "\t<dt>$test</dt>\n",
       "\t\t<dd>'standard'</dd>\n",
       "\t<dt>$stat</dt>\n",
       "\t\t<dd>0</dd>\n",
       "\t<dt>$stat.group</dt>\n",
       "\t\t<dd>0</dd>\n",
       "\t<dt>$df</dt>\n",
       "\t\t<dd>0</dd>\n",
       "\t<dt>$refdistr</dt>\n",
       "\t\t<dd>'chisq'</dd>\n",
       "\t<dt>$pvalue</dt>\n",
       "\t\t<dd>&lt;NA&gt;</dd>\n",
       "</dl>\n",
       "</dd>\n",
       "\t<dt>$pe</dt>\n",
       "\t\t<dd><table class=\"dataframe\">\n",
       "<caption>A data.frame: 12 × 8</caption>\n",
       "<thead>\n",
       "\t<tr><th scope=col>lhs</th><th scope=col>op</th><th scope=col>rhs</th><th scope=col>exo</th><th scope=col>est</th><th scope=col>se</th><th scope=col>z</th><th scope=col>pvalue</th></tr>\n",
       "\t<tr><th scope=col>&lt;chr&gt;</th><th scope=col>&lt;chr&gt;</th><th scope=col>&lt;chr&gt;</th><th scope=col>&lt;int&gt;</th><th scope=col>&lt;dbl&gt;</th><th scope=col>&lt;dbl&gt;</th><th scope=col>&lt;dbl&gt;</th><th scope=col>&lt;dbl&gt;</th></tr>\n",
       "</thead>\n",
       "<tbody>\n",
       "\t<tr><td>biomass.shrub</td><td>~ </td><td>gs_PPT_mm    </td><td>0</td><td> 1.133690e-05</td><td>  0.01166344</td><td> 9.720037e-04</td><td>9.992245e-01</td></tr>\n",
       "\t<tr><td>biomass.shrub</td><td>~ </td><td>n_trt        </td><td>0</td><td>-1.272297e+01</td><td>  2.49888970</td><td>-5.091448e+00</td><td>3.553386e-07</td></tr>\n",
       "\t<tr><td>biomass.shrub</td><td>~ </td><td>biomass.grass</td><td>0</td><td>-4.515950e-01</td><td>  0.02601158</td><td>-1.736131e+01</td><td>0.000000e+00</td></tr>\n",
       "\t<tr><td>biomass.grass</td><td>~ </td><td>gs_PPT_mm    </td><td>0</td><td> 2.351036e-01</td><td>  0.01433940</td><td> 1.639563e+01</td><td>0.000000e+00</td></tr>\n",
       "\t<tr><td>biomass.grass</td><td>~ </td><td>n_trt        </td><td>0</td><td>-4.363473e+00</td><td>  3.60419984</td><td>-1.210663e+00</td><td>2.260244e-01</td></tr>\n",
       "\t<tr><td>biomass.shrub</td><td>~~</td><td>biomass.shrub</td><td>0</td><td> 1.104541e+03</td><td> 58.66425181</td><td> 1.882817e+01</td><td>0.000000e+00</td></tr>\n",
       "\t<tr><td>biomass.grass</td><td>~~</td><td>biomass.grass</td><td>0</td><td> 2.302513e+03</td><td>122.29085257</td><td> 1.882817e+01</td><td>0.000000e+00</td></tr>\n",
       "\t<tr><td>gs_PPT_mm    </td><td>~~</td><td>gs_PPT_mm    </td><td>1</td><td> 1.579409e+04</td><td>  0.00000000</td><td>           NA</td><td>          NA</td></tr>\n",
       "\t<tr><td>gs_PPT_mm    </td><td>~~</td><td>n_trt        </td><td>1</td><td>-9.599903e-02</td><td>  0.00000000</td><td>           NA</td><td>          NA</td></tr>\n",
       "\t<tr><td>n_trt        </td><td>~~</td><td>n_trt        </td><td>1</td><td> 2.499995e-01</td><td>  0.00000000</td><td>           NA</td><td>          NA</td></tr>\n",
       "\t<tr><td>biomass.shrub</td><td>r2</td><td>biomass.shrub</td><td>0</td><td> 3.797485e-01</td><td>          NA</td><td>           NA</td><td>          NA</td></tr>\n",
       "\t<tr><td>biomass.grass</td><td>r2</td><td>biomass.grass</td><td>0</td><td> 2.760458e-01</td><td>          NA</td><td>           NA</td><td>          NA</td></tr>\n",
       "</tbody>\n",
       "</table>\n",
       "</dd>\n",
       "</dl>\n"
      ],
      "text/latex": [
       "\\begin{description}\n",
       "\\item[\\$header] \\begin{description}\n",
       "\\item[\\$lavaan.version] '0.6-19'\n",
       "\\item[\\$sam.approach] FALSE\n",
       "\\item[\\$optim.method] 'nlminb'\n",
       "\\item[\\$optim.iterations] 1\n",
       "\\item[\\$optim.converged] TRUE\n",
       "\\end{description}\n",
       "\n",
       "\\item[\\$optim] \\begin{description}\n",
       "\\item[\\$estimator] 'ML'\n",
       "\\item[\\$estimator.args] \\begin{enumerate}\n",
       "\\end{enumerate}\n",
       "\n",
       "\\item[\\$optim.method] 'nlminb'\n",
       "\\item[\\$npar] 7\n",
       "\\item[\\$eq.constraints] FALSE\n",
       "\\item[\\$nrow.ceq.jac] 0\n",
       "\\item[\\$nrow.cin.jac] 0\n",
       "\\item[\\$nrow.con.jac] 0\n",
       "\\item[\\$con.jac.rank] 0\n",
       "\\end{description}\n",
       "\n",
       "\\item[\\$data] \\begin{description}\n",
       "\\item[\\$ngroups] 1\n",
       "\\item[\\$nobs] 709\n",
       "\\item[\\$norig] 827\n",
       "\\end{description}\n",
       "\n",
       "\\item[\\$test] \\textbf{\\$standard} = \\begin{description}\n",
       "\\item[\\$test] 'standard'\n",
       "\\item[\\$stat] 0\n",
       "\\item[\\$stat.group] 0\n",
       "\\item[\\$df] 0\n",
       "\\item[\\$refdistr] 'chisq'\n",
       "\\item[\\$pvalue] <NA>\n",
       "\\end{description}\n",
       "\n",
       "\\item[\\$pe] A data.frame: 12 × 8\n",
       "\\begin{tabular}{llllllll}\n",
       " lhs & op & rhs & exo & est & se & z & pvalue\\\\\n",
       " <chr> & <chr> & <chr> & <int> & <dbl> & <dbl> & <dbl> & <dbl>\\\\\n",
       "\\hline\n",
       "\t biomass.shrub & \\textasciitilde{}  & gs\\_PPT\\_mm     & 0 &  1.133690e-05 &   0.01166344 &  9.720037e-04 & 9.992245e-01\\\\\n",
       "\t biomass.shrub & \\textasciitilde{}  & n\\_trt         & 0 & -1.272297e+01 &   2.49888970 & -5.091448e+00 & 3.553386e-07\\\\\n",
       "\t biomass.shrub & \\textasciitilde{}  & biomass.grass & 0 & -4.515950e-01 &   0.02601158 & -1.736131e+01 & 0.000000e+00\\\\\n",
       "\t biomass.grass & \\textasciitilde{}  & gs\\_PPT\\_mm     & 0 &  2.351036e-01 &   0.01433940 &  1.639563e+01 & 0.000000e+00\\\\\n",
       "\t biomass.grass & \\textasciitilde{}  & n\\_trt         & 0 & -4.363473e+00 &   3.60419984 & -1.210663e+00 & 2.260244e-01\\\\\n",
       "\t biomass.shrub & \\textasciitilde{}\\textasciitilde{} & biomass.shrub & 0 &  1.104541e+03 &  58.66425181 &  1.882817e+01 & 0.000000e+00\\\\\n",
       "\t biomass.grass & \\textasciitilde{}\\textasciitilde{} & biomass.grass & 0 &  2.302513e+03 & 122.29085257 &  1.882817e+01 & 0.000000e+00\\\\\n",
       "\t gs\\_PPT\\_mm     & \\textasciitilde{}\\textasciitilde{} & gs\\_PPT\\_mm     & 1 &  1.579409e+04 &   0.00000000 &            NA &           NA\\\\\n",
       "\t gs\\_PPT\\_mm     & \\textasciitilde{}\\textasciitilde{} & n\\_trt         & 1 & -9.599903e-02 &   0.00000000 &            NA &           NA\\\\\n",
       "\t n\\_trt         & \\textasciitilde{}\\textasciitilde{} & n\\_trt         & 1 &  2.499995e-01 &   0.00000000 &            NA &           NA\\\\\n",
       "\t biomass.shrub & r2 & biomass.shrub & 0 &  3.797485e-01 &           NA &            NA &           NA\\\\\n",
       "\t biomass.grass & r2 & biomass.grass & 0 &  2.760458e-01 &           NA &            NA &           NA\\\\\n",
       "\\end{tabular}\n",
       "\n",
       "\\end{description}\n"
      ],
      "text/markdown": [
       "$header\n",
       ":   $lavaan.version\n",
       ":   '0.6-19'\n",
       "$sam.approach\n",
       ":   FALSE\n",
       "$optim.method\n",
       ":   'nlminb'\n",
       "$optim.iterations\n",
       ":   1\n",
       "$optim.converged\n",
       ":   TRUE\n",
       "\n",
       "\n",
       "\n",
       "$optim\n",
       ":   $estimator\n",
       ":   'ML'\n",
       "$estimator.args\n",
       ":   \n",
       "\n",
       "\n",
       "$optim.method\n",
       ":   'nlminb'\n",
       "$npar\n",
       ":   7\n",
       "$eq.constraints\n",
       ":   FALSE\n",
       "$nrow.ceq.jac\n",
       ":   0\n",
       "$nrow.cin.jac\n",
       ":   0\n",
       "$nrow.con.jac\n",
       ":   0\n",
       "$con.jac.rank\n",
       ":   0\n",
       "\n",
       "\n",
       "\n",
       "$data\n",
       ":   $ngroups\n",
       ":   1\n",
       "$nobs\n",
       ":   709\n",
       "$norig\n",
       ":   827\n",
       "\n",
       "\n",
       "\n",
       "$test\n",
       ":   **$standard** = $test\n",
       ":   'standard'\n",
       "$stat\n",
       ":   0\n",
       "$stat.group\n",
       ":   0\n",
       "$df\n",
       ":   0\n",
       "$refdistr\n",
       ":   'chisq'\n",
       "$pvalue\n",
       ":   &lt;NA&gt;\n",
       "\n",
       "\n",
       "\n",
       "$pe\n",
       ":   \n",
       "A data.frame: 12 × 8\n",
       "\n",
       "| lhs &lt;chr&gt; | op &lt;chr&gt; | rhs &lt;chr&gt; | exo &lt;int&gt; | est &lt;dbl&gt; | se &lt;dbl&gt; | z &lt;dbl&gt; | pvalue &lt;dbl&gt; |\n",
       "|---|---|---|---|---|---|---|---|\n",
       "| biomass.shrub | ~  | gs_PPT_mm     | 0 |  1.133690e-05 |   0.01166344 |  9.720037e-04 | 9.992245e-01 |\n",
       "| biomass.shrub | ~  | n_trt         | 0 | -1.272297e+01 |   2.49888970 | -5.091448e+00 | 3.553386e-07 |\n",
       "| biomass.shrub | ~  | biomass.grass | 0 | -4.515950e-01 |   0.02601158 | -1.736131e+01 | 0.000000e+00 |\n",
       "| biomass.grass | ~  | gs_PPT_mm     | 0 |  2.351036e-01 |   0.01433940 |  1.639563e+01 | 0.000000e+00 |\n",
       "| biomass.grass | ~  | n_trt         | 0 | -4.363473e+00 |   3.60419984 | -1.210663e+00 | 2.260244e-01 |\n",
       "| biomass.shrub | ~~ | biomass.shrub | 0 |  1.104541e+03 |  58.66425181 |  1.882817e+01 | 0.000000e+00 |\n",
       "| biomass.grass | ~~ | biomass.grass | 0 |  2.302513e+03 | 122.29085257 |  1.882817e+01 | 0.000000e+00 |\n",
       "| gs_PPT_mm     | ~~ | gs_PPT_mm     | 1 |  1.579409e+04 |   0.00000000 |            NA |           NA |\n",
       "| gs_PPT_mm     | ~~ | n_trt         | 1 | -9.599903e-02 |   0.00000000 |            NA |           NA |\n",
       "| n_trt         | ~~ | n_trt         | 1 |  2.499995e-01 |   0.00000000 |            NA |           NA |\n",
       "| biomass.shrub | r2 | biomass.shrub | 0 |  3.797485e-01 |           NA |            NA |           NA |\n",
       "| biomass.grass | r2 | biomass.grass | 0 |  2.760458e-01 |           NA |            NA |           NA |\n",
       "\n",
       "\n",
       "\n",
       "\n"
      ],
      "text/plain": [
       "lavaan 0.6-19 ended normally after 1 iteration\n",
       "\n",
       "  Estimator                                         ML\n",
       "  Optimization method                           NLMINB\n",
       "  Number of model parameters                         7\n",
       "\n",
       "                                                  Used       Total\n",
       "  Number of observations                           709         827\n",
       "\n",
       "Model Test User Model:\n",
       "                                                      \n",
       "  Test statistic                                 0.000\n",
       "  Degrees of freedom                                 0\n",
       "\n",
       "Parameter Estimates:\n",
       "\n",
       "  Standard errors                             Standard\n",
       "  Information                                 Expected\n",
       "  Information saturated (h1) model          Structured\n",
       "\n",
       "Regressions:\n",
       "                   Estimate   Std.Err  z-value  P(>|z|)\n",
       "  biomass.shrub ~                                      \n",
       "    gs_PPT_mm          0.000    0.012    0.001    0.999\n",
       "    n_trt            -12.723    2.499   -5.091    0.000\n",
       "    biomass.grass     -0.452    0.026  -17.361    0.000\n",
       "  biomass.grass ~                                      \n",
       "    gs_PPT_mm          0.235    0.014   16.396    0.000\n",
       "    n_trt             -4.363    3.604   -1.211    0.226\n",
       "\n",
       "Variances:\n",
       "                   Estimate   Std.Err  z-value  P(>|z|)\n",
       "   .biomass.shrub   1104.541   58.664   18.828    0.000\n",
       "   .biomass.grass   2302.513  122.291   18.828    0.000\n",
       "\n",
       "R-Square:\n",
       "                   Estimate \n",
       "    biomass.shrub      0.380\n",
       "    biomass.grass      0.276\n"
      ]
     },
     "metadata": {},
     "output_type": "display_data"
    }
   ],
   "source": [
    "summary(med.1gs.fit, rsq=TRUE, standardized=F, fit.measures=F)"
   ]
  },
  {
   "cell_type": "code",
   "execution_count": 15,
   "id": "d916f30d-479f-4883-9f86-8858769cb206",
   "metadata": {
    "vscode": {
     "languageId": "r"
    }
   },
   "outputs": [
    {
     "data": {
      "text/html": [
       "14495.1089441838"
      ],
      "text/latex": [
       "14495.1089441838"
      ],
      "text/markdown": [
       "14495.1089441838"
      ],
      "text/plain": [
       "[1] 14495.11"
      ]
     },
     "metadata": {},
     "output_type": "display_data"
    }
   ],
   "source": [
    "AIC(med.1gs.fit)"
   ]
  },
  {
   "cell_type": "code",
   "execution_count": 16,
   "id": "9e1f4882-80a6-4f0d-a717-18114ff374b3",
   "metadata": {
    "vscode": {
     "languageId": "r"
    }
   },
   "outputs": [
    {
     "data": {
      "image/png": "[encoded data removed]",
      "text/plain": [
       "plot without title"
      ]
     },
     "metadata": {
      "image/png": {
       "height": 420,
       "width": 420
      }
     },
     "output_type": "display_data"
    }
   ],
   "source": [
    "#png('../figs/sem_med1_allgs.png')\n",
    "med1gs_plot <- semPlot::semPaths(med.1gs.fit, \"par\",\n",
    "             sizeMan = 15, sizeInt = 15, sizeLat = 15,\n",
    "             edge.label.cex=1.5,\n",
    "             fade=FALSE, residuals=FALSE,\n",
    "             nodeLabels=c('Shrub NPP', 'Grass NPP','PPT_gs'))\n",
    "#dev.off()"
   ]
  },
  {
   "cell_type": "markdown",
   "id": "b41198fa-fcb1-4555-80b3-c679a5dcb4d8",
   "metadata": {},
   "source": [
    "## Mediation 2, growing season ppt"
   ]
  },
  {
   "cell_type": "code",
   "execution_count": 22,
   "id": "9800c240-14ae-4887-b550-e4802ccad351",
   "metadata": {
    "vscode": {
     "languageId": "r"
    }
   },
   "outputs": [],
   "source": [
    "med.model.2gs <- \"\n",
    "  biomass.grass ~ gs_PPT_mm  \n",
    "  biomass.shrub ~ gs_PPT_mm + biomass.grass\n",
    "\"\n",
    "med.2gs.fit <- sem(med.model.2gs, data=df3)"
   ]
  },
  {
   "cell_type": "code",
   "execution_count": 23,
   "id": "558ef8bf-3589-453d-a6ef-7ff90eed85d3",
   "metadata": {
    "tags": [],
    "vscode": {
     "languageId": "r"
    }
   },
   "outputs": [
    {
     "data": {
      "text/html": [
       "<dl>\n",
       "\t<dt>$header</dt>\n",
       "\t\t<dd><dl>\n",
       "\t<dt>$lavaan.version</dt>\n",
       "\t\t<dd>'0.6-19'</dd>\n",
       "\t<dt>$sam.approach</dt>\n",
       "\t\t<dd>FALSE</dd>\n",
       "\t<dt>$optim.method</dt>\n",
       "\t\t<dd>'nlminb'</dd>\n",
       "\t<dt>$optim.iterations</dt>\n",
       "\t\t<dd>1</dd>\n",
       "\t<dt>$optim.converged</dt>\n",
       "\t\t<dd>TRUE</dd>\n",
       "</dl>\n",
       "</dd>\n",
       "\t<dt>$optim</dt>\n",
       "\t\t<dd><dl>\n",
       "\t<dt>$estimator</dt>\n",
       "\t\t<dd>'ML'</dd>\n",
       "\t<dt>$estimator.args</dt>\n",
       "\t\t<dd><ol>\n",
       "</ol>\n",
       "</dd>\n",
       "\t<dt>$optim.method</dt>\n",
       "\t\t<dd>'nlminb'</dd>\n",
       "\t<dt>$npar</dt>\n",
       "\t\t<dd>5</dd>\n",
       "\t<dt>$eq.constraints</dt>\n",
       "\t\t<dd>FALSE</dd>\n",
       "\t<dt>$nrow.ceq.jac</dt>\n",
       "\t\t<dd>0</dd>\n",
       "\t<dt>$nrow.cin.jac</dt>\n",
       "\t\t<dd>0</dd>\n",
       "\t<dt>$nrow.con.jac</dt>\n",
       "\t\t<dd>0</dd>\n",
       "\t<dt>$con.jac.rank</dt>\n",
       "\t\t<dd>0</dd>\n",
       "</dl>\n",
       "</dd>\n",
       "\t<dt>$data</dt>\n",
       "\t\t<dd><dl>\n",
       "\t<dt>$ngroups</dt>\n",
       "\t\t<dd>1</dd>\n",
       "\t<dt>$nobs</dt>\n",
       "\t\t<dd>709</dd>\n",
       "\t<dt>$norig</dt>\n",
       "\t\t<dd>827</dd>\n",
       "</dl>\n",
       "</dd>\n",
       "\t<dt>$test</dt>\n",
       "\t\t<dd><strong>$standard</strong> = <dl>\n",
       "\t<dt>$test</dt>\n",
       "\t\t<dd>'standard'</dd>\n",
       "\t<dt>$stat</dt>\n",
       "\t\t<dd>0</dd>\n",
       "\t<dt>$stat.group</dt>\n",
       "\t\t<dd>0</dd>\n",
       "\t<dt>$df</dt>\n",
       "\t\t<dd>0</dd>\n",
       "\t<dt>$refdistr</dt>\n",
       "\t\t<dd>'chisq'</dd>\n",
       "\t<dt>$pvalue</dt>\n",
       "\t\t<dd>&lt;NA&gt;</dd>\n",
       "</dl>\n",
       "</dd>\n",
       "\t<dt>$pe</dt>\n",
       "\t\t<dd><table class=\"dataframe\">\n",
       "<caption>A data.frame: 8 × 8</caption>\n",
       "<thead>\n",
       "\t<tr><th scope=col>lhs</th><th scope=col>op</th><th scope=col>rhs</th><th scope=col>exo</th><th scope=col>est</th><th scope=col>se</th><th scope=col>z</th><th scope=col>pvalue</th></tr>\n",
       "\t<tr><th scope=col>&lt;chr&gt;</th><th scope=col>&lt;chr&gt;</th><th scope=col>&lt;chr&gt;</th><th scope=col>&lt;int&gt;</th><th scope=col>&lt;dbl&gt;</th><th scope=col>&lt;dbl&gt;</th><th scope=col>&lt;dbl&gt;</th><th scope=col>&lt;dbl&gt;</th></tr>\n",
       "</thead>\n",
       "<tbody>\n",
       "\t<tr><td>biomass.grass</td><td>~ </td><td>gs_PPT_mm    </td><td>0</td><td> 2.351301e-01</td><td>  0.01435420</td><td> 16.3805759</td><td>0.000000</td></tr>\n",
       "\t<tr><td>biomass.shrub</td><td>~ </td><td>gs_PPT_mm    </td><td>0</td><td>-1.325717e-03</td><td>  0.01187173</td><td> -0.1116701</td><td>0.911085</td></tr>\n",
       "\t<tr><td>biomass.shrub</td><td>~ </td><td>biomass.grass</td><td>0</td><td>-4.455797e-01</td><td>  0.02645550</td><td>-16.8426100</td><td>0.000000</td></tr>\n",
       "\t<tr><td>biomass.grass</td><td>~~</td><td>biomass.grass</td><td>0</td><td> 2.307273e+03</td><td>122.54366277</td><td> 18.8281704</td><td>0.000000</td></tr>\n",
       "\t<tr><td>biomass.shrub</td><td>~~</td><td>biomass.shrub</td><td>0</td><td> 1.144925e+03</td><td> 60.80916634</td><td> 18.8281704</td><td>0.000000</td></tr>\n",
       "\t<tr><td>gs_PPT_mm    </td><td>~~</td><td>gs_PPT_mm    </td><td>1</td><td> 1.579409e+04</td><td>  0.00000000</td><td>         NA</td><td>      NA</td></tr>\n",
       "\t<tr><td>biomass.grass</td><td>r2</td><td>biomass.grass</td><td>0</td><td> 2.745491e-01</td><td>          NA</td><td>         NA</td><td>      NA</td></tr>\n",
       "\t<tr><td>biomass.shrub</td><td>r2</td><td>biomass.shrub</td><td>0</td><td> 3.570705e-01</td><td>          NA</td><td>         NA</td><td>      NA</td></tr>\n",
       "</tbody>\n",
       "</table>\n",
       "</dd>\n",
       "</dl>\n"
      ],
      "text/latex": [
       "\\begin{description}\n",
       "\\item[\\$header] \\begin{description}\n",
       "\\item[\\$lavaan.version] '0.6-19'\n",
       "\\item[\\$sam.approach] FALSE\n",
       "\\item[\\$optim.method] 'nlminb'\n",
       "\\item[\\$optim.iterations] 1\n",
       "\\item[\\$optim.converged] TRUE\n",
       "\\end{description}\n",
       "\n",
       "\\item[\\$optim] \\begin{description}\n",
       "\\item[\\$estimator] 'ML'\n",
       "\\item[\\$estimator.args] \\begin{enumerate}\n",
       "\\end{enumerate}\n",
       "\n",
       "\\item[\\$optim.method] 'nlminb'\n",
       "\\item[\\$npar] 5\n",
       "\\item[\\$eq.constraints] FALSE\n",
       "\\item[\\$nrow.ceq.jac] 0\n",
       "\\item[\\$nrow.cin.jac] 0\n",
       "\\item[\\$nrow.con.jac] 0\n",
       "\\item[\\$con.jac.rank] 0\n",
       "\\end{description}\n",
       "\n",
       "\\item[\\$data] \\begin{description}\n",
       "\\item[\\$ngroups] 1\n",
       "\\item[\\$nobs] 709\n",
       "\\item[\\$norig] 827\n",
       "\\end{description}\n",
       "\n",
       "\\item[\\$test] \\textbf{\\$standard} = \\begin{description}\n",
       "\\item[\\$test] 'standard'\n",
       "\\item[\\$stat] 0\n",
       "\\item[\\$stat.group] 0\n",
       "\\item[\\$df] 0\n",
       "\\item[\\$refdistr] 'chisq'\n",
       "\\item[\\$pvalue] <NA>\n",
       "\\end{description}\n",
       "\n",
       "\\item[\\$pe] A data.frame: 8 × 8\n",
       "\\begin{tabular}{llllllll}\n",
       " lhs & op & rhs & exo & est & se & z & pvalue\\\\\n",
       " <chr> & <chr> & <chr> & <int> & <dbl> & <dbl> & <dbl> & <dbl>\\\\\n",
       "\\hline\n",
       "\t biomass.grass & \\textasciitilde{}  & gs\\_PPT\\_mm     & 0 &  2.351301e-01 &   0.01435420 &  16.3805759 & 0.000000\\\\\n",
       "\t biomass.shrub & \\textasciitilde{}  & gs\\_PPT\\_mm     & 0 & -1.325717e-03 &   0.01187173 &  -0.1116701 & 0.911085\\\\\n",
       "\t biomass.shrub & \\textasciitilde{}  & biomass.grass & 0 & -4.455797e-01 &   0.02645550 & -16.8426100 & 0.000000\\\\\n",
       "\t biomass.grass & \\textasciitilde{}\\textasciitilde{} & biomass.grass & 0 &  2.307273e+03 & 122.54366277 &  18.8281704 & 0.000000\\\\\n",
       "\t biomass.shrub & \\textasciitilde{}\\textasciitilde{} & biomass.shrub & 0 &  1.144925e+03 &  60.80916634 &  18.8281704 & 0.000000\\\\\n",
       "\t gs\\_PPT\\_mm     & \\textasciitilde{}\\textasciitilde{} & gs\\_PPT\\_mm     & 1 &  1.579409e+04 &   0.00000000 &          NA &       NA\\\\\n",
       "\t biomass.grass & r2 & biomass.grass & 0 &  2.745491e-01 &           NA &          NA &       NA\\\\\n",
       "\t biomass.shrub & r2 & biomass.shrub & 0 &  3.570705e-01 &           NA &          NA &       NA\\\\\n",
       "\\end{tabular}\n",
       "\n",
       "\\end{description}\n"
      ],
      "text/markdown": [
       "$header\n",
       ":   $lavaan.version\n",
       ":   '0.6-19'\n",
       "$sam.approach\n",
       ":   FALSE\n",
       "$optim.method\n",
       ":   'nlminb'\n",
       "$optim.iterations\n",
       ":   1\n",
       "$optim.converged\n",
       ":   TRUE\n",
       "\n",
       "\n",
       "\n",
       "$optim\n",
       ":   $estimator\n",
       ":   'ML'\n",
       "$estimator.args\n",
       ":   \n",
       "\n",
       "\n",
       "$optim.method\n",
       ":   'nlminb'\n",
       "$npar\n",
       ":   5\n",
       "$eq.constraints\n",
       ":   FALSE\n",
       "$nrow.ceq.jac\n",
       ":   0\n",
       "$nrow.cin.jac\n",
       ":   0\n",
       "$nrow.con.jac\n",
       ":   0\n",
       "$con.jac.rank\n",
       ":   0\n",
       "\n",
       "\n",
       "\n",
       "$data\n",
       ":   $ngroups\n",
       ":   1\n",
       "$nobs\n",
       ":   709\n",
       "$norig\n",
       ":   827\n",
       "\n",
       "\n",
       "\n",
       "$test\n",
       ":   **$standard** = $test\n",
       ":   'standard'\n",
       "$stat\n",
       ":   0\n",
       "$stat.group\n",
       ":   0\n",
       "$df\n",
       ":   0\n",
       "$refdistr\n",
       ":   'chisq'\n",
       "$pvalue\n",
       ":   &lt;NA&gt;\n",
       "\n",
       "\n",
       "\n",
       "$pe\n",
       ":   \n",
       "A data.frame: 8 × 8\n",
       "\n",
       "| lhs &lt;chr&gt; | op &lt;chr&gt; | rhs &lt;chr&gt; | exo &lt;int&gt; | est &lt;dbl&gt; | se &lt;dbl&gt; | z &lt;dbl&gt; | pvalue &lt;dbl&gt; |\n",
       "|---|---|---|---|---|---|---|---|\n",
       "| biomass.grass | ~  | gs_PPT_mm     | 0 |  2.351301e-01 |   0.01435420 |  16.3805759 | 0.000000 |\n",
       "| biomass.shrub | ~  | gs_PPT_mm     | 0 | -1.325717e-03 |   0.01187173 |  -0.1116701 | 0.911085 |\n",
       "| biomass.shrub | ~  | biomass.grass | 0 | -4.455797e-01 |   0.02645550 | -16.8426100 | 0.000000 |\n",
       "| biomass.grass | ~~ | biomass.grass | 0 |  2.307273e+03 | 122.54366277 |  18.8281704 | 0.000000 |\n",
       "| biomass.shrub | ~~ | biomass.shrub | 0 |  1.144925e+03 |  60.80916634 |  18.8281704 | 0.000000 |\n",
       "| gs_PPT_mm     | ~~ | gs_PPT_mm     | 1 |  1.579409e+04 |   0.00000000 |          NA |       NA |\n",
       "| biomass.grass | r2 | biomass.grass | 0 |  2.745491e-01 |           NA |          NA |       NA |\n",
       "| biomass.shrub | r2 | biomass.shrub | 0 |  3.570705e-01 |           NA |          NA |       NA |\n",
       "\n",
       "\n",
       "\n",
       "\n"
      ],
      "text/plain": [
       "lavaan 0.6-19 ended normally after 1 iteration\n",
       "\n",
       "  Estimator                                         ML\n",
       "  Optimization method                           NLMINB\n",
       "  Number of model parameters                         5\n",
       "\n",
       "                                                  Used       Total\n",
       "  Number of observations                           709         827\n",
       "\n",
       "Model Test User Model:\n",
       "                                                      \n",
       "  Test statistic                                 0.000\n",
       "  Degrees of freedom                                 0\n",
       "\n",
       "Parameter Estimates:\n",
       "\n",
       "  Standard errors                             Standard\n",
       "  Information                                 Expected\n",
       "  Information saturated (h1) model          Structured\n",
       "\n",
       "Regressions:\n",
       "                   Estimate   Std.Err  z-value  P(>|z|)\n",
       "  biomass.grass ~                                      \n",
       "    gs_PPT_mm          0.235    0.014   16.381    0.000\n",
       "  biomass.shrub ~                                      \n",
       "    gs_PPT_mm         -0.001    0.012   -0.112    0.911\n",
       "    biomass.grass     -0.446    0.026  -16.843    0.000\n",
       "\n",
       "Variances:\n",
       "                   Estimate   Std.Err  z-value  P(>|z|)\n",
       "   .biomass.grass   2307.273  122.544   18.828    0.000\n",
       "   .biomass.shrub   1144.925   60.809   18.828    0.000\n",
       "\n",
       "R-Square:\n",
       "                   Estimate \n",
       "    biomass.grass      0.275\n",
       "    biomass.shrub      0.357\n"
      ]
     },
     "metadata": {},
     "output_type": "display_data"
    }
   ],
   "source": [
    "summary(med.2gs.fit, rsq=TRUE, standardized=F, fit.measures=F)"
   ]
  },
  {
   "cell_type": "code",
   "execution_count": 30,
   "id": "adbb382a-eaa7-459e-8623-cbca21920b27",
   "metadata": {
    "vscode": {
     "languageId": "r"
    }
   },
   "outputs": [
    {
     "data": {
      "text/html": [
       "<strong>pdf:</strong> 2"
      ],
      "text/latex": [
       "\\textbf{pdf:} 2"
      ],
      "text/markdown": [
       "**pdf:** 2"
      ],
      "text/plain": [
       "pdf \n",
       "  2 "
      ]
     },
     "metadata": {},
     "output_type": "display_data"
    }
   ],
   "source": [
    "png(paste0(iopath, '/figs/fig2sem_med2_gs_2006-2024.png'), width=6, height=6, units='in', res=400)\n",
    "med2gs_plot <- semPlot::semPaths(med.2gs.fit, \"par\",\n",
    "             sizeMan = 15, sizeInt = 15, sizeLat = 15,\n",
    "             edge.label.cex=1.5,\n",
    "             fade=FALSE, residuals=FALSE,\n",
    "             nodeLabels=c('Grass NPP', 'Shrub NPP','PPT_gs'))\n",
    "dev.off()"
   ]
  },
  {
   "cell_type": "markdown",
   "id": "19352fb7-acfe-4f39-bf3f-54d4b66d4065",
   "metadata": {},
   "source": [
    "## Mediation 1, growing season ppt, 2016 +"
   ]
  },
  {
   "cell_type": "code",
   "execution_count": 39,
   "id": "3fe3a6fa-c66d-4097-a2a2-4afff6236942",
   "metadata": {
    "vscode": {
     "languageId": "r"
    }
   },
   "outputs": [],
   "source": [
    "med.model.1gs <- \"\n",
    "  biomass.shrub ~ gs_PPT_mm + biomass.grass  \n",
    "  biomass.grass ~ gs_PPT_mm\"\n",
    "med.1gs.fit <- sem(med.model.1gs, data=df2)"
   ]
  },
  {
   "cell_type": "code",
   "execution_count": 40,
   "id": "10b88f95-8aa0-40ef-8ae3-6ad4c2db4255",
   "metadata": {
    "vscode": {
     "languageId": "r"
    }
   },
   "outputs": [
    {
     "data": {
      "text/html": [
       "<dl>\n",
       "\t<dt>$header</dt>\n",
       "\t\t<dd><dl>\n",
       "\t<dt>$lavaan.version</dt>\n",
       "\t\t<dd>'0.6-19'</dd>\n",
       "\t<dt>$sam.approach</dt>\n",
       "\t\t<dd>FALSE</dd>\n",
       "\t<dt>$optim.method</dt>\n",
       "\t\t<dd>'nlminb'</dd>\n",
       "\t<dt>$optim.iterations</dt>\n",
       "\t\t<dd>1</dd>\n",
       "\t<dt>$optim.converged</dt>\n",
       "\t\t<dd>TRUE</dd>\n",
       "</dl>\n",
       "</dd>\n",
       "\t<dt>$optim</dt>\n",
       "\t\t<dd><dl>\n",
       "\t<dt>$estimator</dt>\n",
       "\t\t<dd>'ML'</dd>\n",
       "\t<dt>$estimator.args</dt>\n",
       "\t\t<dd><ol>\n",
       "</ol>\n",
       "</dd>\n",
       "\t<dt>$optim.method</dt>\n",
       "\t\t<dd>'nlminb'</dd>\n",
       "\t<dt>$npar</dt>\n",
       "\t\t<dd>5</dd>\n",
       "\t<dt>$eq.constraints</dt>\n",
       "\t\t<dd>FALSE</dd>\n",
       "\t<dt>$nrow.ceq.jac</dt>\n",
       "\t\t<dd>0</dd>\n",
       "\t<dt>$nrow.cin.jac</dt>\n",
       "\t\t<dd>0</dd>\n",
       "\t<dt>$nrow.con.jac</dt>\n",
       "\t\t<dd>0</dd>\n",
       "\t<dt>$con.jac.rank</dt>\n",
       "\t\t<dd>0</dd>\n",
       "</dl>\n",
       "</dd>\n",
       "\t<dt>$data</dt>\n",
       "\t\t<dd><dl>\n",
       "\t<dt>$ngroups</dt>\n",
       "\t\t<dd>1</dd>\n",
       "\t<dt>$nobs</dt>\n",
       "\t\t<dd>288</dd>\n",
       "\t<dt>$norig</dt>\n",
       "\t\t<dd>324</dd>\n",
       "</dl>\n",
       "</dd>\n",
       "\t<dt>$test</dt>\n",
       "\t\t<dd><strong>$standard</strong> = <dl>\n",
       "\t<dt>$test</dt>\n",
       "\t\t<dd>'standard'</dd>\n",
       "\t<dt>$stat</dt>\n",
       "\t\t<dd>0</dd>\n",
       "\t<dt>$stat.group</dt>\n",
       "\t\t<dd>0</dd>\n",
       "\t<dt>$df</dt>\n",
       "\t\t<dd>0</dd>\n",
       "\t<dt>$refdistr</dt>\n",
       "\t\t<dd>'chisq'</dd>\n",
       "\t<dt>$pvalue</dt>\n",
       "\t\t<dd>&lt;NA&gt;</dd>\n",
       "</dl>\n",
       "</dd>\n",
       "\t<dt>$pe</dt>\n",
       "\t\t<dd><table class=\"dataframe\">\n",
       "<caption>A data.frame: 8 × 8</caption>\n",
       "<thead>\n",
       "\t<tr><th scope=col>lhs</th><th scope=col>op</th><th scope=col>rhs</th><th scope=col>exo</th><th scope=col>est</th><th scope=col>se</th><th scope=col>z</th><th scope=col>pvalue</th></tr>\n",
       "\t<tr><th scope=col>&lt;chr&gt;</th><th scope=col>&lt;chr&gt;</th><th scope=col>&lt;chr&gt;</th><th scope=col>&lt;int&gt;</th><th scope=col>&lt;dbl&gt;</th><th scope=col>&lt;dbl&gt;</th><th scope=col>&lt;dbl&gt;</th><th scope=col>&lt;dbl&gt;</th></tr>\n",
       "</thead>\n",
       "<tbody>\n",
       "\t<tr><td>biomass.shrub</td><td>~ </td><td>gs_PPT_mm    </td><td>0</td><td>-1.472938e-01</td><td> 0.02409223</td><td>-6.1137468</td><td>9.731866e-10</td></tr>\n",
       "\t<tr><td>biomass.shrub</td><td>~ </td><td>biomass.grass</td><td>0</td><td> 1.154971e-02</td><td> 0.06707642</td><td> 0.1721873</td><td>8.632903e-01</td></tr>\n",
       "\t<tr><td>biomass.grass</td><td>~ </td><td>gs_PPT_mm    </td><td>0</td><td> 2.494941e-01</td><td> 0.01522516</td><td>16.3869642</td><td>0.000000e+00</td></tr>\n",
       "\t<tr><td>biomass.shrub</td><td>~~</td><td>biomass.shrub</td><td>0</td><td> 9.556546e+02</td><td>79.63788376</td><td>12.0000000</td><td>0.000000e+00</td></tr>\n",
       "\t<tr><td>biomass.grass</td><td>~~</td><td>biomass.grass</td><td>0</td><td> 7.375113e+02</td><td>61.45927574</td><td>12.0000000</td><td>0.000000e+00</td></tr>\n",
       "\t<tr><td>gs_PPT_mm    </td><td>~~</td><td>gs_PPT_mm    </td><td>1</td><td> 1.104721e+04</td><td> 0.00000000</td><td>        NA</td><td>          NA</td></tr>\n",
       "\t<tr><td>biomass.shrub</td><td>r2</td><td>biomass.shrub</td><td>0</td><td> 1.943164e-01</td><td>         NA</td><td>        NA</td><td>          NA</td></tr>\n",
       "\t<tr><td>biomass.grass</td><td>r2</td><td>biomass.grass</td><td>0</td><td> 4.825101e-01</td><td>         NA</td><td>        NA</td><td>          NA</td></tr>\n",
       "</tbody>\n",
       "</table>\n",
       "</dd>\n",
       "</dl>\n"
      ],
      "text/latex": [
       "\\begin{description}\n",
       "\\item[\\$header] \\begin{description}\n",
       "\\item[\\$lavaan.version] '0.6-19'\n",
       "\\item[\\$sam.approach] FALSE\n",
       "\\item[\\$optim.method] 'nlminb'\n",
       "\\item[\\$optim.iterations] 1\n",
       "\\item[\\$optim.converged] TRUE\n",
       "\\end{description}\n",
       "\n",
       "\\item[\\$optim] \\begin{description}\n",
       "\\item[\\$estimator] 'ML'\n",
       "\\item[\\$estimator.args] \\begin{enumerate}\n",
       "\\end{enumerate}\n",
       "\n",
       "\\item[\\$optim.method] 'nlminb'\n",
       "\\item[\\$npar] 5\n",
       "\\item[\\$eq.constraints] FALSE\n",
       "\\item[\\$nrow.ceq.jac] 0\n",
       "\\item[\\$nrow.cin.jac] 0\n",
       "\\item[\\$nrow.con.jac] 0\n",
       "\\item[\\$con.jac.rank] 0\n",
       "\\end{description}\n",
       "\n",
       "\\item[\\$data] \\begin{description}\n",
       "\\item[\\$ngroups] 1\n",
       "\\item[\\$nobs] 288\n",
       "\\item[\\$norig] 324\n",
       "\\end{description}\n",
       "\n",
       "\\item[\\$test] \\textbf{\\$standard} = \\begin{description}\n",
       "\\item[\\$test] 'standard'\n",
       "\\item[\\$stat] 0\n",
       "\\item[\\$stat.group] 0\n",
       "\\item[\\$df] 0\n",
       "\\item[\\$refdistr] 'chisq'\n",
       "\\item[\\$pvalue] <NA>\n",
       "\\end{description}\n",
       "\n",
       "\\item[\\$pe] A data.frame: 8 × 8\n",
       "\\begin{tabular}{llllllll}\n",
       " lhs & op & rhs & exo & est & se & z & pvalue\\\\\n",
       " <chr> & <chr> & <chr> & <int> & <dbl> & <dbl> & <dbl> & <dbl>\\\\\n",
       "\\hline\n",
       "\t biomass.shrub & \\textasciitilde{}  & gs\\_PPT\\_mm     & 0 & -1.472938e-01 &  0.02409223 & -6.1137468 & 9.731866e-10\\\\\n",
       "\t biomass.shrub & \\textasciitilde{}  & biomass.grass & 0 &  1.154971e-02 &  0.06707642 &  0.1721873 & 8.632903e-01\\\\\n",
       "\t biomass.grass & \\textasciitilde{}  & gs\\_PPT\\_mm     & 0 &  2.494941e-01 &  0.01522516 & 16.3869642 & 0.000000e+00\\\\\n",
       "\t biomass.shrub & \\textasciitilde{}\\textasciitilde{} & biomass.shrub & 0 &  9.556546e+02 & 79.63788376 & 12.0000000 & 0.000000e+00\\\\\n",
       "\t biomass.grass & \\textasciitilde{}\\textasciitilde{} & biomass.grass & 0 &  7.375113e+02 & 61.45927574 & 12.0000000 & 0.000000e+00\\\\\n",
       "\t gs\\_PPT\\_mm     & \\textasciitilde{}\\textasciitilde{} & gs\\_PPT\\_mm     & 1 &  1.104721e+04 &  0.00000000 &         NA &           NA\\\\\n",
       "\t biomass.shrub & r2 & biomass.shrub & 0 &  1.943164e-01 &          NA &         NA &           NA\\\\\n",
       "\t biomass.grass & r2 & biomass.grass & 0 &  4.825101e-01 &          NA &         NA &           NA\\\\\n",
       "\\end{tabular}\n",
       "\n",
       "\\end{description}\n"
      ],
      "text/markdown": [
       "$header\n",
       ":   $lavaan.version\n",
       ":   '0.6-19'\n",
       "$sam.approach\n",
       ":   FALSE\n",
       "$optim.method\n",
       ":   'nlminb'\n",
       "$optim.iterations\n",
       ":   1\n",
       "$optim.converged\n",
       ":   TRUE\n",
       "\n",
       "\n",
       "\n",
       "$optim\n",
       ":   $estimator\n",
       ":   'ML'\n",
       "$estimator.args\n",
       ":   \n",
       "\n",
       "\n",
       "$optim.method\n",
       ":   'nlminb'\n",
       "$npar\n",
       ":   5\n",
       "$eq.constraints\n",
       ":   FALSE\n",
       "$nrow.ceq.jac\n",
       ":   0\n",
       "$nrow.cin.jac\n",
       ":   0\n",
       "$nrow.con.jac\n",
       ":   0\n",
       "$con.jac.rank\n",
       ":   0\n",
       "\n",
       "\n",
       "\n",
       "$data\n",
       ":   $ngroups\n",
       ":   1\n",
       "$nobs\n",
       ":   288\n",
       "$norig\n",
       ":   324\n",
       "\n",
       "\n",
       "\n",
       "$test\n",
       ":   **$standard** = $test\n",
       ":   'standard'\n",
       "$stat\n",
       ":   0\n",
       "$stat.group\n",
       ":   0\n",
       "$df\n",
       ":   0\n",
       "$refdistr\n",
       ":   'chisq'\n",
       "$pvalue\n",
       ":   &lt;NA&gt;\n",
       "\n",
       "\n",
       "\n",
       "$pe\n",
       ":   \n",
       "A data.frame: 8 × 8\n",
       "\n",
       "| lhs &lt;chr&gt; | op &lt;chr&gt; | rhs &lt;chr&gt; | exo &lt;int&gt; | est &lt;dbl&gt; | se &lt;dbl&gt; | z &lt;dbl&gt; | pvalue &lt;dbl&gt; |\n",
       "|---|---|---|---|---|---|---|---|\n",
       "| biomass.shrub | ~  | gs_PPT_mm     | 0 | -1.472938e-01 |  0.02409223 | -6.1137468 | 9.731866e-10 |\n",
       "| biomass.shrub | ~  | biomass.grass | 0 |  1.154971e-02 |  0.06707642 |  0.1721873 | 8.632903e-01 |\n",
       "| biomass.grass | ~  | gs_PPT_mm     | 0 |  2.494941e-01 |  0.01522516 | 16.3869642 | 0.000000e+00 |\n",
       "| biomass.shrub | ~~ | biomass.shrub | 0 |  9.556546e+02 | 79.63788376 | 12.0000000 | 0.000000e+00 |\n",
       "| biomass.grass | ~~ | biomass.grass | 0 |  7.375113e+02 | 61.45927574 | 12.0000000 | 0.000000e+00 |\n",
       "| gs_PPT_mm     | ~~ | gs_PPT_mm     | 1 |  1.104721e+04 |  0.00000000 |         NA |           NA |\n",
       "| biomass.shrub | r2 | biomass.shrub | 0 |  1.943164e-01 |          NA |         NA |           NA |\n",
       "| biomass.grass | r2 | biomass.grass | 0 |  4.825101e-01 |          NA |         NA |           NA |\n",
       "\n",
       "\n",
       "\n",
       "\n"
      ],
      "text/plain": [
       "lavaan 0.6-19 ended normally after 1 iteration\n",
       "\n",
       "  Estimator                                         ML\n",
       "  Optimization method                           NLMINB\n",
       "  Number of model parameters                         5\n",
       "\n",
       "                                                  Used       Total\n",
       "  Number of observations                           288         324\n",
       "\n",
       "Model Test User Model:\n",
       "                                                      \n",
       "  Test statistic                                 0.000\n",
       "  Degrees of freedom                                 0\n",
       "\n",
       "Parameter Estimates:\n",
       "\n",
       "  Standard errors                             Standard\n",
       "  Information                                 Expected\n",
       "  Information saturated (h1) model          Structured\n",
       "\n",
       "Regressions:\n",
       "                   Estimate   Std.Err  z-value  P(>|z|)\n",
       "  biomass.shrub ~                                      \n",
       "    gs_PPT_mm         -0.147    0.024   -6.114    0.000\n",
       "    biomass.grass      0.012    0.067    0.172    0.863\n",
       "  biomass.grass ~                                      \n",
       "    gs_PPT_mm          0.249    0.015   16.387    0.000\n",
       "\n",
       "Variances:\n",
       "                   Estimate   Std.Err  z-value  P(>|z|)\n",
       "   .biomass.shrub    955.655   79.638   12.000    0.000\n",
       "   .biomass.grass    737.511   61.459   12.000    0.000\n",
       "\n",
       "R-Square:\n",
       "                   Estimate \n",
       "    biomass.shrub      0.194\n",
       "    biomass.grass      0.483\n"
      ]
     },
     "metadata": {},
     "output_type": "display_data"
    }
   ],
   "source": [
    "summary(med.1gs.fit, rsq=TRUE, standardized=F, fit.measures=F)"
   ]
  },
  {
   "cell_type": "code",
   "execution_count": 41,
   "id": "30a21524-d4bb-44bd-b23f-2d8277014494",
   "metadata": {
    "vscode": {
     "languageId": "r"
    }
   },
   "outputs": [
    {
     "data": {
      "image/png": "[encoded data removed]",
      "text/plain": [
       "plot without title"
      ]
     },
     "metadata": {
      "image/png": {
       "height": 420,
       "width": 420
      }
     },
     "output_type": "display_data"
    }
   ],
   "source": [
    "#png(paste0(iopath, '/figs/sem_med1_2016gs.png'))\n",
    "med1gs_plot <- semPlot::semPaths(med.1gs.fit, \"par\",\n",
    "             sizeMan = 15, sizeInt = 15, sizeLat = 15,\n",
    "             edge.label.cex=1.5,\n",
    "             fade=FALSE, residuals=FALSE,\n",
    "             nodeLabels=c('Shrub NPP', 'Grass NPP','PPT_gs'))\n",
    "#dev.off()"
   ]
  },
  {
   "cell_type": "markdown",
   "id": "98f988b6-0d4b-4846-aaf5-90c88578bb47",
   "metadata": {},
   "source": [
    "## Mediation 2 growing season ppt, 2016+"
   ]
  },
  {
   "cell_type": "code",
   "execution_count": 42,
   "id": "f93ac81e-95f1-41d3-833f-8318e4295cb8",
   "metadata": {
    "vscode": {
     "languageId": "r"
    }
   },
   "outputs": [],
   "source": [
    "med.model.2gs <- \"\n",
    "  biomass.grass ~ gs_PPT_mm + biomass.shrub  \n",
    "  biomass.shrub ~ gs_PPT_mm\n",
    "\"\n",
    "med.2gs.fit <- sem(med.model.2gs, data=df2)"
   ]
  },
  {
   "cell_type": "code",
   "execution_count": 43,
   "id": "417b5435-e402-4866-bebd-4505c4fa3c94",
   "metadata": {
    "tags": [],
    "vscode": {
     "languageId": "r"
    }
   },
   "outputs": [
    {
     "data": {
      "text/html": [
       "<dl>\n",
       "\t<dt>$header</dt>\n",
       "\t\t<dd><dl>\n",
       "\t<dt>$lavaan.version</dt>\n",
       "\t\t<dd>'0.6-19'</dd>\n",
       "\t<dt>$sam.approach</dt>\n",
       "\t\t<dd>FALSE</dd>\n",
       "\t<dt>$optim.method</dt>\n",
       "\t\t<dd>'nlminb'</dd>\n",
       "\t<dt>$optim.iterations</dt>\n",
       "\t\t<dd>1</dd>\n",
       "\t<dt>$optim.converged</dt>\n",
       "\t\t<dd>TRUE</dd>\n",
       "</dl>\n",
       "</dd>\n",
       "\t<dt>$optim</dt>\n",
       "\t\t<dd><dl>\n",
       "\t<dt>$estimator</dt>\n",
       "\t\t<dd>'ML'</dd>\n",
       "\t<dt>$estimator.args</dt>\n",
       "\t\t<dd><ol>\n",
       "</ol>\n",
       "</dd>\n",
       "\t<dt>$optim.method</dt>\n",
       "\t\t<dd>'nlminb'</dd>\n",
       "\t<dt>$npar</dt>\n",
       "\t\t<dd>5</dd>\n",
       "\t<dt>$eq.constraints</dt>\n",
       "\t\t<dd>FALSE</dd>\n",
       "\t<dt>$nrow.ceq.jac</dt>\n",
       "\t\t<dd>0</dd>\n",
       "\t<dt>$nrow.cin.jac</dt>\n",
       "\t\t<dd>0</dd>\n",
       "\t<dt>$nrow.con.jac</dt>\n",
       "\t\t<dd>0</dd>\n",
       "\t<dt>$con.jac.rank</dt>\n",
       "\t\t<dd>0</dd>\n",
       "</dl>\n",
       "</dd>\n",
       "\t<dt>$data</dt>\n",
       "\t\t<dd><dl>\n",
       "\t<dt>$ngroups</dt>\n",
       "\t\t<dd>1</dd>\n",
       "\t<dt>$nobs</dt>\n",
       "\t\t<dd>288</dd>\n",
       "\t<dt>$norig</dt>\n",
       "\t\t<dd>324</dd>\n",
       "</dl>\n",
       "</dd>\n",
       "\t<dt>$test</dt>\n",
       "\t\t<dd><strong>$standard</strong> = <dl>\n",
       "\t<dt>$test</dt>\n",
       "\t\t<dd>'standard'</dd>\n",
       "\t<dt>$stat</dt>\n",
       "\t\t<dd>0</dd>\n",
       "\t<dt>$stat.group</dt>\n",
       "\t\t<dd>0</dd>\n",
       "\t<dt>$df</dt>\n",
       "\t\t<dd>0</dd>\n",
       "\t<dt>$refdistr</dt>\n",
       "\t\t<dd>'chisq'</dd>\n",
       "\t<dt>$pvalue</dt>\n",
       "\t\t<dd>&lt;NA&gt;</dd>\n",
       "</dl>\n",
       "</dd>\n",
       "\t<dt>$pe</dt>\n",
       "\t\t<dd><table class=\"dataframe\">\n",
       "<caption>A data.frame: 8 × 8</caption>\n",
       "<thead>\n",
       "\t<tr><th scope=col>lhs</th><th scope=col>op</th><th scope=col>rhs</th><th scope=col>exo</th><th scope=col>est</th><th scope=col>se</th><th scope=col>z</th><th scope=col>pvalue</th></tr>\n",
       "\t<tr><th scope=col>&lt;chr&gt;</th><th scope=col>&lt;chr&gt;</th><th scope=col>&lt;chr&gt;</th><th scope=col>&lt;int&gt;</th><th scope=col>&lt;dbl&gt;</th><th scope=col>&lt;dbl&gt;</th><th scope=col>&lt;dbl&gt;</th><th scope=col>&lt;dbl&gt;</th></tr>\n",
       "</thead>\n",
       "<tbody>\n",
       "\t<tr><td>biomass.grass</td><td>~ </td><td>gs_PPT_mm    </td><td>0</td><td> 2.507812e-01</td><td> 0.01696035</td><td>14.7863200</td><td>0.0000000</td></tr>\n",
       "\t<tr><td>biomass.grass</td><td>~ </td><td>biomass.shrub</td><td>0</td><td> 8.912385e-03</td><td> 0.05175984</td><td> 0.1721873</td><td>0.8632903</td></tr>\n",
       "\t<tr><td>biomass.shrub</td><td>~ </td><td>gs_PPT_mm    </td><td>0</td><td>-1.444122e-01</td><td> 0.01733206</td><td>-8.3320836</td><td>0.0000000</td></tr>\n",
       "\t<tr><td>biomass.grass</td><td>~~</td><td>biomass.grass</td><td>0</td><td> 7.374354e+02</td><td>61.45294940</td><td>12.0000000</td><td>0.0000000</td></tr>\n",
       "\t<tr><td>biomass.shrub</td><td>~~</td><td>biomass.shrub</td><td>0</td><td> 9.557530e+02</td><td>79.64608216</td><td>12.0000000</td><td>0.0000000</td></tr>\n",
       "\t<tr><td>gs_PPT_mm    </td><td>~~</td><td>gs_PPT_mm    </td><td>1</td><td> 1.104721e+04</td><td> 0.00000000</td><td>        NA</td><td>       NA</td></tr>\n",
       "\t<tr><td>biomass.grass</td><td>r2</td><td>biomass.grass</td><td>0</td><td> 4.825634e-01</td><td>         NA</td><td>        NA</td><td>       NA</td></tr>\n",
       "\t<tr><td>biomass.shrub</td><td>r2</td><td>biomass.shrub</td><td>0</td><td> 1.942334e-01</td><td>         NA</td><td>        NA</td><td>       NA</td></tr>\n",
       "</tbody>\n",
       "</table>\n",
       "</dd>\n",
       "</dl>\n"
      ],
      "text/latex": [
       "\\begin{description}\n",
       "\\item[\\$header] \\begin{description}\n",
       "\\item[\\$lavaan.version] '0.6-19'\n",
       "\\item[\\$sam.approach] FALSE\n",
       "\\item[\\$optim.method] 'nlminb'\n",
       "\\item[\\$optim.iterations] 1\n",
       "\\item[\\$optim.converged] TRUE\n",
       "\\end{description}\n",
       "\n",
       "\\item[\\$optim] \\begin{description}\n",
       "\\item[\\$estimator] 'ML'\n",
       "\\item[\\$estimator.args] \\begin{enumerate}\n",
       "\\end{enumerate}\n",
       "\n",
       "\\item[\\$optim.method] 'nlminb'\n",
       "\\item[\\$npar] 5\n",
       "\\item[\\$eq.constraints] FALSE\n",
       "\\item[\\$nrow.ceq.jac] 0\n",
       "\\item[\\$nrow.cin.jac] 0\n",
       "\\item[\\$nrow.con.jac] 0\n",
       "\\item[\\$con.jac.rank] 0\n",
       "\\end{description}\n",
       "\n",
       "\\item[\\$data] \\begin{description}\n",
       "\\item[\\$ngroups] 1\n",
       "\\item[\\$nobs] 288\n",
       "\\item[\\$norig] 324\n",
       "\\end{description}\n",
       "\n",
       "\\item[\\$test] \\textbf{\\$standard} = \\begin{description}\n",
       "\\item[\\$test] 'standard'\n",
       "\\item[\\$stat] 0\n",
       "\\item[\\$stat.group] 0\n",
       "\\item[\\$df] 0\n",
       "\\item[\\$refdistr] 'chisq'\n",
       "\\item[\\$pvalue] <NA>\n",
       "\\end{description}\n",
       "\n",
       "\\item[\\$pe] A data.frame: 8 × 8\n",
       "\\begin{tabular}{llllllll}\n",
       " lhs & op & rhs & exo & est & se & z & pvalue\\\\\n",
       " <chr> & <chr> & <chr> & <int> & <dbl> & <dbl> & <dbl> & <dbl>\\\\\n",
       "\\hline\n",
       "\t biomass.grass & \\textasciitilde{}  & gs\\_PPT\\_mm     & 0 &  2.507812e-01 &  0.01696035 & 14.7863200 & 0.0000000\\\\\n",
       "\t biomass.grass & \\textasciitilde{}  & biomass.shrub & 0 &  8.912385e-03 &  0.05175984 &  0.1721873 & 0.8632903\\\\\n",
       "\t biomass.shrub & \\textasciitilde{}  & gs\\_PPT\\_mm     & 0 & -1.444122e-01 &  0.01733206 & -8.3320836 & 0.0000000\\\\\n",
       "\t biomass.grass & \\textasciitilde{}\\textasciitilde{} & biomass.grass & 0 &  7.374354e+02 & 61.45294940 & 12.0000000 & 0.0000000\\\\\n",
       "\t biomass.shrub & \\textasciitilde{}\\textasciitilde{} & biomass.shrub & 0 &  9.557530e+02 & 79.64608216 & 12.0000000 & 0.0000000\\\\\n",
       "\t gs\\_PPT\\_mm     & \\textasciitilde{}\\textasciitilde{} & gs\\_PPT\\_mm     & 1 &  1.104721e+04 &  0.00000000 &         NA &        NA\\\\\n",
       "\t biomass.grass & r2 & biomass.grass & 0 &  4.825634e-01 &          NA &         NA &        NA\\\\\n",
       "\t biomass.shrub & r2 & biomass.shrub & 0 &  1.942334e-01 &          NA &         NA &        NA\\\\\n",
       "\\end{tabular}\n",
       "\n",
       "\\end{description}\n"
      ],
      "text/markdown": [
       "$header\n",
       ":   $lavaan.version\n",
       ":   '0.6-19'\n",
       "$sam.approach\n",
       ":   FALSE\n",
       "$optim.method\n",
       ":   'nlminb'\n",
       "$optim.iterations\n",
       ":   1\n",
       "$optim.converged\n",
       ":   TRUE\n",
       "\n",
       "\n",
       "\n",
       "$optim\n",
       ":   $estimator\n",
       ":   'ML'\n",
       "$estimator.args\n",
       ":   \n",
       "\n",
       "\n",
       "$optim.method\n",
       ":   'nlminb'\n",
       "$npar\n",
       ":   5\n",
       "$eq.constraints\n",
       ":   FALSE\n",
       "$nrow.ceq.jac\n",
       ":   0\n",
       "$nrow.cin.jac\n",
       ":   0\n",
       "$nrow.con.jac\n",
       ":   0\n",
       "$con.jac.rank\n",
       ":   0\n",
       "\n",
       "\n",
       "\n",
       "$data\n",
       ":   $ngroups\n",
       ":   1\n",
       "$nobs\n",
       ":   288\n",
       "$norig\n",
       ":   324\n",
       "\n",
       "\n",
       "\n",
       "$test\n",
       ":   **$standard** = $test\n",
       ":   'standard'\n",
       "$stat\n",
       ":   0\n",
       "$stat.group\n",
       ":   0\n",
       "$df\n",
       ":   0\n",
       "$refdistr\n",
       ":   'chisq'\n",
       "$pvalue\n",
       ":   &lt;NA&gt;\n",
       "\n",
       "\n",
       "\n",
       "$pe\n",
       ":   \n",
       "A data.frame: 8 × 8\n",
       "\n",
       "| lhs &lt;chr&gt; | op &lt;chr&gt; | rhs &lt;chr&gt; | exo &lt;int&gt; | est &lt;dbl&gt; | se &lt;dbl&gt; | z &lt;dbl&gt; | pvalue &lt;dbl&gt; |\n",
       "|---|---|---|---|---|---|---|---|\n",
       "| biomass.grass | ~  | gs_PPT_mm     | 0 |  2.507812e-01 |  0.01696035 | 14.7863200 | 0.0000000 |\n",
       "| biomass.grass | ~  | biomass.shrub | 0 |  8.912385e-03 |  0.05175984 |  0.1721873 | 0.8632903 |\n",
       "| biomass.shrub | ~  | gs_PPT_mm     | 0 | -1.444122e-01 |  0.01733206 | -8.3320836 | 0.0000000 |\n",
       "| biomass.grass | ~~ | biomass.grass | 0 |  7.374354e+02 | 61.45294940 | 12.0000000 | 0.0000000 |\n",
       "| biomass.shrub | ~~ | biomass.shrub | 0 |  9.557530e+02 | 79.64608216 | 12.0000000 | 0.0000000 |\n",
       "| gs_PPT_mm     | ~~ | gs_PPT_mm     | 1 |  1.104721e+04 |  0.00000000 |         NA |        NA |\n",
       "| biomass.grass | r2 | biomass.grass | 0 |  4.825634e-01 |          NA |         NA |        NA |\n",
       "| biomass.shrub | r2 | biomass.shrub | 0 |  1.942334e-01 |          NA |         NA |        NA |\n",
       "\n",
       "\n",
       "\n",
       "\n"
      ],
      "text/plain": [
       "lavaan 0.6-19 ended normally after 1 iteration\n",
       "\n",
       "  Estimator                                         ML\n",
       "  Optimization method                           NLMINB\n",
       "  Number of model parameters                         5\n",
       "\n",
       "                                                  Used       Total\n",
       "  Number of observations                           288         324\n",
       "\n",
       "Model Test User Model:\n",
       "                                                      \n",
       "  Test statistic                                 0.000\n",
       "  Degrees of freedom                                 0\n",
       "\n",
       "Parameter Estimates:\n",
       "\n",
       "  Standard errors                             Standard\n",
       "  Information                                 Expected\n",
       "  Information saturated (h1) model          Structured\n",
       "\n",
       "Regressions:\n",
       "                   Estimate   Std.Err  z-value  P(>|z|)\n",
       "  biomass.grass ~                                      \n",
       "    gs_PPT_mm          0.251    0.017   14.786    0.000\n",
       "    biomass.shrub      0.009    0.052    0.172    0.863\n",
       "  biomass.shrub ~                                      \n",
       "    gs_PPT_mm         -0.144    0.017   -8.332    0.000\n",
       "\n",
       "Variances:\n",
       "                   Estimate   Std.Err  z-value  P(>|z|)\n",
       "   .biomass.grass    737.435   61.453   12.000    0.000\n",
       "   .biomass.shrub    955.753   79.646   12.000    0.000\n",
       "\n",
       "R-Square:\n",
       "                   Estimate \n",
       "    biomass.grass      0.483\n",
       "    biomass.shrub      0.194\n"
      ]
     },
     "metadata": {},
     "output_type": "display_data"
    }
   ],
   "source": [
    "summary(med.2gs.fit, , rsq=TRUE, standardized=F, fit.measures=F)"
   ]
  },
  {
   "cell_type": "code",
   "execution_count": 45,
   "id": "a46158d2-d65d-40d0-931f-a5f57b787690",
   "metadata": {
    "vscode": {
     "languageId": "r"
    }
   },
   "outputs": [
    {
     "data": {
      "image/png": "[encoded data removed]",
      "text/plain": [
       "plot without title"
      ]
     },
     "metadata": {
      "image/png": {
       "height": 420,
       "width": 420
      }
     },
     "output_type": "display_data"
    }
   ],
   "source": [
    "#png(paste0(iopath, '/figs/sem_med2_2016gs.png'))\n",
    "med2gs_plot <- semPlot::semPaths(med.2gs.fit, \"par\",\n",
    "             sizeMan = 15, sizeInt = 15, sizeLat = 15,\n",
    "             edge.label.cex=1.5,\n",
    "             fade=FALSE, residuals=FALSE,\n",
    "             nodeLabels=c('Grass NPP', 'Shrub NPP','PPT_gs'))\n",
    "#dev.off()"
   ]
  },
  {
   "cell_type": "markdown",
   "id": "8f81aba7-8bed-4bb9-99df-cd3edc65e0a5",
   "metadata": {},
   "source": [
    "## Mediation 1, annual ppt"
   ]
  },
  {
   "cell_type": "code",
   "execution_count": 46,
   "id": "723974d2-35eb-4446-9499-5fbd6358937c",
   "metadata": {
    "vscode": {
     "languageId": "r"
    }
   },
   "outputs": [],
   "source": [
    "med.model.1ann <- \"\n",
    "  biomass.shrub ~ ann_PPT_mm + biomass.grass  \n",
    "  biomass.grass ~ ann_PPT_mm\n",
    "\"\n",
    "med.1ann.fit <- sem(med.model.1ann, data=df)"
   ]
  },
  {
   "cell_type": "code",
   "execution_count": 47,
   "id": "1732a5b9-8d86-4d4b-8ce2-afb32118edf4",
   "metadata": {
    "vscode": {
     "languageId": "r"
    }
   },
   "outputs": [
    {
     "data": {
      "text/html": [
       "<dl>\n",
       "\t<dt>$header</dt>\n",
       "\t\t<dd><dl>\n",
       "\t<dt>$lavaan.version</dt>\n",
       "\t\t<dd>'0.6-19'</dd>\n",
       "\t<dt>$sam.approach</dt>\n",
       "\t\t<dd>FALSE</dd>\n",
       "\t<dt>$optim.method</dt>\n",
       "\t\t<dd>'nlminb'</dd>\n",
       "\t<dt>$optim.iterations</dt>\n",
       "\t\t<dd>1</dd>\n",
       "\t<dt>$optim.converged</dt>\n",
       "\t\t<dd>TRUE</dd>\n",
       "</dl>\n",
       "</dd>\n",
       "\t<dt>$optim</dt>\n",
       "\t\t<dd><dl>\n",
       "\t<dt>$estimator</dt>\n",
       "\t\t<dd>'ML'</dd>\n",
       "\t<dt>$estimator.args</dt>\n",
       "\t\t<dd><ol>\n",
       "</ol>\n",
       "</dd>\n",
       "\t<dt>$optim.method</dt>\n",
       "\t\t<dd>'nlminb'</dd>\n",
       "\t<dt>$npar</dt>\n",
       "\t\t<dd>5</dd>\n",
       "\t<dt>$eq.constraints</dt>\n",
       "\t\t<dd>FALSE</dd>\n",
       "\t<dt>$nrow.ceq.jac</dt>\n",
       "\t\t<dd>0</dd>\n",
       "\t<dt>$nrow.cin.jac</dt>\n",
       "\t\t<dd>0</dd>\n",
       "\t<dt>$nrow.con.jac</dt>\n",
       "\t\t<dd>0</dd>\n",
       "\t<dt>$con.jac.rank</dt>\n",
       "\t\t<dd>0</dd>\n",
       "</dl>\n",
       "</dd>\n",
       "\t<dt>$data</dt>\n",
       "\t\t<dd><dl>\n",
       "\t<dt>$ngroups</dt>\n",
       "\t\t<dd>1</dd>\n",
       "\t<dt>$nobs</dt>\n",
       "\t\t<dd>709</dd>\n",
       "\t<dt>$norig</dt>\n",
       "\t\t<dd>827</dd>\n",
       "</dl>\n",
       "</dd>\n",
       "\t<dt>$test</dt>\n",
       "\t\t<dd><strong>$standard</strong> = <dl>\n",
       "\t<dt>$test</dt>\n",
       "\t\t<dd>'standard'</dd>\n",
       "\t<dt>$stat</dt>\n",
       "\t\t<dd>0</dd>\n",
       "\t<dt>$stat.group</dt>\n",
       "\t\t<dd>0</dd>\n",
       "\t<dt>$df</dt>\n",
       "\t\t<dd>0</dd>\n",
       "\t<dt>$refdistr</dt>\n",
       "\t\t<dd>'chisq'</dd>\n",
       "\t<dt>$pvalue</dt>\n",
       "\t\t<dd>&lt;NA&gt;</dd>\n",
       "</dl>\n",
       "</dd>\n",
       "\t<dt>$pe</dt>\n",
       "\t\t<dd><table class=\"dataframe\">\n",
       "<caption>A data.frame: 8 × 8</caption>\n",
       "<thead>\n",
       "\t<tr><th scope=col>lhs</th><th scope=col>op</th><th scope=col>rhs</th><th scope=col>exo</th><th scope=col>est</th><th scope=col>se</th><th scope=col>z</th><th scope=col>pvalue</th></tr>\n",
       "\t<tr><th scope=col>&lt;chr&gt;</th><th scope=col>&lt;chr&gt;</th><th scope=col>&lt;chr&gt;</th><th scope=col>&lt;int&gt;</th><th scope=col>&lt;dbl&gt;</th><th scope=col>&lt;dbl&gt;</th><th scope=col>&lt;dbl&gt;</th><th scope=col>&lt;dbl&gt;</th></tr>\n",
       "</thead>\n",
       "<tbody>\n",
       "\t<tr><td>biomass.shrub</td><td>~ </td><td>ann_PPT_mm   </td><td>0</td><td> 2.977996e-02</td><td>8.485102e-03</td><td>  3.509676</td><td>0.0004486537</td></tr>\n",
       "\t<tr><td>biomass.shrub</td><td>~ </td><td>biomass.grass</td><td>0</td><td>-4.914003e-01</td><td>2.565543e-02</td><td>-19.153851</td><td>0.0000000000</td></tr>\n",
       "\t<tr><td>biomass.grass</td><td>~ </td><td>ann_PPT_mm   </td><td>0</td><td> 1.626174e-01</td><td>1.081581e-02</td><td> 15.035164</td><td>0.0000000000</td></tr>\n",
       "\t<tr><td>biomass.shrub</td><td>~~</td><td>biomass.shrub</td><td>0</td><td> 1.125393e+03</td><td>5.977179e+01</td><td> 18.828170</td><td>0.0000000000</td></tr>\n",
       "\t<tr><td>biomass.grass</td><td>~~</td><td>biomass.grass</td><td>0</td><td> 2.411568e+03</td><td>1.280830e+02</td><td> 18.828170</td><td>0.0000000000</td></tr>\n",
       "\t<tr><td>ann_PPT_mm   </td><td>~~</td><td>ann_PPT_mm   </td><td>1</td><td> 2.907605e+04</td><td>0.000000e+00</td><td>        NA</td><td>          NA</td></tr>\n",
       "\t<tr><td>biomass.shrub</td><td>r2</td><td>biomass.shrub</td><td>0</td><td> 3.680386e-01</td><td>          NA</td><td>        NA</td><td>          NA</td></tr>\n",
       "\t<tr><td>biomass.grass</td><td>r2</td><td>biomass.grass</td><td>0</td><td> 2.417568e-01</td><td>          NA</td><td>        NA</td><td>          NA</td></tr>\n",
       "</tbody>\n",
       "</table>\n",
       "</dd>\n",
       "</dl>\n"
      ],
      "text/latex": [
       "\\begin{description}\n",
       "\\item[\\$header] \\begin{description}\n",
       "\\item[\\$lavaan.version] '0.6-19'\n",
       "\\item[\\$sam.approach] FALSE\n",
       "\\item[\\$optim.method] 'nlminb'\n",
       "\\item[\\$optim.iterations] 1\n",
       "\\item[\\$optim.converged] TRUE\n",
       "\\end{description}\n",
       "\n",
       "\\item[\\$optim] \\begin{description}\n",
       "\\item[\\$estimator] 'ML'\n",
       "\\item[\\$estimator.args] \\begin{enumerate}\n",
       "\\end{enumerate}\n",
       "\n",
       "\\item[\\$optim.method] 'nlminb'\n",
       "\\item[\\$npar] 5\n",
       "\\item[\\$eq.constraints] FALSE\n",
       "\\item[\\$nrow.ceq.jac] 0\n",
       "\\item[\\$nrow.cin.jac] 0\n",
       "\\item[\\$nrow.con.jac] 0\n",
       "\\item[\\$con.jac.rank] 0\n",
       "\\end{description}\n",
       "\n",
       "\\item[\\$data] \\begin{description}\n",
       "\\item[\\$ngroups] 1\n",
       "\\item[\\$nobs] 709\n",
       "\\item[\\$norig] 827\n",
       "\\end{description}\n",
       "\n",
       "\\item[\\$test] \\textbf{\\$standard} = \\begin{description}\n",
       "\\item[\\$test] 'standard'\n",
       "\\item[\\$stat] 0\n",
       "\\item[\\$stat.group] 0\n",
       "\\item[\\$df] 0\n",
       "\\item[\\$refdistr] 'chisq'\n",
       "\\item[\\$pvalue] <NA>\n",
       "\\end{description}\n",
       "\n",
       "\\item[\\$pe] A data.frame: 8 × 8\n",
       "\\begin{tabular}{llllllll}\n",
       " lhs & op & rhs & exo & est & se & z & pvalue\\\\\n",
       " <chr> & <chr> & <chr> & <int> & <dbl> & <dbl> & <dbl> & <dbl>\\\\\n",
       "\\hline\n",
       "\t biomass.shrub & \\textasciitilde{}  & ann\\_PPT\\_mm    & 0 &  2.977996e-02 & 8.485102e-03 &   3.509676 & 0.0004486537\\\\\n",
       "\t biomass.shrub & \\textasciitilde{}  & biomass.grass & 0 & -4.914003e-01 & 2.565543e-02 & -19.153851 & 0.0000000000\\\\\n",
       "\t biomass.grass & \\textasciitilde{}  & ann\\_PPT\\_mm    & 0 &  1.626174e-01 & 1.081581e-02 &  15.035164 & 0.0000000000\\\\\n",
       "\t biomass.shrub & \\textasciitilde{}\\textasciitilde{} & biomass.shrub & 0 &  1.125393e+03 & 5.977179e+01 &  18.828170 & 0.0000000000\\\\\n",
       "\t biomass.grass & \\textasciitilde{}\\textasciitilde{} & biomass.grass & 0 &  2.411568e+03 & 1.280830e+02 &  18.828170 & 0.0000000000\\\\\n",
       "\t ann\\_PPT\\_mm    & \\textasciitilde{}\\textasciitilde{} & ann\\_PPT\\_mm    & 1 &  2.907605e+04 & 0.000000e+00 &         NA &           NA\\\\\n",
       "\t biomass.shrub & r2 & biomass.shrub & 0 &  3.680386e-01 &           NA &         NA &           NA\\\\\n",
       "\t biomass.grass & r2 & biomass.grass & 0 &  2.417568e-01 &           NA &         NA &           NA\\\\\n",
       "\\end{tabular}\n",
       "\n",
       "\\end{description}\n"
      ],
      "text/markdown": [
       "$header\n",
       ":   $lavaan.version\n",
       ":   '0.6-19'\n",
       "$sam.approach\n",
       ":   FALSE\n",
       "$optim.method\n",
       ":   'nlminb'\n",
       "$optim.iterations\n",
       ":   1\n",
       "$optim.converged\n",
       ":   TRUE\n",
       "\n",
       "\n",
       "\n",
       "$optim\n",
       ":   $estimator\n",
       ":   'ML'\n",
       "$estimator.args\n",
       ":   \n",
       "\n",
       "\n",
       "$optim.method\n",
       ":   'nlminb'\n",
       "$npar\n",
       ":   5\n",
       "$eq.constraints\n",
       ":   FALSE\n",
       "$nrow.ceq.jac\n",
       ":   0\n",
       "$nrow.cin.jac\n",
       ":   0\n",
       "$nrow.con.jac\n",
       ":   0\n",
       "$con.jac.rank\n",
       ":   0\n",
       "\n",
       "\n",
       "\n",
       "$data\n",
       ":   $ngroups\n",
       ":   1\n",
       "$nobs\n",
       ":   709\n",
       "$norig\n",
       ":   827\n",
       "\n",
       "\n",
       "\n",
       "$test\n",
       ":   **$standard** = $test\n",
       ":   'standard'\n",
       "$stat\n",
       ":   0\n",
       "$stat.group\n",
       ":   0\n",
       "$df\n",
       ":   0\n",
       "$refdistr\n",
       ":   'chisq'\n",
       "$pvalue\n",
       ":   &lt;NA&gt;\n",
       "\n",
       "\n",
       "\n",
       "$pe\n",
       ":   \n",
       "A data.frame: 8 × 8\n",
       "\n",
       "| lhs &lt;chr&gt; | op &lt;chr&gt; | rhs &lt;chr&gt; | exo &lt;int&gt; | est &lt;dbl&gt; | se &lt;dbl&gt; | z &lt;dbl&gt; | pvalue &lt;dbl&gt; |\n",
       "|---|---|---|---|---|---|---|---|\n",
       "| biomass.shrub | ~  | ann_PPT_mm    | 0 |  2.977996e-02 | 8.485102e-03 |   3.509676 | 0.0004486537 |\n",
       "| biomass.shrub | ~  | biomass.grass | 0 | -4.914003e-01 | 2.565543e-02 | -19.153851 | 0.0000000000 |\n",
       "| biomass.grass | ~  | ann_PPT_mm    | 0 |  1.626174e-01 | 1.081581e-02 |  15.035164 | 0.0000000000 |\n",
       "| biomass.shrub | ~~ | biomass.shrub | 0 |  1.125393e+03 | 5.977179e+01 |  18.828170 | 0.0000000000 |\n",
       "| biomass.grass | ~~ | biomass.grass | 0 |  2.411568e+03 | 1.280830e+02 |  18.828170 | 0.0000000000 |\n",
       "| ann_PPT_mm    | ~~ | ann_PPT_mm    | 1 |  2.907605e+04 | 0.000000e+00 |         NA |           NA |\n",
       "| biomass.shrub | r2 | biomass.shrub | 0 |  3.680386e-01 |           NA |         NA |           NA |\n",
       "| biomass.grass | r2 | biomass.grass | 0 |  2.417568e-01 |           NA |         NA |           NA |\n",
       "\n",
       "\n",
       "\n",
       "\n"
      ],
      "text/plain": [
       "lavaan 0.6-19 ended normally after 1 iteration\n",
       "\n",
       "  Estimator                                         ML\n",
       "  Optimization method                           NLMINB\n",
       "  Number of model parameters                         5\n",
       "\n",
       "                                                  Used       Total\n",
       "  Number of observations                           709         827\n",
       "\n",
       "Model Test User Model:\n",
       "                                                      \n",
       "  Test statistic                                 0.000\n",
       "  Degrees of freedom                                 0\n",
       "\n",
       "Parameter Estimates:\n",
       "\n",
       "  Standard errors                             Standard\n",
       "  Information                                 Expected\n",
       "  Information saturated (h1) model          Structured\n",
       "\n",
       "Regressions:\n",
       "                   Estimate   Std.Err  z-value  P(>|z|)\n",
       "  biomass.shrub ~                                      \n",
       "    ann_PPT_mm         0.030    0.008    3.510    0.000\n",
       "    biomass.grass     -0.491    0.026  -19.154    0.000\n",
       "  biomass.grass ~                                      \n",
       "    ann_PPT_mm         0.163    0.011   15.035    0.000\n",
       "\n",
       "Variances:\n",
       "                   Estimate   Std.Err  z-value  P(>|z|)\n",
       "   .biomass.shrub   1125.393   59.772   18.828    0.000\n",
       "   .biomass.grass   2411.568  128.083   18.828    0.000\n",
       "\n",
       "R-Square:\n",
       "                   Estimate \n",
       "    biomass.shrub      0.368\n",
       "    biomass.grass      0.242\n"
      ]
     },
     "metadata": {},
     "output_type": "display_data"
    }
   ],
   "source": [
    "summary(med.1ann.fit, rsq=TRUE, standardized=F, fit.measures=F)"
   ]
  },
  {
   "cell_type": "code",
   "execution_count": 48,
   "id": "9c1a2884-4bf0-460b-bace-2d1929cd4b6e",
   "metadata": {
    "vscode": {
     "languageId": "r"
    }
   },
   "outputs": [
    {
     "data": {
      "image/png": "[encoded data removed]",
      "text/plain": [
       "plot without title"
      ]
     },
     "metadata": {
      "image/png": {
       "height": 420,
       "width": 420
      }
     },
     "output_type": "display_data"
    }
   ],
   "source": [
    "#png(paste0(iopath, '/figs/sem_med1_allann.png'))\n",
    "med1ann_plot <- semPlot::semPaths(med.1ann.fit, \"par\",\n",
    "             sizeMan = 15, sizeInt = 15, sizeLat = 15,\n",
    "             edge.label.cex=1.5,\n",
    "             fade=FALSE, residuals=FALSE,\n",
    "             nodeLabels=c('Shrub NPP', 'Grass NPP','PPT_ann'))\n",
    "#dev.off()"
   ]
  },
  {
   "cell_type": "markdown",
   "id": "b69bf43b-d42d-4471-826d-c289d5c1a209",
   "metadata": {},
   "source": [
    "## Mediation 2, annual ppt"
   ]
  },
  {
   "cell_type": "code",
   "execution_count": 49,
   "id": "8d3daefb-49e2-49c8-a883-4c72a3541734",
   "metadata": {
    "vscode": {
     "languageId": "r"
    }
   },
   "outputs": [],
   "source": [
    "med.model.2ann <- \"\n",
    "  biomass.grass ~ ann_PPT_mm + biomass.shrub  \n",
    "  biomass.shrub ~ ann_PPT_mm\n",
    "\"\n",
    "med.2ann.fit <- sem(med.model.2ann, data=df)"
   ]
  },
  {
   "cell_type": "code",
   "execution_count": 50,
   "id": "8afdbb38-5aed-43cc-a1a6-0afd77c95c25",
   "metadata": {
    "tags": [],
    "vscode": {
     "languageId": "r"
    }
   },
   "outputs": [
    {
     "data": {
      "text/html": [
       "<dl>\n",
       "\t<dt>$header</dt>\n",
       "\t\t<dd><dl>\n",
       "\t<dt>$lavaan.version</dt>\n",
       "\t\t<dd>'0.6-19'</dd>\n",
       "\t<dt>$sam.approach</dt>\n",
       "\t\t<dd>FALSE</dd>\n",
       "\t<dt>$optim.method</dt>\n",
       "\t\t<dd>'nlminb'</dd>\n",
       "\t<dt>$optim.iterations</dt>\n",
       "\t\t<dd>1</dd>\n",
       "\t<dt>$optim.converged</dt>\n",
       "\t\t<dd>TRUE</dd>\n",
       "</dl>\n",
       "</dd>\n",
       "\t<dt>$optim</dt>\n",
       "\t\t<dd><dl>\n",
       "\t<dt>$estimator</dt>\n",
       "\t\t<dd>'ML'</dd>\n",
       "\t<dt>$estimator.args</dt>\n",
       "\t\t<dd><ol>\n",
       "</ol>\n",
       "</dd>\n",
       "\t<dt>$optim.method</dt>\n",
       "\t\t<dd>'nlminb'</dd>\n",
       "\t<dt>$npar</dt>\n",
       "\t\t<dd>5</dd>\n",
       "\t<dt>$eq.constraints</dt>\n",
       "\t\t<dd>FALSE</dd>\n",
       "\t<dt>$nrow.ceq.jac</dt>\n",
       "\t\t<dd>0</dd>\n",
       "\t<dt>$nrow.cin.jac</dt>\n",
       "\t\t<dd>0</dd>\n",
       "\t<dt>$nrow.con.jac</dt>\n",
       "\t\t<dd>0</dd>\n",
       "\t<dt>$con.jac.rank</dt>\n",
       "\t\t<dd>0</dd>\n",
       "</dl>\n",
       "</dd>\n",
       "\t<dt>$data</dt>\n",
       "\t\t<dd><dl>\n",
       "\t<dt>$ngroups</dt>\n",
       "\t\t<dd>1</dd>\n",
       "\t<dt>$nobs</dt>\n",
       "\t\t<dd>709</dd>\n",
       "\t<dt>$norig</dt>\n",
       "\t\t<dd>827</dd>\n",
       "</dl>\n",
       "</dd>\n",
       "\t<dt>$test</dt>\n",
       "\t\t<dd><strong>$standard</strong> = <dl>\n",
       "\t<dt>$test</dt>\n",
       "\t\t<dd>'standard'</dd>\n",
       "\t<dt>$stat</dt>\n",
       "\t\t<dd>0</dd>\n",
       "\t<dt>$stat.group</dt>\n",
       "\t\t<dd>0</dd>\n",
       "\t<dt>$df</dt>\n",
       "\t\t<dd>0</dd>\n",
       "\t<dt>$refdistr</dt>\n",
       "\t\t<dd>'chisq'</dd>\n",
       "\t<dt>$pvalue</dt>\n",
       "\t\t<dd>&lt;NA&gt;</dd>\n",
       "</dl>\n",
       "</dd>\n",
       "\t<dt>$pe</dt>\n",
       "\t\t<dd><table class=\"dataframe\">\n",
       "<caption>A data.frame: 8 × 8</caption>\n",
       "<thead>\n",
       "\t<tr><th scope=col>lhs</th><th scope=col>op</th><th scope=col>rhs</th><th scope=col>exo</th><th scope=col>est</th><th scope=col>se</th><th scope=col>z</th><th scope=col>pvalue</th></tr>\n",
       "\t<tr><th scope=col>&lt;chr&gt;</th><th scope=col>&lt;chr&gt;</th><th scope=col>&lt;chr&gt;</th><th scope=col>&lt;int&gt;</th><th scope=col>&lt;dbl&gt;</th><th scope=col>&lt;dbl&gt;</th><th scope=col>&lt;dbl&gt;</th><th scope=col>&lt;dbl&gt;</th></tr>\n",
       "</thead>\n",
       "<tbody>\n",
       "\t<tr><td>biomass.grass</td><td>~ </td><td>ann_PPT_mm   </td><td>0</td><td> 1.278304e-01</td><td> 0.008966027</td><td> 14.257195</td><td>0.000000e+00</td></tr>\n",
       "\t<tr><td>biomass.grass</td><td>~ </td><td>biomass.shrub</td><td>0</td><td>-6.939321e-01</td><td> 0.036229379</td><td>-19.153851</td><td>0.000000e+00</td></tr>\n",
       "\t<tr><td>biomass.shrub</td><td>~ </td><td>ann_PPT_mm   </td><td>0</td><td>-5.013030e-02</td><td> 0.009101608</td><td> -5.507851</td><td>3.632414e-08</td></tr>\n",
       "\t<tr><td>biomass.grass</td><td>~~</td><td>biomass.grass</td><td>0</td><td> 1.589227e+03</td><td>84.406877002</td><td> 18.828170</td><td>0.000000e+00</td></tr>\n",
       "\t<tr><td>biomass.shrub</td><td>~~</td><td>biomass.shrub</td><td>0</td><td> 1.707725e+03</td><td>90.700530657</td><td> 18.828170</td><td>0.000000e+00</td></tr>\n",
       "\t<tr><td>ann_PPT_mm   </td><td>~~</td><td>ann_PPT_mm   </td><td>1</td><td> 2.907605e+04</td><td> 0.000000000</td><td>        NA</td><td>          NA</td></tr>\n",
       "\t<tr><td>biomass.grass</td><td>r2</td><td>biomass.grass</td><td>0</td><td> 5.003165e-01</td><td>          NA</td><td>        NA</td><td>          NA</td></tr>\n",
       "\t<tr><td>biomass.shrub</td><td>r2</td><td>biomass.shrub</td><td>0</td><td> 4.103196e-02</td><td>          NA</td><td>        NA</td><td>          NA</td></tr>\n",
       "</tbody>\n",
       "</table>\n",
       "</dd>\n",
       "</dl>\n"
      ],
      "text/latex": [
       "\\begin{description}\n",
       "\\item[\\$header] \\begin{description}\n",
       "\\item[\\$lavaan.version] '0.6-19'\n",
       "\\item[\\$sam.approach] FALSE\n",
       "\\item[\\$optim.method] 'nlminb'\n",
       "\\item[\\$optim.iterations] 1\n",
       "\\item[\\$optim.converged] TRUE\n",
       "\\end{description}\n",
       "\n",
       "\\item[\\$optim] \\begin{description}\n",
       "\\item[\\$estimator] 'ML'\n",
       "\\item[\\$estimator.args] \\begin{enumerate}\n",
       "\\end{enumerate}\n",
       "\n",
       "\\item[\\$optim.method] 'nlminb'\n",
       "\\item[\\$npar] 5\n",
       "\\item[\\$eq.constraints] FALSE\n",
       "\\item[\\$nrow.ceq.jac] 0\n",
       "\\item[\\$nrow.cin.jac] 0\n",
       "\\item[\\$nrow.con.jac] 0\n",
       "\\item[\\$con.jac.rank] 0\n",
       "\\end{description}\n",
       "\n",
       "\\item[\\$data] \\begin{description}\n",
       "\\item[\\$ngroups] 1\n",
       "\\item[\\$nobs] 709\n",
       "\\item[\\$norig] 827\n",
       "\\end{description}\n",
       "\n",
       "\\item[\\$test] \\textbf{\\$standard} = \\begin{description}\n",
       "\\item[\\$test] 'standard'\n",
       "\\item[\\$stat] 0\n",
       "\\item[\\$stat.group] 0\n",
       "\\item[\\$df] 0\n",
       "\\item[\\$refdistr] 'chisq'\n",
       "\\item[\\$pvalue] <NA>\n",
       "\\end{description}\n",
       "\n",
       "\\item[\\$pe] A data.frame: 8 × 8\n",
       "\\begin{tabular}{llllllll}\n",
       " lhs & op & rhs & exo & est & se & z & pvalue\\\\\n",
       " <chr> & <chr> & <chr> & <int> & <dbl> & <dbl> & <dbl> & <dbl>\\\\\n",
       "\\hline\n",
       "\t biomass.grass & \\textasciitilde{}  & ann\\_PPT\\_mm    & 0 &  1.278304e-01 &  0.008966027 &  14.257195 & 0.000000e+00\\\\\n",
       "\t biomass.grass & \\textasciitilde{}  & biomass.shrub & 0 & -6.939321e-01 &  0.036229379 & -19.153851 & 0.000000e+00\\\\\n",
       "\t biomass.shrub & \\textasciitilde{}  & ann\\_PPT\\_mm    & 0 & -5.013030e-02 &  0.009101608 &  -5.507851 & 3.632414e-08\\\\\n",
       "\t biomass.grass & \\textasciitilde{}\\textasciitilde{} & biomass.grass & 0 &  1.589227e+03 & 84.406877002 &  18.828170 & 0.000000e+00\\\\\n",
       "\t biomass.shrub & \\textasciitilde{}\\textasciitilde{} & biomass.shrub & 0 &  1.707725e+03 & 90.700530657 &  18.828170 & 0.000000e+00\\\\\n",
       "\t ann\\_PPT\\_mm    & \\textasciitilde{}\\textasciitilde{} & ann\\_PPT\\_mm    & 1 &  2.907605e+04 &  0.000000000 &         NA &           NA\\\\\n",
       "\t biomass.grass & r2 & biomass.grass & 0 &  5.003165e-01 &           NA &         NA &           NA\\\\\n",
       "\t biomass.shrub & r2 & biomass.shrub & 0 &  4.103196e-02 &           NA &         NA &           NA\\\\\n",
       "\\end{tabular}\n",
       "\n",
       "\\end{description}\n"
      ],
      "text/markdown": [
       "$header\n",
       ":   $lavaan.version\n",
       ":   '0.6-19'\n",
       "$sam.approach\n",
       ":   FALSE\n",
       "$optim.method\n",
       ":   'nlminb'\n",
       "$optim.iterations\n",
       ":   1\n",
       "$optim.converged\n",
       ":   TRUE\n",
       "\n",
       "\n",
       "\n",
       "$optim\n",
       ":   $estimator\n",
       ":   'ML'\n",
       "$estimator.args\n",
       ":   \n",
       "\n",
       "\n",
       "$optim.method\n",
       ":   'nlminb'\n",
       "$npar\n",
       ":   5\n",
       "$eq.constraints\n",
       ":   FALSE\n",
       "$nrow.ceq.jac\n",
       ":   0\n",
       "$nrow.cin.jac\n",
       ":   0\n",
       "$nrow.con.jac\n",
       ":   0\n",
       "$con.jac.rank\n",
       ":   0\n",
       "\n",
       "\n",
       "\n",
       "$data\n",
       ":   $ngroups\n",
       ":   1\n",
       "$nobs\n",
       ":   709\n",
       "$norig\n",
       ":   827\n",
       "\n",
       "\n",
       "\n",
       "$test\n",
       ":   **$standard** = $test\n",
       ":   'standard'\n",
       "$stat\n",
       ":   0\n",
       "$stat.group\n",
       ":   0\n",
       "$df\n",
       ":   0\n",
       "$refdistr\n",
       ":   'chisq'\n",
       "$pvalue\n",
       ":   &lt;NA&gt;\n",
       "\n",
       "\n",
       "\n",
       "$pe\n",
       ":   \n",
       "A data.frame: 8 × 8\n",
       "\n",
       "| lhs &lt;chr&gt; | op &lt;chr&gt; | rhs &lt;chr&gt; | exo &lt;int&gt; | est &lt;dbl&gt; | se &lt;dbl&gt; | z &lt;dbl&gt; | pvalue &lt;dbl&gt; |\n",
       "|---|---|---|---|---|---|---|---|\n",
       "| biomass.grass | ~  | ann_PPT_mm    | 0 |  1.278304e-01 |  0.008966027 |  14.257195 | 0.000000e+00 |\n",
       "| biomass.grass | ~  | biomass.shrub | 0 | -6.939321e-01 |  0.036229379 | -19.153851 | 0.000000e+00 |\n",
       "| biomass.shrub | ~  | ann_PPT_mm    | 0 | -5.013030e-02 |  0.009101608 |  -5.507851 | 3.632414e-08 |\n",
       "| biomass.grass | ~~ | biomass.grass | 0 |  1.589227e+03 | 84.406877002 |  18.828170 | 0.000000e+00 |\n",
       "| biomass.shrub | ~~ | biomass.shrub | 0 |  1.707725e+03 | 90.700530657 |  18.828170 | 0.000000e+00 |\n",
       "| ann_PPT_mm    | ~~ | ann_PPT_mm    | 1 |  2.907605e+04 |  0.000000000 |         NA |           NA |\n",
       "| biomass.grass | r2 | biomass.grass | 0 |  5.003165e-01 |           NA |         NA |           NA |\n",
       "| biomass.shrub | r2 | biomass.shrub | 0 |  4.103196e-02 |           NA |         NA |           NA |\n",
       "\n",
       "\n",
       "\n",
       "\n"
      ],
      "text/plain": [
       "lavaan 0.6-19 ended normally after 1 iteration\n",
       "\n",
       "  Estimator                                         ML\n",
       "  Optimization method                           NLMINB\n",
       "  Number of model parameters                         5\n",
       "\n",
       "                                                  Used       Total\n",
       "  Number of observations                           709         827\n",
       "\n",
       "Model Test User Model:\n",
       "                                                      \n",
       "  Test statistic                                 0.000\n",
       "  Degrees of freedom                                 0\n",
       "\n",
       "Parameter Estimates:\n",
       "\n",
       "  Standard errors                             Standard\n",
       "  Information                                 Expected\n",
       "  Information saturated (h1) model          Structured\n",
       "\n",
       "Regressions:\n",
       "                   Estimate   Std.Err  z-value  P(>|z|)\n",
       "  biomass.grass ~                                      \n",
       "    ann_PPT_mm         0.128    0.009   14.257    0.000\n",
       "    biomass.shrub     -0.694    0.036  -19.154    0.000\n",
       "  biomass.shrub ~                                      \n",
       "    ann_PPT_mm        -0.050    0.009   -5.508    0.000\n",
       "\n",
       "Variances:\n",
       "                   Estimate   Std.Err  z-value  P(>|z|)\n",
       "   .biomass.grass   1589.227   84.407   18.828    0.000\n",
       "   .biomass.shrub   1707.725   90.701   18.828    0.000\n",
       "\n",
       "R-Square:\n",
       "                   Estimate \n",
       "    biomass.grass      0.500\n",
       "    biomass.shrub      0.041\n"
      ]
     },
     "metadata": {},
     "output_type": "display_data"
    }
   ],
   "source": [
    "summary(med.2ann.fit, rsq=TRUE, standardized=F, fit.measures=F)"
   ]
  },
  {
   "cell_type": "code",
   "execution_count": 51,
   "id": "19305126-19c7-4b4a-acf3-80f47b2fec6f",
   "metadata": {
    "vscode": {
     "languageId": "r"
    }
   },
   "outputs": [
    {
     "data": {
      "image/png": "[encoded data removed]",
      "text/plain": [
       "plot without title"
      ]
     },
     "metadata": {
      "image/png": {
       "height": 420,
       "width": 420
      }
     },
     "output_type": "display_data"
    }
   ],
   "source": [
    "#png(paste0(iopath, '/figs/sem_med2_allann.png'))\n",
    "med2ann_plot <- semPlot::semPaths(med.2ann.fit, \"par\",\n",
    "             sizeMan = 15, sizeInt = 15, sizeLat = 15,\n",
    "             edge.label.cex=1.5,\n",
    "             fade=FALSE, residuals=FALSE,\n",
    "             nodeLabels=c('Grass NPP', 'Shrub NPP','PPT_ann'))\n",
    "#dev.off()"
   ]
  },
  {
   "cell_type": "markdown",
   "id": "87c3a4e7-8df5-4168-a0a0-219dc97caf49",
   "metadata": {},
   "source": [
    "## Mediation 1, annual ppt, 2016 +"
   ]
  },
  {
   "cell_type": "code",
   "execution_count": 53,
   "id": "99c9ea5e-7ba2-44ee-98a3-15b7cdd2b83a",
   "metadata": {
    "vscode": {
     "languageId": "r"
    }
   },
   "outputs": [],
   "source": [
    "med.model.1gs <- \"\n",
    "  biomass.shrub ~ ann_PPT_mm + biomass.grass  \n",
    "  biomass.grass ~ ann_PPT_mm\n",
    "\"\n",
    "med.1ann.fit <- sem(med.model.1ann, data=df2)"
   ]
  },
  {
   "cell_type": "code",
   "execution_count": 30,
   "id": "5c2effaf-80b8-4b34-9f9f-fb66176b7f6d",
   "metadata": {
    "vscode": {
     "languageId": "r"
    }
   },
   "outputs": [
    {
     "name": "stdout",
     "output_type": "stream",
     "text": [
      "lavaan 0.6-9 ended normally after 16 iterations\n",
      "\n",
      "  Estimator                                         ML\n",
      "  Optimization method                           NLMINB\n",
      "  Number of model parameters                         5\n",
      "                                                      \n",
      "                                                  Used       Total\n",
      "  Number of observations                           144         180\n",
      "                                                                  \n",
      "Model Test User Model:\n",
      "                                                      \n",
      "  Test statistic                                 0.000\n",
      "  Degrees of freedom                                 0\n",
      "\n",
      "Parameter Estimates:\n",
      "\n",
      "  Standard errors                             Standard\n",
      "  Information                                 Expected\n",
      "  Information saturated (h1) model          Structured\n",
      "\n",
      "Regressions:\n",
      "                   Estimate   Std.Err  z-value  P(>|z|)\n",
      "  biomass.shrub ~                                      \n",
      "    ann_PPT_mm        -0.123    0.021   -5.934    0.000\n",
      "    biomass.grass      0.185    0.084    2.215    0.027\n",
      "  biomass.grass ~                                      \n",
      "    ann_PPT_mm         0.179    0.014   12.612    0.000\n",
      "\n",
      "Variances:\n",
      "                   Estimate   Std.Err  z-value  P(>|z|)\n",
      "   .biomass.shrub    866.006  102.060    8.485    0.000\n",
      "   .biomass.grass    859.759  101.324    8.485    0.000\n",
      "\n",
      "R-Square:\n",
      "                   Estimate \n",
      "    biomass.shrub      0.236\n",
      "    biomass.grass      0.525\n",
      "\n"
     ]
    }
   ],
   "source": [
    "summary(med.1ann.fit, rsq=TRUE, standardized=F, fit.measures=F)"
   ]
  },
  {
   "cell_type": "code",
   "execution_count": 31,
   "id": "ed3de04b-8be8-46d1-a1d4-abf3e26caf4e",
   "metadata": {
    "vscode": {
     "languageId": "r"
    }
   },
   "outputs": [
    {
     "data": {
      "text/html": [
       "<strong>png:</strong> 2"
      ],
      "text/latex": [
       "\\textbf{png:} 2"
      ],
      "text/markdown": [
       "**png:** 2"
      ],
      "text/plain": [
       "png \n",
       "  2 "
      ]
     },
     "metadata": {},
     "output_type": "display_data"
    }
   ],
   "source": [
    "png(paste0(iopath, '/figs/sem_med1_2016ann.png'))\n",
    "med1ann_plot <- semPlot::semPaths(med.1ann.fit, \"par\",\n",
    "             sizeMan = 15, sizeInt = 15, sizeLat = 15,\n",
    "             edge.label.cex=1.5,\n",
    "             fade=FALSE, residuals=FALSE,\n",
    "             nodeLabels=c('Shrub NPP', 'Grass NPP','PPT_ann'))\n",
    "dev.off()"
   ]
  },
  {
   "cell_type": "markdown",
   "id": "651a5559-5395-4b50-b1f7-74d79080aab9",
   "metadata": {},
   "source": [
    "## Mediation 2, annual ppt, 2016+"
   ]
  },
  {
   "cell_type": "code",
   "execution_count": 32,
   "id": "48fd8c71-f8f0-479a-9130-62a885c241f1",
   "metadata": {
    "vscode": {
     "languageId": "r"
    }
   },
   "outputs": [],
   "source": [
    "med.model.2ann <- \"\n",
    "  biomass.grass ~ ann_PPT_mm + biomass.shrub  \n",
    "  biomass.shrub ~ ann_PPT_mm\n",
    "\"\n",
    "med.2ann.fit <- sem(med.model.2ann, data=df2)"
   ]
  },
  {
   "cell_type": "code",
   "execution_count": 33,
   "id": "898df856-25c5-4549-884a-6f1a104b6577",
   "metadata": {
    "tags": [],
    "vscode": {
     "languageId": "r"
    }
   },
   "outputs": [
    {
     "name": "stdout",
     "output_type": "stream",
     "text": [
      "lavaan 0.6-9 ended normally after 16 iterations\n",
      "\n",
      "  Estimator                                         ML\n",
      "  Optimization method                           NLMINB\n",
      "  Number of model parameters                         5\n",
      "                                                      \n",
      "                                                  Used       Total\n",
      "  Number of observations                           144         180\n",
      "                                                                  \n",
      "Model Test User Model:\n",
      "                                                      \n",
      "  Test statistic                                 0.000\n",
      "  Degrees of freedom                                 0\n",
      "\n",
      "Parameter Estimates:\n",
      "\n",
      "  Standard errors                             Standard\n",
      "  Information                                 Expected\n",
      "  Information saturated (h1) model          Structured\n",
      "\n",
      "Regressions:\n",
      "                   Estimate   Std.Err  z-value  P(>|z|)\n",
      "  biomass.grass ~                                      \n",
      "    ann_PPT_mm         0.195    0.016   12.416    0.000\n",
      "    biomass.shrub      0.178    0.080    2.215    0.027\n",
      "  biomass.shrub ~                                      \n",
      "    ann_PPT_mm        -0.090    0.014   -6.177    0.000\n",
      "\n",
      "Variances:\n",
      "                   Estimate   Std.Err  z-value  P(>|z|)\n",
      "   .biomass.grass    831.437   97.986    8.485    0.000\n",
      "   .biomass.shrub    895.507  105.536    8.485    0.000\n",
      "\n",
      "R-Square:\n",
      "                   Estimate \n",
      "    biomass.grass      0.540\n",
      "    biomass.shrub      0.209\n",
      "\n"
     ]
    }
   ],
   "source": [
    "summary(med.2ann.fit, rsq=TRUE, standardized=F, fit.measures=F)"
   ]
  },
  {
   "cell_type": "code",
   "execution_count": 34,
   "id": "dfeea004-5e91-4409-971b-59649b9c0567",
   "metadata": {
    "vscode": {
     "languageId": "r"
    }
   },
   "outputs": [
    {
     "data": {
      "text/html": [
       "<strong>png:</strong> 2"
      ],
      "text/latex": [
       "\\textbf{png:} 2"
      ],
      "text/markdown": [
       "**png:** 2"
      ],
      "text/plain": [
       "png \n",
       "  2 "
      ]
     },
     "metadata": {},
     "output_type": "display_data"
    }
   ],
   "source": [
    "png(paste0(iopath, '/figs/sem_med2_2016ann.png'))\n",
    "med2ann_plot <- semPlot::semPaths(med.2ann.fit, \"par\",\n",
    "             sizeMan = 15, sizeInt = 15, sizeLat = 15,\n",
    "             edge.label.cex=1.5,\n",
    "             fade=FALSE, residuals=FALSE,\n",
    "             nodeLabels=c('Grass NPP', 'Shrub NPP','PPT_ann'))\n",
    "dev.off()"
   ]
  },
  {
   "cell_type": "markdown",
   "id": "bae87a02-b51d-4e9d-9a34-1e94f415b090",
   "metadata": {},
   "source": [
    "## More complex models\n",
    "\n",
    "including with soil moisture"
   ]
  },
  {
   "cell_type": "markdown",
   "id": "588e763c-21a6-499f-90ca-74bc43b1c170",
   "metadata": {},
   "source": [
    "### Deep soil mediates"
   ]
  },
  {
   "cell_type": "code",
   "execution_count": 35,
   "id": "f3ec1477-84b4-4006-acdb-5b1dd199178c",
   "metadata": {
    "vscode": {
     "languageId": "r"
    }
   },
   "outputs": [
    {
     "name": "stderr",
     "output_type": "stream",
     "text": [
      "Warning message in lav_data_full(data = data, group = group, cluster = cluster, :\n",
      "“lavaan WARNING: some observed variances are (at least) a factor 1000 times larger than others; use varTable(fit) to investigate”\n",
      "Warning message in lav_model_vcov(lavmodel = lavmodel, lavsamplestats = lavsamplestats, :\n",
      "“lavaan WARNING:\n",
      "    Could not compute standard errors! The information matrix could\n",
      "    not be inverted. This may be a symptom that the model is not\n",
      "    identified.”\n"
     ]
    }
   ],
   "source": [
    "test.model <- \"\n",
    "  biomass.grass ~ gs_PPT_mm + biomass.shrub + surf + deep\n",
    "  biomass.shrub ~ gs_PPT_mm + biomass.grass + surf + deep\n",
    "  deep ~ gs_PPT_mm + surf\n",
    "  surf ~ gs_PPT_mm\n",
    "\"\n",
    "test.fit <- sem(test.model, data=df2)"
   ]
  },
  {
   "cell_type": "code",
   "execution_count": 36,
   "id": "56f7c7d5-749d-4d27-a565-009a664abd82",
   "metadata": {
    "vscode": {
     "languageId": "r"
    }
   },
   "outputs": [
    {
     "name": "stdout",
     "output_type": "stream",
     "text": [
      "lavaan 0.6-9 ended normally after 146 iterations\n",
      "\n",
      "  Estimator                                         ML\n",
      "  Optimization method                           NLMINB\n",
      "  Number of model parameters                        15\n",
      "                                                      \n",
      "                                                  Used       Total\n",
      "  Number of observations                            26         180\n",
      "                                                                  \n",
      "Model Test User Model:\n",
      "                                                      \n",
      "  Test statistic                                    NA\n",
      "  Degrees of freedom                                -1\n",
      "  P-value (Unknown)                                 NA\n",
      "\n",
      "Parameter Estimates:\n",
      "\n",
      "  Standard errors                             Standard\n",
      "  Information                                 Expected\n",
      "  Information saturated (h1) model          Structured\n",
      "\n",
      "Regressions:\n",
      "                   Estimate  Std.Err  z-value  P(>|z|)\n",
      "  biomass.grass ~                                     \n",
      "    gs_PPT_mm         0.385       NA                  \n",
      "    biomass.shrub    -0.054       NA                  \n",
      "    surf           -294.999       NA                  \n",
      "    deep            902.792       NA                  \n",
      "  biomass.shrub ~                                     \n",
      "    gs_PPT_mm        -0.434       NA                  \n",
      "    biomass.grass     0.632       NA                  \n",
      "    surf           -661.957       NA                  \n",
      "    deep            322.757       NA                  \n",
      "  deep ~                                              \n",
      "    gs_PPT_mm        -0.000       NA                  \n",
      "    surf              0.312       NA                  \n",
      "  surf ~                                              \n",
      "    gs_PPT_mm        -0.000       NA                  \n",
      "\n",
      "Variances:\n",
      "                   Estimate  Std.Err  z-value  P(>|z|)\n",
      "   .biomass.grass   381.353       NA                  \n",
      "   .biomass.shrub   835.425       NA                  \n",
      "   .deep              0.000       NA                  \n",
      "   .surf              0.000       NA                  \n",
      "\n"
     ]
    }
   ],
   "source": [
    "summary(test.fit)"
   ]
  },
  {
   "cell_type": "code",
   "execution_count": 37,
   "id": "b77d01a3-5a4f-4af9-83e0-d17798f664a0",
   "metadata": {
    "vscode": {
     "languageId": "r"
    }
   },
   "outputs": [
    {
     "data": {
      "text/html": [
       "<strong>png:</strong> 2"
      ],
      "text/latex": [
       "\\textbf{png:} 2"
      ],
      "text/markdown": [
       "**png:** 2"
      ],
      "text/plain": [
       "png \n",
       "  2 "
      ]
     },
     "metadata": {},
     "output_type": "display_data"
    }
   ],
   "source": [
    "png(paste0(iopath, '/figs/sem_deep_surf_1.png'))\n",
    "t1 <- semPlot::semPaths(test.fit, \"par\",\n",
    "             #sizeMan = 15, sizeInt = 15, sizeLat = 15,\n",
    "             width=10, height=6,\n",
    "             fade=FALSE, residuals=FALSE)\n",
    "             #nodeLabels=c('Grass NPP', 'Shrub NPP','PPT_gs'))\n",
    "dev.off()"
   ]
  },
  {
   "cell_type": "markdown",
   "id": "ebf4ae7a",
   "metadata": {},
   "source": [
    "## Time series of SEM\n",
    "\n",
    "(Annual ppt, Mediation 1 - grass mediates)"
   ]
  },
  {
   "cell_type": "code",
   "execution_count": 38,
   "id": "a1a9c8e8",
   "metadata": {
    "vscode": {
     "languageId": "r"
    }
   },
   "outputs": [
    {
     "data": {
      "text/html": [
       "<table class=\"dataframe\">\n",
       "<caption>A tibble: 6 × 22</caption>\n",
       "<thead>\n",
       "\t<tr><th scope=col>year</th><th scope=col>plot</th><th scope=col>water</th><th scope=col>N</th><th scope=col>biomass.grass</th><th scope=col>biomass.rare</th><th scope=col>biomass.shrub</th><th scope=col>cover.grass</th><th scope=col>cover.rare</th><th scope=col>cover.shrub</th><th scope=col>⋯</th><th scope=col>PPT treatment</th><th scope=col>ann_PPT_mm</th><th scope=col>gs_PPT_mm</th><th scope=col>shrubratio</th><th scope=col>RUEann_tot</th><th scope=col>RUEgs_tot</th><th scope=col>RUEgs_shrub</th><th scope=col>RUEgs_grass</th><th scope=col>deep</th><th scope=col>surf</th></tr>\n",
       "\t<tr><th scope=col>&lt;dbl&gt;</th><th scope=col>&lt;dbl&gt;</th><th scope=col>&lt;dbl&gt;</th><th scope=col>&lt;dbl&gt;</th><th scope=col>&lt;dbl&gt;</th><th scope=col>&lt;dbl&gt;</th><th scope=col>&lt;dbl&gt;</th><th scope=col>&lt;dbl&gt;</th><th scope=col>&lt;dbl&gt;</th><th scope=col>&lt;dbl&gt;</th><th scope=col>⋯</th><th scope=col>&lt;chr&gt;</th><th scope=col>&lt;dbl&gt;</th><th scope=col>&lt;dbl&gt;</th><th scope=col>&lt;dbl&gt;</th><th scope=col>&lt;dbl&gt;</th><th scope=col>&lt;dbl&gt;</th><th scope=col>&lt;dbl&gt;</th><th scope=col>&lt;dbl&gt;</th><th scope=col>&lt;dbl&gt;</th><th scope=col>&lt;dbl&gt;</th></tr>\n",
       "</thead>\n",
       "<tbody>\n",
       "\t<tr><td>2020</td><td>223</td><td>5</td><td>0</td><td>32.06352</td><td> 1.337754</td><td>133.73077</td><td>0.12119565</td><td>0.007246377</td><td>0.7243961</td><td>⋯</td><td>+80%</td><td>NA</td><td>NA</td><td>0.8001504</td><td>NA</td><td>NA</td><td>NA</td><td>NA</td><td>0.10784310</td><td>       NaN</td></tr>\n",
       "\t<tr><td>2020</td><td>236</td><td>5</td><td>1</td><td>22.69076</td><td>12.433923</td><td> 80.16421</td><td>0.08576792</td><td>0.067352380</td><td>0.4342355</td><td>⋯</td><td>+80%</td><td>NA</td><td>NA</td><td>0.6953333</td><td>NA</td><td>NA</td><td>NA</td><td>NA</td><td>        NA</td><td>        NA</td></tr>\n",
       "\t<tr><td>2020</td><td>310</td><td>5</td><td>1</td><td>27.27716</td><td> 0.000000</td><td> 87.63501</td><td>0.10310387</td><td>0.000000000</td><td>0.4747035</td><td>⋯</td><td>+80%</td><td>NA</td><td>NA</td><td>0.7626260</td><td>NA</td><td>NA</td><td>NA</td><td>NA</td><td>        NA</td><td>        NA</td></tr>\n",
       "\t<tr><td>2020</td><td>326</td><td>5</td><td>0</td><td>33.45929</td><td> 6.822884</td><td> 50.65404</td><td>0.12647147</td><td>0.036958369</td><td>0.2743840</td><td>⋯</td><td>+80%</td><td>NA</td><td>NA</td><td>0.5570282</td><td>NA</td><td>NA</td><td>NA</td><td>NA</td><td>0.04183139</td><td>0.07079994</td></tr>\n",
       "\t<tr><td>2020</td><td>329</td><td>5</td><td>1</td><td>16.77628</td><td> 9.739633</td><td>163.48350</td><td>0.06341201</td><td>0.052757882</td><td>0.8855614</td><td>⋯</td><td>+80%</td><td>NA</td><td>NA</td><td>0.8604421</td><td>NA</td><td>NA</td><td>NA</td><td>NA</td><td>        NA</td><td>        NA</td></tr>\n",
       "\t<tr><td>2020</td><td>341</td><td>5</td><td>0</td><td>28.30464</td><td> 3.356545</td><td>102.34425</td><td>0.10698760</td><td>0.018181818</td><td>0.5543808</td><td>⋯</td><td>+80%</td><td>NA</td><td>NA</td><td>0.7637321</td><td>NA</td><td>NA</td><td>NA</td><td>NA</td><td>0.07514428</td><td>       NaN</td></tr>\n",
       "</tbody>\n",
       "</table>\n"
      ],
      "text/latex": [
       "A tibble: 6 × 22\n",
       "\\begin{tabular}{lllllllllllllllllllll}\n",
       " year & plot & water & N & biomass.grass & biomass.rare & biomass.shrub & cover.grass & cover.rare & cover.shrub & ⋯ & PPT treatment & ann\\_PPT\\_mm & gs\\_PPT\\_mm & shrubratio & RUEann\\_tot & RUEgs\\_tot & RUEgs\\_shrub & RUEgs\\_grass & deep & surf\\\\\n",
       " <dbl> & <dbl> & <dbl> & <dbl> & <dbl> & <dbl> & <dbl> & <dbl> & <dbl> & <dbl> & ⋯ & <chr> & <dbl> & <dbl> & <dbl> & <dbl> & <dbl> & <dbl> & <dbl> & <dbl> & <dbl>\\\\\n",
       "\\hline\n",
       "\t 2020 & 223 & 5 & 0 & 32.06352 &  1.337754 & 133.73077 & 0.12119565 & 0.007246377 & 0.7243961 & ⋯ & +80\\% & NA & NA & 0.8001504 & NA & NA & NA & NA & 0.10784310 &        NaN\\\\\n",
       "\t 2020 & 236 & 5 & 1 & 22.69076 & 12.433923 &  80.16421 & 0.08576792 & 0.067352380 & 0.4342355 & ⋯ & +80\\% & NA & NA & 0.6953333 & NA & NA & NA & NA &         NA &         NA\\\\\n",
       "\t 2020 & 310 & 5 & 1 & 27.27716 &  0.000000 &  87.63501 & 0.10310387 & 0.000000000 & 0.4747035 & ⋯ & +80\\% & NA & NA & 0.7626260 & NA & NA & NA & NA &         NA &         NA\\\\\n",
       "\t 2020 & 326 & 5 & 0 & 33.45929 &  6.822884 &  50.65404 & 0.12647147 & 0.036958369 & 0.2743840 & ⋯ & +80\\% & NA & NA & 0.5570282 & NA & NA & NA & NA & 0.04183139 & 0.07079994\\\\\n",
       "\t 2020 & 329 & 5 & 1 & 16.77628 &  9.739633 & 163.48350 & 0.06341201 & 0.052757882 & 0.8855614 & ⋯ & +80\\% & NA & NA & 0.8604421 & NA & NA & NA & NA &         NA &         NA\\\\\n",
       "\t 2020 & 341 & 5 & 0 & 28.30464 &  3.356545 & 102.34425 & 0.10698760 & 0.018181818 & 0.5543808 & ⋯ & +80\\% & NA & NA & 0.7637321 & NA & NA & NA & NA & 0.07514428 &        NaN\\\\\n",
       "\\end{tabular}\n"
      ],
      "text/markdown": [
       "\n",
       "A tibble: 6 × 22\n",
       "\n",
       "| year &lt;dbl&gt; | plot &lt;dbl&gt; | water &lt;dbl&gt; | N &lt;dbl&gt; | biomass.grass &lt;dbl&gt; | biomass.rare &lt;dbl&gt; | biomass.shrub &lt;dbl&gt; | cover.grass &lt;dbl&gt; | cover.rare &lt;dbl&gt; | cover.shrub &lt;dbl&gt; | ⋯ ⋯ | PPT treatment &lt;chr&gt; | ann_PPT_mm &lt;dbl&gt; | gs_PPT_mm &lt;dbl&gt; | shrubratio &lt;dbl&gt; | RUEann_tot &lt;dbl&gt; | RUEgs_tot &lt;dbl&gt; | RUEgs_shrub &lt;dbl&gt; | RUEgs_grass &lt;dbl&gt; | deep &lt;dbl&gt; | surf &lt;dbl&gt; |\n",
       "|---|---|---|---|---|---|---|---|---|---|---|---|---|---|---|---|---|---|---|---|---|\n",
       "| 2020 | 223 | 5 | 0 | 32.06352 |  1.337754 | 133.73077 | 0.12119565 | 0.007246377 | 0.7243961 | ⋯ | +80% | NA | NA | 0.8001504 | NA | NA | NA | NA | 0.10784310 |        NaN |\n",
       "| 2020 | 236 | 5 | 1 | 22.69076 | 12.433923 |  80.16421 | 0.08576792 | 0.067352380 | 0.4342355 | ⋯ | +80% | NA | NA | 0.6953333 | NA | NA | NA | NA |         NA |         NA |\n",
       "| 2020 | 310 | 5 | 1 | 27.27716 |  0.000000 |  87.63501 | 0.10310387 | 0.000000000 | 0.4747035 | ⋯ | +80% | NA | NA | 0.7626260 | NA | NA | NA | NA |         NA |         NA |\n",
       "| 2020 | 326 | 5 | 0 | 33.45929 |  6.822884 |  50.65404 | 0.12647147 | 0.036958369 | 0.2743840 | ⋯ | +80% | NA | NA | 0.5570282 | NA | NA | NA | NA | 0.04183139 | 0.07079994 |\n",
       "| 2020 | 329 | 5 | 1 | 16.77628 |  9.739633 | 163.48350 | 0.06341201 | 0.052757882 | 0.8855614 | ⋯ | +80% | NA | NA | 0.8604421 | NA | NA | NA | NA |         NA |         NA |\n",
       "| 2020 | 341 | 5 | 0 | 28.30464 |  3.356545 | 102.34425 | 0.10698760 | 0.018181818 | 0.5543808 | ⋯ | +80% | NA | NA | 0.7637321 | NA | NA | NA | NA | 0.07514428 |        NaN |\n",
       "\n"
      ],
      "text/plain": [
       "  year plot water N biomass.grass biomass.rare biomass.shrub cover.grass\n",
       "1 2020 223  5     0 32.06352       1.337754    133.73077     0.12119565 \n",
       "2 2020 236  5     1 22.69076      12.433923     80.16421     0.08576792 \n",
       "3 2020 310  5     1 27.27716       0.000000     87.63501     0.10310387 \n",
       "4 2020 326  5     0 33.45929       6.822884     50.65404     0.12647147 \n",
       "5 2020 329  5     1 16.77628       9.739633    163.48350     0.06341201 \n",
       "6 2020 341  5     0 28.30464       3.356545    102.34425     0.10698760 \n",
       "  cover.rare  cover.shrub ⋯ PPT treatment ann_PPT_mm gs_PPT_mm shrubratio\n",
       "1 0.007246377 0.7243961   ⋯ +80%          NA         NA        0.8001504 \n",
       "2 0.067352380 0.4342355   ⋯ +80%          NA         NA        0.6953333 \n",
       "3 0.000000000 0.4747035   ⋯ +80%          NA         NA        0.7626260 \n",
       "4 0.036958369 0.2743840   ⋯ +80%          NA         NA        0.5570282 \n",
       "5 0.052757882 0.8855614   ⋯ +80%          NA         NA        0.8604421 \n",
       "6 0.018181818 0.5543808   ⋯ +80%          NA         NA        0.7637321 \n",
       "  RUEann_tot RUEgs_tot RUEgs_shrub RUEgs_grass deep       surf      \n",
       "1 NA         NA        NA          NA          0.10784310        NaN\n",
       "2 NA         NA        NA          NA                  NA         NA\n",
       "3 NA         NA        NA          NA                  NA         NA\n",
       "4 NA         NA        NA          NA          0.04183139 0.07079994\n",
       "5 NA         NA        NA          NA                  NA         NA\n",
       "6 NA         NA        NA          NA          0.07514428        NaN"
      ]
     },
     "metadata": {},
     "output_type": "display_data"
    }
   ],
   "source": [
    "tail(df)"
   ]
  },
  {
   "cell_type": "code",
   "execution_count": 39,
   "id": "76536951",
   "metadata": {
    "vscode": {
     "languageId": "r"
    }
   },
   "outputs": [
    {
     "data": {
      "text/html": [
       "<style>\n",
       ".list-inline {list-style: none; margin:0; padding: 0}\n",
       ".list-inline>li {display: inline-block}\n",
       ".list-inline>li:not(:last-child)::after {content: \"\\00b7\"; padding: 0 .5ex}\n",
       "</style>\n",
       "<ol class=list-inline><li>2008</li><li>2011</li><li>2014</li><li>2017</li><li>2020</li></ol>\n"
      ],
      "text/latex": [
       "\\begin{enumerate*}\n",
       "\\item 2008\n",
       "\\item 2011\n",
       "\\item 2014\n",
       "\\item 2017\n",
       "\\item 2020\n",
       "\\end{enumerate*}\n"
      ],
      "text/markdown": [
       "1. 2008\n",
       "2. 2011\n",
       "3. 2014\n",
       "4. 2017\n",
       "5. 2020\n",
       "\n",
       "\n"
      ],
      "text/plain": [
       "[1] 2008 2011 2014 2017 2020"
      ]
     },
     "metadata": {},
     "output_type": "display_data"
    }
   ],
   "source": [
    "\n",
    "seq(2008, 2020, by=3)"
   ]
  },
  {
   "cell_type": "code",
   "execution_count": 40,
   "id": "9b0b623b",
   "metadata": {
    "vscode": {
     "languageId": "r"
    }
   },
   "outputs": [
    {
     "name": "stderr",
     "output_type": "stream",
     "text": [
      "Warning message in `[<-`(`*tmp*`, i, value = med.1ann.fit):\n",
      "“implicit list embedding of S4 objects is deprecated”\n",
      "Warning message in `[<-`(`*tmp*`, i, value = med.1ann.fit):\n",
      "“implicit list embedding of S4 objects is deprecated”\n",
      "Warning message in `[<-`(`*tmp*`, i, value = med.1ann.fit):\n",
      "“implicit list embedding of S4 objects is deprecated”\n",
      "Warning message in `[<-`(`*tmp*`, i, value = med.1ann.fit):\n",
      "“implicit list embedding of S4 objects is deprecated”\n",
      "Warning message in `[<-`(`*tmp*`, i, value = med.1ann.fit):\n",
      "“implicit list embedding of S4 objects is deprecated”\n"
     ]
    }
   ],
   "source": [
    "yincrements = 3\n",
    "startyrs = seq(2006, 2020, by=3)\n",
    "endyrs = seq(2008, 2020, by=3)\n",
    "fitteds = list()\n",
    "for (i in 1:length(startyrs)){\n",
    "    sty <- startyrs[i]\n",
    "    endy <- endyrs[i]\n",
    "    dfy <- df %>% filter(year >= sty & year <= endy)\n",
    "    \n",
    "    med.model.1ann <- \"\n",
    "        biomass.shrub ~ ann_PPT_mm + biomass.grass  \n",
    "        biomass.grass ~ ann_PPT_mm\n",
    "    \"\n",
    "    med.1ann.fit <- sem(med.model.1ann, data=dfy)\n",
    "    png(paste0(iopath, '/figs/sem_med1_gs_', sty, '-', endy, '.png'))\n",
    "    medy_plot <- semPlot::semPaths(med.1ann.fit, \"par\",\n",
    "             sizeMan = 15, sizeInt = 15, sizeLat = 15,\n",
    "             edge.label.cex=1.5,\n",
    "             fade=FALSE, residuals=FALSE,\n",
    "             nodeLabels=c('Shrub NPP', 'Grass NPP','PPT_ann'))\n",
    "    fitteds[i] <- med.1ann.fit\n",
    "    dev.off()\n",
    "}\n"
   ]
  },
  {
   "cell_type": "code",
   "execution_count": 55,
   "id": "dedee740-1c69-4d0c-924a-447e0d697d62",
   "metadata": {
    "vscode": {
     "languageId": "r"
    }
   },
   "outputs": [
    {
     "name": "stdout",
     "output_type": "stream",
     "text": [
      "lavaan 0.6-9 ended normally after 18 iterations\n",
      "\n",
      "  Estimator                                         ML\n",
      "  Optimization method                           NLMINB\n",
      "  Number of model parameters                         5\n",
      "                                                      \n",
      "                                                  Used       Total\n",
      "  Number of observations                            72         108\n",
      "                                                                  \n",
      "Model Test User Model:\n",
      "                                                      \n",
      "  Test statistic                                 0.000\n",
      "  Degrees of freedom                                 0\n",
      "\n",
      "Parameter Estimates:\n",
      "\n",
      "  Standard errors                             Standard\n",
      "  Information                                 Expected\n",
      "  Information saturated (h1) model          Structured\n",
      "\n",
      "Regressions:\n",
      "                   Estimate   Std.Err  z-value  P(>|z|)\n",
      "  biomass.shrub ~                                      \n",
      "    ann_PPT_mm        -0.128    0.029   -4.382    0.000\n",
      "    biomass.grass      0.319    0.139    2.299    0.022\n",
      "  biomass.grass ~                                      \n",
      "    ann_PPT_mm         0.149    0.018    8.406    0.000\n",
      "\n",
      "Variances:\n",
      "                   Estimate   Std.Err  z-value  P(>|z|)\n",
      "   .biomass.shrub    921.220  153.537    6.000    0.000\n",
      "   .biomass.grass    663.425  110.571    6.000    0.000\n",
      "\n",
      "R-Square:\n",
      "                   Estimate \n",
      "    biomass.shrub      0.221\n",
      "    biomass.grass      0.495\n",
      "\n"
     ]
    }
   ],
   "source": [
    "summary(fitteds[[5]], rsq=TRUE, standardized=F, fit.measures=F)\n"
   ]
  },
  {
   "cell_type": "code",
   "execution_count": 43,
   "id": "35553c89",
   "metadata": {
    "vscode": {
     "languageId": "r"
    }
   },
   "outputs": [
    {
     "data": {
      "text/html": [
       "<table class=\"dataframe\">\n",
       "<caption>A spec_tbl_df: 108 × 22</caption>\n",
       "<thead>\n",
       "\t<tr><th scope=col>year</th><th scope=col>plot</th><th scope=col>water</th><th scope=col>N</th><th scope=col>biomass.grass</th><th scope=col>biomass.rare</th><th scope=col>biomass.shrub</th><th scope=col>cover.grass</th><th scope=col>cover.rare</th><th scope=col>cover.shrub</th><th scope=col>⋯</th><th scope=col>PPT treatment</th><th scope=col>ann_PPT_mm</th><th scope=col>gs_PPT_mm</th><th scope=col>shrubratio</th><th scope=col>RUEann_tot</th><th scope=col>RUEgs_tot</th><th scope=col>RUEgs_shrub</th><th scope=col>RUEgs_grass</th><th scope=col>deep</th><th scope=col>surf</th></tr>\n",
       "\t<tr><th scope=col>&lt;dbl&gt;</th><th scope=col>&lt;dbl&gt;</th><th scope=col>&lt;dbl&gt;</th><th scope=col>&lt;dbl&gt;</th><th scope=col>&lt;dbl&gt;</th><th scope=col>&lt;dbl&gt;</th><th scope=col>&lt;dbl&gt;</th><th scope=col>&lt;dbl&gt;</th><th scope=col>&lt;dbl&gt;</th><th scope=col>&lt;dbl&gt;</th><th scope=col>⋯</th><th scope=col>&lt;chr&gt;</th><th scope=col>&lt;dbl&gt;</th><th scope=col>&lt;dbl&gt;</th><th scope=col>&lt;dbl&gt;</th><th scope=col>&lt;dbl&gt;</th><th scope=col>&lt;dbl&gt;</th><th scope=col>&lt;dbl&gt;</th><th scope=col>&lt;dbl&gt;</th><th scope=col>&lt;dbl&gt;</th><th scope=col>&lt;dbl&gt;</th></tr>\n",
       "</thead>\n",
       "<tbody>\n",
       "\t<tr><td>2018</td><td>104</td><td>1</td><td>1</td><td> 0.000000</td><td> 0.0000000</td><td>122.78030</td><td>0.00000000</td><td>0.000000000</td><td>0.6650794</td><td>⋯</td><td>-80%   </td><td> 51.1556</td><td> 24.384</td><td>1.0000000</td><td>2.4001341</td><td>5.0352814</td><td>5.0352814</td><td>0.00000000</td><td>        NA</td><td>        NA</td></tr>\n",
       "\t<tr><td>2018</td><td>108</td><td>1</td><td>0</td><td> 0.000000</td><td> 0.0000000</td><td>123.56616</td><td>0.00000000</td><td>0.000000000</td><td>0.6693362</td><td>⋯</td><td>-80%   </td><td> 51.1556</td><td> 24.384</td><td>1.0000000</td><td>2.4154962</td><td>5.0675098</td><td>5.0675098</td><td>0.00000000</td><td>0.06647203</td><td>0.10880887</td></tr>\n",
       "\t<tr><td>2018</td><td>126</td><td>1</td><td>0</td><td> 0.000000</td><td> 0.0000000</td><td>140.08662</td><td>0.00000000</td><td>0.000000000</td><td>0.7588247</td><td>⋯</td><td>-80%   </td><td> 51.1556</td><td> 24.384</td><td>1.0000000</td><td>2.7384415</td><td>5.7450222</td><td>5.7450222</td><td>0.00000000</td><td>0.05658909</td><td>0.09354422</td></tr>\n",
       "\t<tr><td>2018</td><td>137</td><td>1</td><td>1</td><td> 0.000000</td><td> 0.0000000</td><td>151.67636</td><td>0.00000000</td><td>0.000000000</td><td>0.8216042</td><td>⋯</td><td>-80%   </td><td> 51.1556</td><td> 24.384</td><td>1.0000000</td><td>2.9650001</td><td>6.2203231</td><td>6.2203231</td><td>0.00000000</td><td>        NA</td><td>        NA</td></tr>\n",
       "\t<tr><td>2018</td><td>203</td><td>1</td><td>1</td><td> 0.000000</td><td> 0.0000000</td><td>100.27233</td><td>0.00000000</td><td>0.000000000</td><td>0.5431576</td><td>⋯</td><td>-80%   </td><td> 51.1556</td><td> 24.384</td><td>1.0000000</td><td>1.9601437</td><td>4.1122181</td><td>4.1122181</td><td>0.00000000</td><td>        NA</td><td>        NA</td></tr>\n",
       "\t<tr><td>2018</td><td>206</td><td>1</td><td>0</td><td> 0.000000</td><td> 0.0000000</td><td> 97.78366</td><td>0.00000000</td><td>0.000000000</td><td>0.5296769</td><td>⋯</td><td>-80%   </td><td> 51.1556</td><td> 24.384</td><td>1.0000000</td><td>1.9114947</td><td>4.0101566</td><td>4.0101566</td><td>0.00000000</td><td>0.08136947</td><td>0.13670443</td></tr>\n",
       "\t<tr><td>2018</td><td>212</td><td>1</td><td>1</td><td> 0.000000</td><td> 5.4184302</td><td> 83.68020</td><td>0.00000000</td><td>0.029350686</td><td>0.4532810</td><td>⋯</td><td>-80%   </td><td> 51.1556</td><td> 24.384</td><td>0.9391862</td><td>1.7417180</td><td>3.6539792</td><td>3.4317666</td><td>0.00000000</td><td>        NA</td><td>        NA</td></tr>\n",
       "\t<tr><td>2018</td><td>214</td><td>1</td><td>0</td><td> 0.000000</td><td> 0.0000000</td><td> 70.10119</td><td>0.00000000</td><td>0.000000000</td><td>0.3797258</td><td>⋯</td><td>-80%   </td><td> 51.1556</td><td> 24.384</td><td>1.0000000</td><td>1.3703521</td><td>2.8748846</td><td>2.8748846</td><td>0.00000000</td><td>       NaN</td><td>       NaN</td></tr>\n",
       "\t<tr><td>2018</td><td>309</td><td>1</td><td>0</td><td> 0.000000</td><td> 0.0000000</td><td>136.25976</td><td>0.00000000</td><td>0.000000000</td><td>0.7380952</td><td>⋯</td><td>-80%   </td><td> 51.1556</td><td> 24.384</td><td>1.0000000</td><td>2.6636333</td><td>5.5880808</td><td>5.5880808</td><td>0.00000000</td><td>0.08212333</td><td>0.14243639</td></tr>\n",
       "\t<tr><td>2018</td><td>316</td><td>1</td><td>0</td><td> 0.000000</td><td> 0.0000000</td><td> 96.49867</td><td>0.00000000</td><td>0.000000000</td><td>0.5227164</td><td>⋯</td><td>-80%   </td><td> 51.1556</td><td> 24.384</td><td>1.0000000</td><td>1.8863755</td><td>3.9574586</td><td>3.9574586</td><td>0.00000000</td><td>0.08478478</td><td>0.10844430</td></tr>\n",
       "\t<tr><td>2018</td><td>334</td><td>1</td><td>1</td><td> 0.000000</td><td> 0.0000000</td><td>118.67786</td><td>0.00000000</td><td>0.000000000</td><td>0.6428571</td><td>⋯</td><td>-80%   </td><td> 51.1556</td><td> 24.384</td><td>1.0000000</td><td>2.3199387</td><td>4.8670381</td><td>4.8670381</td><td>0.00000000</td><td>        NA</td><td>        NA</td></tr>\n",
       "\t<tr><td>2018</td><td>340</td><td>1</td><td>1</td><td> 0.000000</td><td> 1.7581905</td><td> 97.68804</td><td>0.00000000</td><td>0.009523810</td><td>0.5291590</td><td>⋯</td><td>-80%   </td><td> 51.1556</td><td> 24.384</td><td>0.9823202</td><td>1.9439949</td><td>4.0783393</td><td>4.0062351</td><td>0.00000000</td><td>        NA</td><td>        NA</td></tr>\n",
       "\t<tr><td>2018</td><td>101</td><td>3</td><td>0</td><td>44.933206</td><td> 7.3257937</td><td> 92.30500</td><td>0.16984127</td><td>0.039682540</td><td>0.5000000</td><td>⋯</td><td>ambient</td><td>255.7780</td><td>121.920</td><td>0.6385061</td><td>0.5651933</td><td>1.1857283</td><td>0.7570948</td><td>0.36854664</td><td>0.05591756</td><td>0.10460561</td></tr>\n",
       "\t<tr><td>2018</td><td>102</td><td>3</td><td>1</td><td>41.993651</td><td> 0.0000000</td><td> 49.22933</td><td>0.15873016</td><td>0.000000000</td><td>0.2666667</td><td>⋯</td><td>ambient</td><td>255.7780</td><td>121.920</td><td>0.5396593</td><td>0.3566491</td><td>0.7482200</td><td>0.4037839</td><td>0.34443611</td><td>        NA</td><td>        NA</td></tr>\n",
       "\t<tr><td>2018</td><td>124</td><td>3</td><td>0</td><td>33.220789</td><td> 1.1665719</td><td> 35.31507</td><td>0.12556996</td><td>0.006319115</td><td>0.1912955</td><td>⋯</td><td>ambient</td><td>255.7780</td><td>121.920</td><td>0.5066548</td><td>0.2725114</td><td>0.5717063</td><td>0.2896577</td><td>0.27248023</td><td>0.06570772</td><td>0.12448987</td></tr>\n",
       "\t<tr><td>2018</td><td>125</td><td>3</td><td>1</td><td>15.365038</td><td> 4.5379886</td><td> 82.09704</td><td>0.05807771</td><td>0.024581488</td><td>0.4447053</td><td>⋯</td><td>ambient</td><td>255.7780</td><td>121.920</td><td>0.8048724</td><td>0.3987836</td><td>0.8366147</td><td>0.6733681</td><td>0.12602557</td><td>        NA</td><td>        NA</td></tr>\n",
       "\t<tr><td>2018</td><td>202</td><td>3</td><td>0</td><td>50.135753</td><td> 0.0000000</td><td> 80.72211</td><td>0.18950617</td><td>0.000000000</td><td>0.4372575</td><td>⋯</td><td>ambient</td><td>255.7780</td><td>121.920</td><td>0.6168686</td><td>0.5116072</td><td>1.0733092</td><td>0.6620908</td><td>0.41121845</td><td>       NaN</td><td>       NaN</td></tr>\n",
       "\t<tr><td>2018</td><td>207</td><td>3</td><td>0</td><td>12.369039</td><td> 1.1721270</td><td> 86.08474</td><td>0.04675325</td><td>0.006349206</td><td>0.4663059</td><td>⋯</td><td>ambient</td><td>255.7780</td><td>121.920</td><td>0.8640799</td><td>0.3895014</td><td>0.8171416</td><td>0.7060756</td><td>0.10145209</td><td>       NaN</td><td>       NaN</td></tr>\n",
       "\t<tr><td>2018</td><td>220</td><td>3</td><td>1</td><td> 2.945583</td><td> 4.7888457</td><td> 84.27564</td><td>0.01113390</td><td>0.025940337</td><td>0.4565063</td><td>⋯</td><td>ambient</td><td>255.7780</td><td>121.920</td><td>0.9159393</td><td>0.3597263</td><td>0.7546757</td><td>0.6912372</td><td>0.02415997</td><td>        NA</td><td>        NA</td></tr>\n",
       "\t<tr><td>2018</td><td>231</td><td>3</td><td>1</td><td>16.117936</td><td>15.5259376</td><td> 55.57827</td><td>0.06092355</td><td>0.084101281</td><td>0.3010578</td><td>⋯</td><td>ambient</td><td>255.7780</td><td>121.920</td><td>0.6372037</td><td>0.3410072</td><td>0.7154048</td><td>0.4558586</td><td>0.13220092</td><td>        NA</td><td>        NA</td></tr>\n",
       "\t<tr><td>2018</td><td>301</td><td>3</td><td>1</td><td>29.008816</td><td> 1.9736209</td><td> 52.98547</td><td>0.10964929</td><td>0.010690759</td><td>0.2870130</td><td>⋯</td><td>ambient</td><td>255.7780</td><td>121.920</td><td>0.6310205</td><td>0.3282843</td><td>0.6887131</td><td>0.4345921</td><td>0.23793320</td><td>        NA</td><td>        NA</td></tr>\n",
       "\t<tr><td>2018</td><td>324</td><td>3</td><td>0</td><td>25.387071</td><td> 0.0000000</td><td> 53.77133</td><td>0.09595960</td><td>0.000000000</td><td>0.2912698</td><td>⋯</td><td>ambient</td><td>255.7780</td><td>121.920</td><td>0.6792877</td><td>0.3094809</td><td>0.6492651</td><td>0.4410378</td><td>0.20822729</td><td>0.04335977</td><td>0.10953088</td></tr>\n",
       "\t<tr><td>2018</td><td>337</td><td>3</td><td>0</td><td>27.295873</td><td> 0.5860635</td><td> 58.89938</td><td>0.10317460</td><td>0.003174603</td><td>0.3190476</td><td>⋯</td><td>ambient</td><td>255.7780</td><td>121.920</td><td>0.6787104</td><td>0.3392837</td><td>0.7117890</td><td>0.4830986</td><td>0.22388347</td><td>0.07430309</td><td>0.14662591</td></tr>\n",
       "\t<tr><td>2018</td><td>343</td><td>3</td><td>1</td><td> 2.939556</td><td> 9.6700476</td><td> 59.48544</td><td>0.01111111</td><td>0.052380952</td><td>0.3222222</td><td>⋯</td><td>ambient</td><td>255.7780</td><td>121.920</td><td>0.8250975</td><td>0.2818657</td><td>0.5913308</td><td>0.4879055</td><td>0.02411053</td><td>        NA</td><td>        NA</td></tr>\n",
       "\t<tr><td>2018</td><td>103</td><td>5</td><td>1</td><td>59.630984</td><td> 0.5860635</td><td> 36.62897</td><td>0.22539683</td><td>0.003174603</td><td>0.1984127</td><td>⋯</td><td>+80%   </td><td>460.4004</td><td>219.456</td><td>0.3782186</td><td>0.2103517</td><td>0.4413004</td><td>0.1669080</td><td>0.27172182</td><td>        NA</td><td>        NA</td></tr>\n",
       "\t<tr><td>2018</td><td>122</td><td>5</td><td>1</td><td> 6.318049</td><td>13.8108274</td><td> 40.57540</td><td>0.02388135</td><td>0.074810831</td><td>0.2197898</td><td>⋯</td><td>+80%   </td><td>460.4004</td><td>219.456</td><td>0.6684109</td><td>0.1318510</td><td>0.2766125</td><td>0.1848908</td><td>0.02878959</td><td>        NA</td><td>        NA</td></tr>\n",
       "\t<tr><td>2018</td><td>131</td><td>5</td><td>0</td><td>60.193042</td><td> 1.3377536</td><td> 88.86602</td><td>0.22752133</td><td>0.007246377</td><td>0.4813717</td><td>⋯</td><td>+80%   </td><td>460.4004</td><td>219.456</td><td>0.5908770</td><td>0.3266653</td><td>0.6853165</td><td>0.4049378</td><td>0.27428297</td><td>0.07900632</td><td>0.13389689</td></tr>\n",
       "\t<tr><td>2018</td><td>139</td><td>5</td><td>0</td><td>43.983785</td><td> 2.7264693</td><td> 48.46490</td><td>0.16625259</td><td>0.014768806</td><td>0.2625259</td><td>⋯</td><td>+80%   </td><td>460.4004</td><td>219.456</td><td>0.5092180</td><td>0.2067226</td><td>0.4336867</td><td>0.2208411</td><td>0.20042188</td><td>0.06518514</td><td>0.14153328</td></tr>\n",
       "\t<tr><td>2018</td><td>208</td><td>5</td><td>0</td><td>64.159399</td><td> 0.0000000</td><td> 90.78781</td><td>0.24251360</td><td>0.000000000</td><td>0.4917816</td><td>⋯</td><td>+80%   </td><td>460.4004</td><td>219.456</td><td>0.5859274</td><td>0.3365488</td><td>0.7060514</td><td>0.4136948</td><td>0.29235655</td><td>0.05262301</td><td>0.11387606</td></tr>\n",
       "\t<tr><td>2018</td><td>215</td><td>5</td><td>1</td><td>56.617538</td><td> 7.5299312</td><td> 82.02953</td><td>0.21400642</td><td>0.040788317</td><td>0.4443396</td><td>⋯</td><td>+80%   </td><td>460.4004</td><td>219.456</td><td>0.5611658</td><td>0.3174997</td><td>0.6660880</td><td>0.3737858</td><td>0.25799039</td><td>        NA</td><td>        NA</td></tr>\n",
       "\t<tr><td>⋮</td><td>⋮</td><td>⋮</td><td>⋮</td><td>⋮</td><td>⋮</td><td>⋮</td><td>⋮</td><td>⋮</td><td>⋮</td><td>⋱</td><td>⋮</td><td>⋮</td><td>⋮</td><td>⋮</td><td>⋮</td><td>⋮</td><td>⋮</td><td>⋮</td><td>⋮</td><td>⋮</td></tr>\n",
       "\t<tr><td>2020</td><td>212</td><td>1</td><td>1</td><td> 0.0000000</td><td>19.7492380</td><td> 93.28830</td><td>0.000000000</td><td>0.106978160</td><td>0.5053264</td><td>⋯</td><td>-80%   </td><td>NA</td><td>NA</td><td>0.8252860</td><td>NA</td><td>NA</td><td>NA</td><td>NA</td><td>        NA</td><td>        NA</td></tr>\n",
       "\t<tr><td>2020</td><td>214</td><td>1</td><td>0</td><td> 0.0000000</td><td> 0.0000000</td><td>128.55536</td><td>0.000000000</td><td>0.000000000</td><td>0.6963618</td><td>⋯</td><td>-80%   </td><td>NA</td><td>NA</td><td>1.0000000</td><td>NA</td><td>NA</td><td>NA</td><td>NA</td><td>0.10153488</td><td>0.08159939</td></tr>\n",
       "\t<tr><td>2020</td><td>309</td><td>1</td><td>0</td><td> 0.0000000</td><td> 0.0000000</td><td>141.03928</td><td>0.000000000</td><td>0.000000000</td><td>0.7639851</td><td>⋯</td><td>-80%   </td><td>NA</td><td>NA</td><td>1.0000000</td><td>NA</td><td>NA</td><td>NA</td><td>NA</td><td>0.08391084</td><td>0.10004758</td></tr>\n",
       "\t<tr><td>2020</td><td>316</td><td>1</td><td>0</td><td> 0.8241745</td><td> 0.0000000</td><td>105.36580</td><td>0.003115265</td><td>0.000000000</td><td>0.5707481</td><td>⋯</td><td>-80%   </td><td>NA</td><td>NA</td><td>0.9922387</td><td>NA</td><td>NA</td><td>NA</td><td>NA</td><td>0.09055542</td><td>0.08537678</td></tr>\n",
       "\t<tr><td>2020</td><td>334</td><td>1</td><td>1</td><td> 0.0000000</td><td> 0.0000000</td><td>122.72679</td><td>0.000000000</td><td>0.000000000</td><td>0.6647895</td><td>⋯</td><td>-80%   </td><td>NA</td><td>NA</td><td>1.0000000</td><td>NA</td><td>NA</td><td>NA</td><td>NA</td><td>        NA</td><td>        NA</td></tr>\n",
       "\t<tr><td>2020</td><td>340</td><td>1</td><td>1</td><td> 0.0000000</td><td> 0.0000000</td><td>124.16066</td><td>0.000000000</td><td>0.000000000</td><td>0.6725565</td><td>⋯</td><td>-80%   </td><td>NA</td><td>NA</td><td>1.0000000</td><td>NA</td><td>NA</td><td>NA</td><td>NA</td><td>        NA</td><td>        NA</td></tr>\n",
       "\t<tr><td>2020</td><td>101</td><td>3</td><td>0</td><td>26.0249381</td><td>18.2499161</td><td>115.47373</td><td>0.098370646</td><td>0.098856596</td><td>0.6255009</td><td>⋯</td><td>ambient</td><td>NA</td><td>NA</td><td>0.7228467</td><td>NA</td><td>NA</td><td>NA</td><td>NA</td><td>0.05609000</td><td>0.07546351</td></tr>\n",
       "\t<tr><td>2020</td><td>102</td><td>3</td><td>1</td><td>35.5853693</td><td> 0.0000000</td><td>108.48786</td><td>0.134507746</td><td>0.000000000</td><td>0.5876597</td><td>⋯</td><td>ambient</td><td>NA</td><td>NA</td><td>0.7530050</td><td>NA</td><td>NA</td><td>NA</td><td>NA</td><td>        NA</td><td>        NA</td></tr>\n",
       "\t<tr><td>2020</td><td>124</td><td>3</td><td>0</td><td>21.2579986</td><td> 2.5933955</td><td> 75.12177</td><td>0.080352278</td><td>0.014047969</td><td>0.4069215</td><td>⋯</td><td>ambient</td><td>NA</td><td>NA</td><td>0.7590115</td><td>NA</td><td>NA</td><td>NA</td><td>NA</td><td>0.07110000</td><td>0.09006883</td></tr>\n",
       "\t<tr><td>2020</td><td>125</td><td>3</td><td>1</td><td>24.0470192</td><td> 4.9462150</td><td>102.18641</td><td>0.090894388</td><td>0.026792779</td><td>0.5535258</td><td>⋯</td><td>ambient</td><td>NA</td><td>NA</td><td>0.7789807</td><td>NA</td><td>NA</td><td>NA</td><td>NA</td><td>        NA</td><td>        NA</td></tr>\n",
       "\t<tr><td>2020</td><td>202</td><td>3</td><td>0</td><td>32.7519268</td><td> 0.0000000</td><td>130.82923</td><td>0.123797728</td><td>0.000000000</td><td>0.7086790</td><td>⋯</td><td>ambient</td><td>NA</td><td>NA</td><td>0.7997818</td><td>NA</td><td>NA</td><td>NA</td><td>NA</td><td>0.05932559</td><td>       NaN</td></tr>\n",
       "\t<tr><td>2020</td><td>207</td><td>3</td><td>0</td><td>10.3137854</td><td> 0.0000000</td><td>135.33115</td><td>0.038984674</td><td>0.000000000</td><td>0.7330651</td><td>⋯</td><td>ambient</td><td>NA</td><td>NA</td><td>0.9291854</td><td>NA</td><td>NA</td><td>NA</td><td>NA</td><td>       NaN</td><td>0.09173357</td></tr>\n",
       "\t<tr><td>2020</td><td>220</td><td>3</td><td>1</td><td> 6.7189841</td><td>11.0738741</td><td>104.22390</td><td>0.025396825</td><td>0.059985234</td><td>0.5645626</td><td>⋯</td><td>ambient</td><td>NA</td><td>NA</td><td>0.8541769</td><td>NA</td><td>NA</td><td>NA</td><td>NA</td><td>        NA</td><td>        NA</td></tr>\n",
       "\t<tr><td>2020</td><td>231</td><td>3</td><td>1</td><td> 3.4507826</td><td>37.4685136</td><td> 72.62164</td><td>0.013043478</td><td>0.202960368</td><td>0.3933787</td><td>⋯</td><td>ambient</td><td>NA</td><td>NA</td><td>0.6396075</td><td>NA</td><td>NA</td><td>NA</td><td>NA</td><td>        NA</td><td>        NA</td></tr>\n",
       "\t<tr><td>2020</td><td>301</td><td>3</td><td>1</td><td>32.4158312</td><td> 4.4196098</td><td> 77.38972</td><td>0.122527333</td><td>0.023940252</td><td>0.4192065</td><td>⋯</td><td>ambient</td><td>NA</td><td>NA</td><td>0.6775190</td><td>NA</td><td>NA</td><td>NA</td><td>NA</td><td>        NA</td><td>        NA</td></tr>\n",
       "\t<tr><td>2020</td><td>324</td><td>3</td><td>0</td><td>12.1436459</td><td> 0.2759492</td><td>153.64821</td><td>0.045901292</td><td>0.001494768</td><td>0.8322854</td><td>⋯</td><td>ambient</td><td>NA</td><td>NA</td><td>0.9252137</td><td>NA</td><td>NA</td><td>NA</td><td>NA</td><td>0.05297598</td><td>0.09161139</td></tr>\n",
       "\t<tr><td>2020</td><td>337</td><td>3</td><td>0</td><td>16.0267424</td><td> 0.8667136</td><td>104.34917</td><td>0.060578857</td><td>0.004694836</td><td>0.5652411</td><td>⋯</td><td>ambient</td><td>NA</td><td>NA</td><td>0.8606641</td><td>NA</td><td>NA</td><td>NA</td><td>NA</td><td>0.07753215</td><td>0.13327109</td></tr>\n",
       "\t<tr><td>2020</td><td>343</td><td>3</td><td>1</td><td> 3.2219142</td><td> 1.6782727</td><td>129.68774</td><td>0.012178388</td><td>0.009090909</td><td>0.7024957</td><td>⋯</td><td>ambient</td><td>NA</td><td>NA</td><td>0.9635912</td><td>NA</td><td>NA</td><td>NA</td><td>NA</td><td>        NA</td><td>        NA</td></tr>\n",
       "\t<tr><td>2020</td><td>103</td><td>5</td><td>1</td><td>96.6635411</td><td> 5.5384326</td><td> 65.25459</td><td>0.365374740</td><td>0.030000718</td><td>0.3534727</td><td>⋯</td><td>+80%   </td><td>NA</td><td>NA</td><td>0.3896807</td><td>NA</td><td>NA</td><td>NA</td><td>NA</td><td>        NA</td><td>        NA</td></tr>\n",
       "\t<tr><td>2020</td><td>122</td><td>5</td><td>1</td><td> 1.7207154</td><td> 9.8807830</td><td>112.13012</td><td>0.006504065</td><td>0.053522469</td><td>0.6073892</td><td>⋯</td><td>+80%   </td><td>NA</td><td>NA</td><td>0.9062366</td><td>NA</td><td>NA</td><td>NA</td><td>NA</td><td>        NA</td><td>        NA</td></tr>\n",
       "\t<tr><td>2020</td><td>131</td><td>5</td><td>0</td><td>82.8384251</td><td> 4.1024444</td><td>116.85707</td><td>0.313117724</td><td>0.022222222</td><td>0.6329943</td><td>⋯</td><td>+80%   </td><td>NA</td><td>NA</td><td>0.5733967</td><td>NA</td><td>NA</td><td>NA</td><td>NA</td><td>       NaN</td><td>       NaN</td></tr>\n",
       "\t<tr><td>2020</td><td>139</td><td>5</td><td>0</td><td>40.2375527</td><td> 1.1721270</td><td> 95.26196</td><td>0.152092352</td><td>0.006349206</td><td>0.5160173</td><td>⋯</td><td>+80%   </td><td>NA</td><td>NA</td><td>0.6970134</td><td>NA</td><td>NA</td><td>NA</td><td>NA</td><td>       NaN</td><td>       NaN</td></tr>\n",
       "\t<tr><td>2020</td><td>208</td><td>5</td><td>0</td><td>77.7874093</td><td> 0.0000000</td><td>143.07039</td><td>0.294025587</td><td>0.000000000</td><td>0.7749872</td><td>⋯</td><td>+80%   </td><td>NA</td><td>NA</td><td>0.6477941</td><td>NA</td><td>NA</td><td>NA</td><td>NA</td><td>0.05736290</td><td>0.09586317</td></tr>\n",
       "\t<tr><td>2020</td><td>215</td><td>5</td><td>1</td><td>46.9436896</td><td> 4.9957308</td><td> 76.73249</td><td>0.177440617</td><td>0.027060998</td><td>0.4156464</td><td>⋯</td><td>+80%   </td><td>NA</td><td>NA</td><td>0.5963422</td><td>NA</td><td>NA</td><td>NA</td><td>NA</td><td>        NA</td><td>        NA</td></tr>\n",
       "\t<tr><td>2020</td><td>223</td><td>5</td><td>0</td><td>32.0635217</td><td> 1.3377536</td><td>133.73077</td><td>0.121195652</td><td>0.007246377</td><td>0.7243961</td><td>⋯</td><td>+80%   </td><td>NA</td><td>NA</td><td>0.8001504</td><td>NA</td><td>NA</td><td>NA</td><td>NA</td><td>0.10784310</td><td>       NaN</td></tr>\n",
       "\t<tr><td>2020</td><td>236</td><td>5</td><td>1</td><td>22.6907618</td><td>12.4339228</td><td> 80.16421</td><td>0.085767923</td><td>0.067352380</td><td>0.4342355</td><td>⋯</td><td>+80%   </td><td>NA</td><td>NA</td><td>0.6953333</td><td>NA</td><td>NA</td><td>NA</td><td>NA</td><td>        NA</td><td>        NA</td></tr>\n",
       "\t<tr><td>2020</td><td>310</td><td>5</td><td>1</td><td>27.2771609</td><td> 0.0000000</td><td> 87.63501</td><td>0.103103874</td><td>0.000000000</td><td>0.4747035</td><td>⋯</td><td>+80%   </td><td>NA</td><td>NA</td><td>0.7626260</td><td>NA</td><td>NA</td><td>NA</td><td>NA</td><td>        NA</td><td>        NA</td></tr>\n",
       "\t<tr><td>2020</td><td>326</td><td>5</td><td>0</td><td>33.4592917</td><td> 6.8228845</td><td> 50.65404</td><td>0.126471468</td><td>0.036958369</td><td>0.2743840</td><td>⋯</td><td>+80%   </td><td>NA</td><td>NA</td><td>0.5570282</td><td>NA</td><td>NA</td><td>NA</td><td>NA</td><td>0.04183139</td><td>0.07079994</td></tr>\n",
       "\t<tr><td>2020</td><td>329</td><td>5</td><td>1</td><td>16.7762806</td><td> 9.7396326</td><td>163.48350</td><td>0.063412007</td><td>0.052757882</td><td>0.8855614</td><td>⋯</td><td>+80%   </td><td>NA</td><td>NA</td><td>0.8604421</td><td>NA</td><td>NA</td><td>NA</td><td>NA</td><td>        NA</td><td>        NA</td></tr>\n",
       "\t<tr><td>2020</td><td>341</td><td>5</td><td>0</td><td>28.3046388</td><td> 3.3565455</td><td>102.34425</td><td>0.106987597</td><td>0.018181818</td><td>0.5543808</td><td>⋯</td><td>+80%   </td><td>NA</td><td>NA</td><td>0.7637321</td><td>NA</td><td>NA</td><td>NA</td><td>NA</td><td>0.07514428</td><td>       NaN</td></tr>\n",
       "</tbody>\n",
       "</table>\n"
      ],
      "text/latex": [
       "A spec\\_tbl\\_df: 108 × 22\n",
       "\\begin{tabular}{lllllllllllllllllllll}\n",
       " year & plot & water & N & biomass.grass & biomass.rare & biomass.shrub & cover.grass & cover.rare & cover.shrub & ⋯ & PPT treatment & ann\\_PPT\\_mm & gs\\_PPT\\_mm & shrubratio & RUEann\\_tot & RUEgs\\_tot & RUEgs\\_shrub & RUEgs\\_grass & deep & surf\\\\\n",
       " <dbl> & <dbl> & <dbl> & <dbl> & <dbl> & <dbl> & <dbl> & <dbl> & <dbl> & <dbl> & ⋯ & <chr> & <dbl> & <dbl> & <dbl> & <dbl> & <dbl> & <dbl> & <dbl> & <dbl> & <dbl>\\\\\n",
       "\\hline\n",
       "\t 2018 & 104 & 1 & 1 &  0.000000 &  0.0000000 & 122.78030 & 0.00000000 & 0.000000000 & 0.6650794 & ⋯ & -80\\%    &  51.1556 &  24.384 & 1.0000000 & 2.4001341 & 5.0352814 & 5.0352814 & 0.00000000 &         NA &         NA\\\\\n",
       "\t 2018 & 108 & 1 & 0 &  0.000000 &  0.0000000 & 123.56616 & 0.00000000 & 0.000000000 & 0.6693362 & ⋯ & -80\\%    &  51.1556 &  24.384 & 1.0000000 & 2.4154962 & 5.0675098 & 5.0675098 & 0.00000000 & 0.06647203 & 0.10880887\\\\\n",
       "\t 2018 & 126 & 1 & 0 &  0.000000 &  0.0000000 & 140.08662 & 0.00000000 & 0.000000000 & 0.7588247 & ⋯ & -80\\%    &  51.1556 &  24.384 & 1.0000000 & 2.7384415 & 5.7450222 & 5.7450222 & 0.00000000 & 0.05658909 & 0.09354422\\\\\n",
       "\t 2018 & 137 & 1 & 1 &  0.000000 &  0.0000000 & 151.67636 & 0.00000000 & 0.000000000 & 0.8216042 & ⋯ & -80\\%    &  51.1556 &  24.384 & 1.0000000 & 2.9650001 & 6.2203231 & 6.2203231 & 0.00000000 &         NA &         NA\\\\\n",
       "\t 2018 & 203 & 1 & 1 &  0.000000 &  0.0000000 & 100.27233 & 0.00000000 & 0.000000000 & 0.5431576 & ⋯ & -80\\%    &  51.1556 &  24.384 & 1.0000000 & 1.9601437 & 4.1122181 & 4.1122181 & 0.00000000 &         NA &         NA\\\\\n",
       "\t 2018 & 206 & 1 & 0 &  0.000000 &  0.0000000 &  97.78366 & 0.00000000 & 0.000000000 & 0.5296769 & ⋯ & -80\\%    &  51.1556 &  24.384 & 1.0000000 & 1.9114947 & 4.0101566 & 4.0101566 & 0.00000000 & 0.08136947 & 0.13670443\\\\\n",
       "\t 2018 & 212 & 1 & 1 &  0.000000 &  5.4184302 &  83.68020 & 0.00000000 & 0.029350686 & 0.4532810 & ⋯ & -80\\%    &  51.1556 &  24.384 & 0.9391862 & 1.7417180 & 3.6539792 & 3.4317666 & 0.00000000 &         NA &         NA\\\\\n",
       "\t 2018 & 214 & 1 & 0 &  0.000000 &  0.0000000 &  70.10119 & 0.00000000 & 0.000000000 & 0.3797258 & ⋯ & -80\\%    &  51.1556 &  24.384 & 1.0000000 & 1.3703521 & 2.8748846 & 2.8748846 & 0.00000000 &        NaN &        NaN\\\\\n",
       "\t 2018 & 309 & 1 & 0 &  0.000000 &  0.0000000 & 136.25976 & 0.00000000 & 0.000000000 & 0.7380952 & ⋯ & -80\\%    &  51.1556 &  24.384 & 1.0000000 & 2.6636333 & 5.5880808 & 5.5880808 & 0.00000000 & 0.08212333 & 0.14243639\\\\\n",
       "\t 2018 & 316 & 1 & 0 &  0.000000 &  0.0000000 &  96.49867 & 0.00000000 & 0.000000000 & 0.5227164 & ⋯ & -80\\%    &  51.1556 &  24.384 & 1.0000000 & 1.8863755 & 3.9574586 & 3.9574586 & 0.00000000 & 0.08478478 & 0.10844430\\\\\n",
       "\t 2018 & 334 & 1 & 1 &  0.000000 &  0.0000000 & 118.67786 & 0.00000000 & 0.000000000 & 0.6428571 & ⋯ & -80\\%    &  51.1556 &  24.384 & 1.0000000 & 2.3199387 & 4.8670381 & 4.8670381 & 0.00000000 &         NA &         NA\\\\\n",
       "\t 2018 & 340 & 1 & 1 &  0.000000 &  1.7581905 &  97.68804 & 0.00000000 & 0.009523810 & 0.5291590 & ⋯ & -80\\%    &  51.1556 &  24.384 & 0.9823202 & 1.9439949 & 4.0783393 & 4.0062351 & 0.00000000 &         NA &         NA\\\\\n",
       "\t 2018 & 101 & 3 & 0 & 44.933206 &  7.3257937 &  92.30500 & 0.16984127 & 0.039682540 & 0.5000000 & ⋯ & ambient & 255.7780 & 121.920 & 0.6385061 & 0.5651933 & 1.1857283 & 0.7570948 & 0.36854664 & 0.05591756 & 0.10460561\\\\\n",
       "\t 2018 & 102 & 3 & 1 & 41.993651 &  0.0000000 &  49.22933 & 0.15873016 & 0.000000000 & 0.2666667 & ⋯ & ambient & 255.7780 & 121.920 & 0.5396593 & 0.3566491 & 0.7482200 & 0.4037839 & 0.34443611 &         NA &         NA\\\\\n",
       "\t 2018 & 124 & 3 & 0 & 33.220789 &  1.1665719 &  35.31507 & 0.12556996 & 0.006319115 & 0.1912955 & ⋯ & ambient & 255.7780 & 121.920 & 0.5066548 & 0.2725114 & 0.5717063 & 0.2896577 & 0.27248023 & 0.06570772 & 0.12448987\\\\\n",
       "\t 2018 & 125 & 3 & 1 & 15.365038 &  4.5379886 &  82.09704 & 0.05807771 & 0.024581488 & 0.4447053 & ⋯ & ambient & 255.7780 & 121.920 & 0.8048724 & 0.3987836 & 0.8366147 & 0.6733681 & 0.12602557 &         NA &         NA\\\\\n",
       "\t 2018 & 202 & 3 & 0 & 50.135753 &  0.0000000 &  80.72211 & 0.18950617 & 0.000000000 & 0.4372575 & ⋯ & ambient & 255.7780 & 121.920 & 0.6168686 & 0.5116072 & 1.0733092 & 0.6620908 & 0.41121845 &        NaN &        NaN\\\\\n",
       "\t 2018 & 207 & 3 & 0 & 12.369039 &  1.1721270 &  86.08474 & 0.04675325 & 0.006349206 & 0.4663059 & ⋯ & ambient & 255.7780 & 121.920 & 0.8640799 & 0.3895014 & 0.8171416 & 0.7060756 & 0.10145209 &        NaN &        NaN\\\\\n",
       "\t 2018 & 220 & 3 & 1 &  2.945583 &  4.7888457 &  84.27564 & 0.01113390 & 0.025940337 & 0.4565063 & ⋯ & ambient & 255.7780 & 121.920 & 0.9159393 & 0.3597263 & 0.7546757 & 0.6912372 & 0.02415997 &         NA &         NA\\\\\n",
       "\t 2018 & 231 & 3 & 1 & 16.117936 & 15.5259376 &  55.57827 & 0.06092355 & 0.084101281 & 0.3010578 & ⋯ & ambient & 255.7780 & 121.920 & 0.6372037 & 0.3410072 & 0.7154048 & 0.4558586 & 0.13220092 &         NA &         NA\\\\\n",
       "\t 2018 & 301 & 3 & 1 & 29.008816 &  1.9736209 &  52.98547 & 0.10964929 & 0.010690759 & 0.2870130 & ⋯ & ambient & 255.7780 & 121.920 & 0.6310205 & 0.3282843 & 0.6887131 & 0.4345921 & 0.23793320 &         NA &         NA\\\\\n",
       "\t 2018 & 324 & 3 & 0 & 25.387071 &  0.0000000 &  53.77133 & 0.09595960 & 0.000000000 & 0.2912698 & ⋯ & ambient & 255.7780 & 121.920 & 0.6792877 & 0.3094809 & 0.6492651 & 0.4410378 & 0.20822729 & 0.04335977 & 0.10953088\\\\\n",
       "\t 2018 & 337 & 3 & 0 & 27.295873 &  0.5860635 &  58.89938 & 0.10317460 & 0.003174603 & 0.3190476 & ⋯ & ambient & 255.7780 & 121.920 & 0.6787104 & 0.3392837 & 0.7117890 & 0.4830986 & 0.22388347 & 0.07430309 & 0.14662591\\\\\n",
       "\t 2018 & 343 & 3 & 1 &  2.939556 &  9.6700476 &  59.48544 & 0.01111111 & 0.052380952 & 0.3222222 & ⋯ & ambient & 255.7780 & 121.920 & 0.8250975 & 0.2818657 & 0.5913308 & 0.4879055 & 0.02411053 &         NA &         NA\\\\\n",
       "\t 2018 & 103 & 5 & 1 & 59.630984 &  0.5860635 &  36.62897 & 0.22539683 & 0.003174603 & 0.1984127 & ⋯ & +80\\%    & 460.4004 & 219.456 & 0.3782186 & 0.2103517 & 0.4413004 & 0.1669080 & 0.27172182 &         NA &         NA\\\\\n",
       "\t 2018 & 122 & 5 & 1 &  6.318049 & 13.8108274 &  40.57540 & 0.02388135 & 0.074810831 & 0.2197898 & ⋯ & +80\\%    & 460.4004 & 219.456 & 0.6684109 & 0.1318510 & 0.2766125 & 0.1848908 & 0.02878959 &         NA &         NA\\\\\n",
       "\t 2018 & 131 & 5 & 0 & 60.193042 &  1.3377536 &  88.86602 & 0.22752133 & 0.007246377 & 0.4813717 & ⋯ & +80\\%    & 460.4004 & 219.456 & 0.5908770 & 0.3266653 & 0.6853165 & 0.4049378 & 0.27428297 & 0.07900632 & 0.13389689\\\\\n",
       "\t 2018 & 139 & 5 & 0 & 43.983785 &  2.7264693 &  48.46490 & 0.16625259 & 0.014768806 & 0.2625259 & ⋯ & +80\\%    & 460.4004 & 219.456 & 0.5092180 & 0.2067226 & 0.4336867 & 0.2208411 & 0.20042188 & 0.06518514 & 0.14153328\\\\\n",
       "\t 2018 & 208 & 5 & 0 & 64.159399 &  0.0000000 &  90.78781 & 0.24251360 & 0.000000000 & 0.4917816 & ⋯ & +80\\%    & 460.4004 & 219.456 & 0.5859274 & 0.3365488 & 0.7060514 & 0.4136948 & 0.29235655 & 0.05262301 & 0.11387606\\\\\n",
       "\t 2018 & 215 & 5 & 1 & 56.617538 &  7.5299312 &  82.02953 & 0.21400642 & 0.040788317 & 0.4443396 & ⋯ & +80\\%    & 460.4004 & 219.456 & 0.5611658 & 0.3174997 & 0.6660880 & 0.3737858 & 0.25799039 &         NA &         NA\\\\\n",
       "\t ⋮ & ⋮ & ⋮ & ⋮ & ⋮ & ⋮ & ⋮ & ⋮ & ⋮ & ⋮ & ⋱ & ⋮ & ⋮ & ⋮ & ⋮ & ⋮ & ⋮ & ⋮ & ⋮ & ⋮ & ⋮\\\\\n",
       "\t 2020 & 212 & 1 & 1 &  0.0000000 & 19.7492380 &  93.28830 & 0.000000000 & 0.106978160 & 0.5053264 & ⋯ & -80\\%    & NA & NA & 0.8252860 & NA & NA & NA & NA &         NA &         NA\\\\\n",
       "\t 2020 & 214 & 1 & 0 &  0.0000000 &  0.0000000 & 128.55536 & 0.000000000 & 0.000000000 & 0.6963618 & ⋯ & -80\\%    & NA & NA & 1.0000000 & NA & NA & NA & NA & 0.10153488 & 0.08159939\\\\\n",
       "\t 2020 & 309 & 1 & 0 &  0.0000000 &  0.0000000 & 141.03928 & 0.000000000 & 0.000000000 & 0.7639851 & ⋯ & -80\\%    & NA & NA & 1.0000000 & NA & NA & NA & NA & 0.08391084 & 0.10004758\\\\\n",
       "\t 2020 & 316 & 1 & 0 &  0.8241745 &  0.0000000 & 105.36580 & 0.003115265 & 0.000000000 & 0.5707481 & ⋯ & -80\\%    & NA & NA & 0.9922387 & NA & NA & NA & NA & 0.09055542 & 0.08537678\\\\\n",
       "\t 2020 & 334 & 1 & 1 &  0.0000000 &  0.0000000 & 122.72679 & 0.000000000 & 0.000000000 & 0.6647895 & ⋯ & -80\\%    & NA & NA & 1.0000000 & NA & NA & NA & NA &         NA &         NA\\\\\n",
       "\t 2020 & 340 & 1 & 1 &  0.0000000 &  0.0000000 & 124.16066 & 0.000000000 & 0.000000000 & 0.6725565 & ⋯ & -80\\%    & NA & NA & 1.0000000 & NA & NA & NA & NA &         NA &         NA\\\\\n",
       "\t 2020 & 101 & 3 & 0 & 26.0249381 & 18.2499161 & 115.47373 & 0.098370646 & 0.098856596 & 0.6255009 & ⋯ & ambient & NA & NA & 0.7228467 & NA & NA & NA & NA & 0.05609000 & 0.07546351\\\\\n",
       "\t 2020 & 102 & 3 & 1 & 35.5853693 &  0.0000000 & 108.48786 & 0.134507746 & 0.000000000 & 0.5876597 & ⋯ & ambient & NA & NA & 0.7530050 & NA & NA & NA & NA &         NA &         NA\\\\\n",
       "\t 2020 & 124 & 3 & 0 & 21.2579986 &  2.5933955 &  75.12177 & 0.080352278 & 0.014047969 & 0.4069215 & ⋯ & ambient & NA & NA & 0.7590115 & NA & NA & NA & NA & 0.07110000 & 0.09006883\\\\\n",
       "\t 2020 & 125 & 3 & 1 & 24.0470192 &  4.9462150 & 102.18641 & 0.090894388 & 0.026792779 & 0.5535258 & ⋯ & ambient & NA & NA & 0.7789807 & NA & NA & NA & NA &         NA &         NA\\\\\n",
       "\t 2020 & 202 & 3 & 0 & 32.7519268 &  0.0000000 & 130.82923 & 0.123797728 & 0.000000000 & 0.7086790 & ⋯ & ambient & NA & NA & 0.7997818 & NA & NA & NA & NA & 0.05932559 &        NaN\\\\\n",
       "\t 2020 & 207 & 3 & 0 & 10.3137854 &  0.0000000 & 135.33115 & 0.038984674 & 0.000000000 & 0.7330651 & ⋯ & ambient & NA & NA & 0.9291854 & NA & NA & NA & NA &        NaN & 0.09173357\\\\\n",
       "\t 2020 & 220 & 3 & 1 &  6.7189841 & 11.0738741 & 104.22390 & 0.025396825 & 0.059985234 & 0.5645626 & ⋯ & ambient & NA & NA & 0.8541769 & NA & NA & NA & NA &         NA &         NA\\\\\n",
       "\t 2020 & 231 & 3 & 1 &  3.4507826 & 37.4685136 &  72.62164 & 0.013043478 & 0.202960368 & 0.3933787 & ⋯ & ambient & NA & NA & 0.6396075 & NA & NA & NA & NA &         NA &         NA\\\\\n",
       "\t 2020 & 301 & 3 & 1 & 32.4158312 &  4.4196098 &  77.38972 & 0.122527333 & 0.023940252 & 0.4192065 & ⋯ & ambient & NA & NA & 0.6775190 & NA & NA & NA & NA &         NA &         NA\\\\\n",
       "\t 2020 & 324 & 3 & 0 & 12.1436459 &  0.2759492 & 153.64821 & 0.045901292 & 0.001494768 & 0.8322854 & ⋯ & ambient & NA & NA & 0.9252137 & NA & NA & NA & NA & 0.05297598 & 0.09161139\\\\\n",
       "\t 2020 & 337 & 3 & 0 & 16.0267424 &  0.8667136 & 104.34917 & 0.060578857 & 0.004694836 & 0.5652411 & ⋯ & ambient & NA & NA & 0.8606641 & NA & NA & NA & NA & 0.07753215 & 0.13327109\\\\\n",
       "\t 2020 & 343 & 3 & 1 &  3.2219142 &  1.6782727 & 129.68774 & 0.012178388 & 0.009090909 & 0.7024957 & ⋯ & ambient & NA & NA & 0.9635912 & NA & NA & NA & NA &         NA &         NA\\\\\n",
       "\t 2020 & 103 & 5 & 1 & 96.6635411 &  5.5384326 &  65.25459 & 0.365374740 & 0.030000718 & 0.3534727 & ⋯ & +80\\%    & NA & NA & 0.3896807 & NA & NA & NA & NA &         NA &         NA\\\\\n",
       "\t 2020 & 122 & 5 & 1 &  1.7207154 &  9.8807830 & 112.13012 & 0.006504065 & 0.053522469 & 0.6073892 & ⋯ & +80\\%    & NA & NA & 0.9062366 & NA & NA & NA & NA &         NA &         NA\\\\\n",
       "\t 2020 & 131 & 5 & 0 & 82.8384251 &  4.1024444 & 116.85707 & 0.313117724 & 0.022222222 & 0.6329943 & ⋯ & +80\\%    & NA & NA & 0.5733967 & NA & NA & NA & NA &        NaN &        NaN\\\\\n",
       "\t 2020 & 139 & 5 & 0 & 40.2375527 &  1.1721270 &  95.26196 & 0.152092352 & 0.006349206 & 0.5160173 & ⋯ & +80\\%    & NA & NA & 0.6970134 & NA & NA & NA & NA &        NaN &        NaN\\\\\n",
       "\t 2020 & 208 & 5 & 0 & 77.7874093 &  0.0000000 & 143.07039 & 0.294025587 & 0.000000000 & 0.7749872 & ⋯ & +80\\%    & NA & NA & 0.6477941 & NA & NA & NA & NA & 0.05736290 & 0.09586317\\\\\n",
       "\t 2020 & 215 & 5 & 1 & 46.9436896 &  4.9957308 &  76.73249 & 0.177440617 & 0.027060998 & 0.4156464 & ⋯ & +80\\%    & NA & NA & 0.5963422 & NA & NA & NA & NA &         NA &         NA\\\\\n",
       "\t 2020 & 223 & 5 & 0 & 32.0635217 &  1.3377536 & 133.73077 & 0.121195652 & 0.007246377 & 0.7243961 & ⋯ & +80\\%    & NA & NA & 0.8001504 & NA & NA & NA & NA & 0.10784310 &        NaN\\\\\n",
       "\t 2020 & 236 & 5 & 1 & 22.6907618 & 12.4339228 &  80.16421 & 0.085767923 & 0.067352380 & 0.4342355 & ⋯ & +80\\%    & NA & NA & 0.6953333 & NA & NA & NA & NA &         NA &         NA\\\\\n",
       "\t 2020 & 310 & 5 & 1 & 27.2771609 &  0.0000000 &  87.63501 & 0.103103874 & 0.000000000 & 0.4747035 & ⋯ & +80\\%    & NA & NA & 0.7626260 & NA & NA & NA & NA &         NA &         NA\\\\\n",
       "\t 2020 & 326 & 5 & 0 & 33.4592917 &  6.8228845 &  50.65404 & 0.126471468 & 0.036958369 & 0.2743840 & ⋯ & +80\\%    & NA & NA & 0.5570282 & NA & NA & NA & NA & 0.04183139 & 0.07079994\\\\\n",
       "\t 2020 & 329 & 5 & 1 & 16.7762806 &  9.7396326 & 163.48350 & 0.063412007 & 0.052757882 & 0.8855614 & ⋯ & +80\\%    & NA & NA & 0.8604421 & NA & NA & NA & NA &         NA &         NA\\\\\n",
       "\t 2020 & 341 & 5 & 0 & 28.3046388 &  3.3565455 & 102.34425 & 0.106987597 & 0.018181818 & 0.5543808 & ⋯ & +80\\%    & NA & NA & 0.7637321 & NA & NA & NA & NA & 0.07514428 &        NaN\\\\\n",
       "\\end{tabular}\n"
      ],
      "text/markdown": [
       "\n",
       "A spec_tbl_df: 108 × 22\n",
       "\n",
       "| year &lt;dbl&gt; | plot &lt;dbl&gt; | water &lt;dbl&gt; | N &lt;dbl&gt; | biomass.grass &lt;dbl&gt; | biomass.rare &lt;dbl&gt; | biomass.shrub &lt;dbl&gt; | cover.grass &lt;dbl&gt; | cover.rare &lt;dbl&gt; | cover.shrub &lt;dbl&gt; | ⋯ ⋯ | PPT treatment &lt;chr&gt; | ann_PPT_mm &lt;dbl&gt; | gs_PPT_mm &lt;dbl&gt; | shrubratio &lt;dbl&gt; | RUEann_tot &lt;dbl&gt; | RUEgs_tot &lt;dbl&gt; | RUEgs_shrub &lt;dbl&gt; | RUEgs_grass &lt;dbl&gt; | deep &lt;dbl&gt; | surf &lt;dbl&gt; |\n",
       "|---|---|---|---|---|---|---|---|---|---|---|---|---|---|---|---|---|---|---|---|---|\n",
       "| 2018 | 104 | 1 | 1 |  0.000000 |  0.0000000 | 122.78030 | 0.00000000 | 0.000000000 | 0.6650794 | ⋯ | -80%    |  51.1556 |  24.384 | 1.0000000 | 2.4001341 | 5.0352814 | 5.0352814 | 0.00000000 |         NA |         NA |\n",
       "| 2018 | 108 | 1 | 0 |  0.000000 |  0.0000000 | 123.56616 | 0.00000000 | 0.000000000 | 0.6693362 | ⋯ | -80%    |  51.1556 |  24.384 | 1.0000000 | 2.4154962 | 5.0675098 | 5.0675098 | 0.00000000 | 0.06647203 | 0.10880887 |\n",
       "| 2018 | 126 | 1 | 0 |  0.000000 |  0.0000000 | 140.08662 | 0.00000000 | 0.000000000 | 0.7588247 | ⋯ | -80%    |  51.1556 |  24.384 | 1.0000000 | 2.7384415 | 5.7450222 | 5.7450222 | 0.00000000 | 0.05658909 | 0.09354422 |\n",
       "| 2018 | 137 | 1 | 1 |  0.000000 |  0.0000000 | 151.67636 | 0.00000000 | 0.000000000 | 0.8216042 | ⋯ | -80%    |  51.1556 |  24.384 | 1.0000000 | 2.9650001 | 6.2203231 | 6.2203231 | 0.00000000 |         NA |         NA |\n",
       "| 2018 | 203 | 1 | 1 |  0.000000 |  0.0000000 | 100.27233 | 0.00000000 | 0.000000000 | 0.5431576 | ⋯ | -80%    |  51.1556 |  24.384 | 1.0000000 | 1.9601437 | 4.1122181 | 4.1122181 | 0.00000000 |         NA |         NA |\n",
       "| 2018 | 206 | 1 | 0 |  0.000000 |  0.0000000 |  97.78366 | 0.00000000 | 0.000000000 | 0.5296769 | ⋯ | -80%    |  51.1556 |  24.384 | 1.0000000 | 1.9114947 | 4.0101566 | 4.0101566 | 0.00000000 | 0.08136947 | 0.13670443 |\n",
       "| 2018 | 212 | 1 | 1 |  0.000000 |  5.4184302 |  83.68020 | 0.00000000 | 0.029350686 | 0.4532810 | ⋯ | -80%    |  51.1556 |  24.384 | 0.9391862 | 1.7417180 | 3.6539792 | 3.4317666 | 0.00000000 |         NA |         NA |\n",
       "| 2018 | 214 | 1 | 0 |  0.000000 |  0.0000000 |  70.10119 | 0.00000000 | 0.000000000 | 0.3797258 | ⋯ | -80%    |  51.1556 |  24.384 | 1.0000000 | 1.3703521 | 2.8748846 | 2.8748846 | 0.00000000 |        NaN |        NaN |\n",
       "| 2018 | 309 | 1 | 0 |  0.000000 |  0.0000000 | 136.25976 | 0.00000000 | 0.000000000 | 0.7380952 | ⋯ | -80%    |  51.1556 |  24.384 | 1.0000000 | 2.6636333 | 5.5880808 | 5.5880808 | 0.00000000 | 0.08212333 | 0.14243639 |\n",
       "| 2018 | 316 | 1 | 0 |  0.000000 |  0.0000000 |  96.49867 | 0.00000000 | 0.000000000 | 0.5227164 | ⋯ | -80%    |  51.1556 |  24.384 | 1.0000000 | 1.8863755 | 3.9574586 | 3.9574586 | 0.00000000 | 0.08478478 | 0.10844430 |\n",
       "| 2018 | 334 | 1 | 1 |  0.000000 |  0.0000000 | 118.67786 | 0.00000000 | 0.000000000 | 0.6428571 | ⋯ | -80%    |  51.1556 |  24.384 | 1.0000000 | 2.3199387 | 4.8670381 | 4.8670381 | 0.00000000 |         NA |         NA |\n",
       "| 2018 | 340 | 1 | 1 |  0.000000 |  1.7581905 |  97.68804 | 0.00000000 | 0.009523810 | 0.5291590 | ⋯ | -80%    |  51.1556 |  24.384 | 0.9823202 | 1.9439949 | 4.0783393 | 4.0062351 | 0.00000000 |         NA |         NA |\n",
       "| 2018 | 101 | 3 | 0 | 44.933206 |  7.3257937 |  92.30500 | 0.16984127 | 0.039682540 | 0.5000000 | ⋯ | ambient | 255.7780 | 121.920 | 0.6385061 | 0.5651933 | 1.1857283 | 0.7570948 | 0.36854664 | 0.05591756 | 0.10460561 |\n",
       "| 2018 | 102 | 3 | 1 | 41.993651 |  0.0000000 |  49.22933 | 0.15873016 | 0.000000000 | 0.2666667 | ⋯ | ambient | 255.7780 | 121.920 | 0.5396593 | 0.3566491 | 0.7482200 | 0.4037839 | 0.34443611 |         NA |         NA |\n",
       "| 2018 | 124 | 3 | 0 | 33.220789 |  1.1665719 |  35.31507 | 0.12556996 | 0.006319115 | 0.1912955 | ⋯ | ambient | 255.7780 | 121.920 | 0.5066548 | 0.2725114 | 0.5717063 | 0.2896577 | 0.27248023 | 0.06570772 | 0.12448987 |\n",
       "| 2018 | 125 | 3 | 1 | 15.365038 |  4.5379886 |  82.09704 | 0.05807771 | 0.024581488 | 0.4447053 | ⋯ | ambient | 255.7780 | 121.920 | 0.8048724 | 0.3987836 | 0.8366147 | 0.6733681 | 0.12602557 |         NA |         NA |\n",
       "| 2018 | 202 | 3 | 0 | 50.135753 |  0.0000000 |  80.72211 | 0.18950617 | 0.000000000 | 0.4372575 | ⋯ | ambient | 255.7780 | 121.920 | 0.6168686 | 0.5116072 | 1.0733092 | 0.6620908 | 0.41121845 |        NaN |        NaN |\n",
       "| 2018 | 207 | 3 | 0 | 12.369039 |  1.1721270 |  86.08474 | 0.04675325 | 0.006349206 | 0.4663059 | ⋯ | ambient | 255.7780 | 121.920 | 0.8640799 | 0.3895014 | 0.8171416 | 0.7060756 | 0.10145209 |        NaN |        NaN |\n",
       "| 2018 | 220 | 3 | 1 |  2.945583 |  4.7888457 |  84.27564 | 0.01113390 | 0.025940337 | 0.4565063 | ⋯ | ambient | 255.7780 | 121.920 | 0.9159393 | 0.3597263 | 0.7546757 | 0.6912372 | 0.02415997 |         NA |         NA |\n",
       "| 2018 | 231 | 3 | 1 | 16.117936 | 15.5259376 |  55.57827 | 0.06092355 | 0.084101281 | 0.3010578 | ⋯ | ambient | 255.7780 | 121.920 | 0.6372037 | 0.3410072 | 0.7154048 | 0.4558586 | 0.13220092 |         NA |         NA |\n",
       "| 2018 | 301 | 3 | 1 | 29.008816 |  1.9736209 |  52.98547 | 0.10964929 | 0.010690759 | 0.2870130 | ⋯ | ambient | 255.7780 | 121.920 | 0.6310205 | 0.3282843 | 0.6887131 | 0.4345921 | 0.23793320 |         NA |         NA |\n",
       "| 2018 | 324 | 3 | 0 | 25.387071 |  0.0000000 |  53.77133 | 0.09595960 | 0.000000000 | 0.2912698 | ⋯ | ambient | 255.7780 | 121.920 | 0.6792877 | 0.3094809 | 0.6492651 | 0.4410378 | 0.20822729 | 0.04335977 | 0.10953088 |\n",
       "| 2018 | 337 | 3 | 0 | 27.295873 |  0.5860635 |  58.89938 | 0.10317460 | 0.003174603 | 0.3190476 | ⋯ | ambient | 255.7780 | 121.920 | 0.6787104 | 0.3392837 | 0.7117890 | 0.4830986 | 0.22388347 | 0.07430309 | 0.14662591 |\n",
       "| 2018 | 343 | 3 | 1 |  2.939556 |  9.6700476 |  59.48544 | 0.01111111 | 0.052380952 | 0.3222222 | ⋯ | ambient | 255.7780 | 121.920 | 0.8250975 | 0.2818657 | 0.5913308 | 0.4879055 | 0.02411053 |         NA |         NA |\n",
       "| 2018 | 103 | 5 | 1 | 59.630984 |  0.5860635 |  36.62897 | 0.22539683 | 0.003174603 | 0.1984127 | ⋯ | +80%    | 460.4004 | 219.456 | 0.3782186 | 0.2103517 | 0.4413004 | 0.1669080 | 0.27172182 |         NA |         NA |\n",
       "| 2018 | 122 | 5 | 1 |  6.318049 | 13.8108274 |  40.57540 | 0.02388135 | 0.074810831 | 0.2197898 | ⋯ | +80%    | 460.4004 | 219.456 | 0.6684109 | 0.1318510 | 0.2766125 | 0.1848908 | 0.02878959 |         NA |         NA |\n",
       "| 2018 | 131 | 5 | 0 | 60.193042 |  1.3377536 |  88.86602 | 0.22752133 | 0.007246377 | 0.4813717 | ⋯ | +80%    | 460.4004 | 219.456 | 0.5908770 | 0.3266653 | 0.6853165 | 0.4049378 | 0.27428297 | 0.07900632 | 0.13389689 |\n",
       "| 2018 | 139 | 5 | 0 | 43.983785 |  2.7264693 |  48.46490 | 0.16625259 | 0.014768806 | 0.2625259 | ⋯ | +80%    | 460.4004 | 219.456 | 0.5092180 | 0.2067226 | 0.4336867 | 0.2208411 | 0.20042188 | 0.06518514 | 0.14153328 |\n",
       "| 2018 | 208 | 5 | 0 | 64.159399 |  0.0000000 |  90.78781 | 0.24251360 | 0.000000000 | 0.4917816 | ⋯ | +80%    | 460.4004 | 219.456 | 0.5859274 | 0.3365488 | 0.7060514 | 0.4136948 | 0.29235655 | 0.05262301 | 0.11387606 |\n",
       "| 2018 | 215 | 5 | 1 | 56.617538 |  7.5299312 |  82.02953 | 0.21400642 | 0.040788317 | 0.4443396 | ⋯ | +80%    | 460.4004 | 219.456 | 0.5611658 | 0.3174997 | 0.6660880 | 0.3737858 | 0.25799039 |         NA |         NA |\n",
       "| ⋮ | ⋮ | ⋮ | ⋮ | ⋮ | ⋮ | ⋮ | ⋮ | ⋮ | ⋮ | ⋱ | ⋮ | ⋮ | ⋮ | ⋮ | ⋮ | ⋮ | ⋮ | ⋮ | ⋮ | ⋮ |\n",
       "| 2020 | 212 | 1 | 1 |  0.0000000 | 19.7492380 |  93.28830 | 0.000000000 | 0.106978160 | 0.5053264 | ⋯ | -80%    | NA | NA | 0.8252860 | NA | NA | NA | NA |         NA |         NA |\n",
       "| 2020 | 214 | 1 | 0 |  0.0000000 |  0.0000000 | 128.55536 | 0.000000000 | 0.000000000 | 0.6963618 | ⋯ | -80%    | NA | NA | 1.0000000 | NA | NA | NA | NA | 0.10153488 | 0.08159939 |\n",
       "| 2020 | 309 | 1 | 0 |  0.0000000 |  0.0000000 | 141.03928 | 0.000000000 | 0.000000000 | 0.7639851 | ⋯ | -80%    | NA | NA | 1.0000000 | NA | NA | NA | NA | 0.08391084 | 0.10004758 |\n",
       "| 2020 | 316 | 1 | 0 |  0.8241745 |  0.0000000 | 105.36580 | 0.003115265 | 0.000000000 | 0.5707481 | ⋯ | -80%    | NA | NA | 0.9922387 | NA | NA | NA | NA | 0.09055542 | 0.08537678 |\n",
       "| 2020 | 334 | 1 | 1 |  0.0000000 |  0.0000000 | 122.72679 | 0.000000000 | 0.000000000 | 0.6647895 | ⋯ | -80%    | NA | NA | 1.0000000 | NA | NA | NA | NA |         NA |         NA |\n",
       "| 2020 | 340 | 1 | 1 |  0.0000000 |  0.0000000 | 124.16066 | 0.000000000 | 0.000000000 | 0.6725565 | ⋯ | -80%    | NA | NA | 1.0000000 | NA | NA | NA | NA |         NA |         NA |\n",
       "| 2020 | 101 | 3 | 0 | 26.0249381 | 18.2499161 | 115.47373 | 0.098370646 | 0.098856596 | 0.6255009 | ⋯ | ambient | NA | NA | 0.7228467 | NA | NA | NA | NA | 0.05609000 | 0.07546351 |\n",
       "| 2020 | 102 | 3 | 1 | 35.5853693 |  0.0000000 | 108.48786 | 0.134507746 | 0.000000000 | 0.5876597 | ⋯ | ambient | NA | NA | 0.7530050 | NA | NA | NA | NA |         NA |         NA |\n",
       "| 2020 | 124 | 3 | 0 | 21.2579986 |  2.5933955 |  75.12177 | 0.080352278 | 0.014047969 | 0.4069215 | ⋯ | ambient | NA | NA | 0.7590115 | NA | NA | NA | NA | 0.07110000 | 0.09006883 |\n",
       "| 2020 | 125 | 3 | 1 | 24.0470192 |  4.9462150 | 102.18641 | 0.090894388 | 0.026792779 | 0.5535258 | ⋯ | ambient | NA | NA | 0.7789807 | NA | NA | NA | NA |         NA |         NA |\n",
       "| 2020 | 202 | 3 | 0 | 32.7519268 |  0.0000000 | 130.82923 | 0.123797728 | 0.000000000 | 0.7086790 | ⋯ | ambient | NA | NA | 0.7997818 | NA | NA | NA | NA | 0.05932559 |        NaN |\n",
       "| 2020 | 207 | 3 | 0 | 10.3137854 |  0.0000000 | 135.33115 | 0.038984674 | 0.000000000 | 0.7330651 | ⋯ | ambient | NA | NA | 0.9291854 | NA | NA | NA | NA |        NaN | 0.09173357 |\n",
       "| 2020 | 220 | 3 | 1 |  6.7189841 | 11.0738741 | 104.22390 | 0.025396825 | 0.059985234 | 0.5645626 | ⋯ | ambient | NA | NA | 0.8541769 | NA | NA | NA | NA |         NA |         NA |\n",
       "| 2020 | 231 | 3 | 1 |  3.4507826 | 37.4685136 |  72.62164 | 0.013043478 | 0.202960368 | 0.3933787 | ⋯ | ambient | NA | NA | 0.6396075 | NA | NA | NA | NA |         NA |         NA |\n",
       "| 2020 | 301 | 3 | 1 | 32.4158312 |  4.4196098 |  77.38972 | 0.122527333 | 0.023940252 | 0.4192065 | ⋯ | ambient | NA | NA | 0.6775190 | NA | NA | NA | NA |         NA |         NA |\n",
       "| 2020 | 324 | 3 | 0 | 12.1436459 |  0.2759492 | 153.64821 | 0.045901292 | 0.001494768 | 0.8322854 | ⋯ | ambient | NA | NA | 0.9252137 | NA | NA | NA | NA | 0.05297598 | 0.09161139 |\n",
       "| 2020 | 337 | 3 | 0 | 16.0267424 |  0.8667136 | 104.34917 | 0.060578857 | 0.004694836 | 0.5652411 | ⋯ | ambient | NA | NA | 0.8606641 | NA | NA | NA | NA | 0.07753215 | 0.13327109 |\n",
       "| 2020 | 343 | 3 | 1 |  3.2219142 |  1.6782727 | 129.68774 | 0.012178388 | 0.009090909 | 0.7024957 | ⋯ | ambient | NA | NA | 0.9635912 | NA | NA | NA | NA |         NA |         NA |\n",
       "| 2020 | 103 | 5 | 1 | 96.6635411 |  5.5384326 |  65.25459 | 0.365374740 | 0.030000718 | 0.3534727 | ⋯ | +80%    | NA | NA | 0.3896807 | NA | NA | NA | NA |         NA |         NA |\n",
       "| 2020 | 122 | 5 | 1 |  1.7207154 |  9.8807830 | 112.13012 | 0.006504065 | 0.053522469 | 0.6073892 | ⋯ | +80%    | NA | NA | 0.9062366 | NA | NA | NA | NA |         NA |         NA |\n",
       "| 2020 | 131 | 5 | 0 | 82.8384251 |  4.1024444 | 116.85707 | 0.313117724 | 0.022222222 | 0.6329943 | ⋯ | +80%    | NA | NA | 0.5733967 | NA | NA | NA | NA |        NaN |        NaN |\n",
       "| 2020 | 139 | 5 | 0 | 40.2375527 |  1.1721270 |  95.26196 | 0.152092352 | 0.006349206 | 0.5160173 | ⋯ | +80%    | NA | NA | 0.6970134 | NA | NA | NA | NA |        NaN |        NaN |\n",
       "| 2020 | 208 | 5 | 0 | 77.7874093 |  0.0000000 | 143.07039 | 0.294025587 | 0.000000000 | 0.7749872 | ⋯ | +80%    | NA | NA | 0.6477941 | NA | NA | NA | NA | 0.05736290 | 0.09586317 |\n",
       "| 2020 | 215 | 5 | 1 | 46.9436896 |  4.9957308 |  76.73249 | 0.177440617 | 0.027060998 | 0.4156464 | ⋯ | +80%    | NA | NA | 0.5963422 | NA | NA | NA | NA |         NA |         NA |\n",
       "| 2020 | 223 | 5 | 0 | 32.0635217 |  1.3377536 | 133.73077 | 0.121195652 | 0.007246377 | 0.7243961 | ⋯ | +80%    | NA | NA | 0.8001504 | NA | NA | NA | NA | 0.10784310 |        NaN |\n",
       "| 2020 | 236 | 5 | 1 | 22.6907618 | 12.4339228 |  80.16421 | 0.085767923 | 0.067352380 | 0.4342355 | ⋯ | +80%    | NA | NA | 0.6953333 | NA | NA | NA | NA |         NA |         NA |\n",
       "| 2020 | 310 | 5 | 1 | 27.2771609 |  0.0000000 |  87.63501 | 0.103103874 | 0.000000000 | 0.4747035 | ⋯ | +80%    | NA | NA | 0.7626260 | NA | NA | NA | NA |         NA |         NA |\n",
       "| 2020 | 326 | 5 | 0 | 33.4592917 |  6.8228845 |  50.65404 | 0.126471468 | 0.036958369 | 0.2743840 | ⋯ | +80%    | NA | NA | 0.5570282 | NA | NA | NA | NA | 0.04183139 | 0.07079994 |\n",
       "| 2020 | 329 | 5 | 1 | 16.7762806 |  9.7396326 | 163.48350 | 0.063412007 | 0.052757882 | 0.8855614 | ⋯ | +80%    | NA | NA | 0.8604421 | NA | NA | NA | NA |         NA |         NA |\n",
       "| 2020 | 341 | 5 | 0 | 28.3046388 |  3.3565455 | 102.34425 | 0.106987597 | 0.018181818 | 0.5543808 | ⋯ | +80%    | NA | NA | 0.7637321 | NA | NA | NA | NA | 0.07514428 |        NaN |\n",
       "\n"
      ],
      "text/plain": [
       "    year plot water N biomass.grass biomass.rare biomass.shrub cover.grass\n",
       "1   2018 104  1     1  0.000000      0.0000000   122.78030     0.00000000 \n",
       "2   2018 108  1     0  0.000000      0.0000000   123.56616     0.00000000 \n",
       "3   2018 126  1     0  0.000000      0.0000000   140.08662     0.00000000 \n",
       "4   2018 137  1     1  0.000000      0.0000000   151.67636     0.00000000 \n",
       "5   2018 203  1     1  0.000000      0.0000000   100.27233     0.00000000 \n",
       "6   2018 206  1     0  0.000000      0.0000000    97.78366     0.00000000 \n",
       "7   2018 212  1     1  0.000000      5.4184302    83.68020     0.00000000 \n",
       "8   2018 214  1     0  0.000000      0.0000000    70.10119     0.00000000 \n",
       "9   2018 309  1     0  0.000000      0.0000000   136.25976     0.00000000 \n",
       "10  2018 316  1     0  0.000000      0.0000000    96.49867     0.00000000 \n",
       "11  2018 334  1     1  0.000000      0.0000000   118.67786     0.00000000 \n",
       "12  2018 340  1     1  0.000000      1.7581905    97.68804     0.00000000 \n",
       "13  2018 101  3     0 44.933206      7.3257937    92.30500     0.16984127 \n",
       "14  2018 102  3     1 41.993651      0.0000000    49.22933     0.15873016 \n",
       "15  2018 124  3     0 33.220789      1.1665719    35.31507     0.12556996 \n",
       "16  2018 125  3     1 15.365038      4.5379886    82.09704     0.05807771 \n",
       "17  2018 202  3     0 50.135753      0.0000000    80.72211     0.18950617 \n",
       "18  2018 207  3     0 12.369039      1.1721270    86.08474     0.04675325 \n",
       "19  2018 220  3     1  2.945583      4.7888457    84.27564     0.01113390 \n",
       "20  2018 231  3     1 16.117936     15.5259376    55.57827     0.06092355 \n",
       "21  2018 301  3     1 29.008816      1.9736209    52.98547     0.10964929 \n",
       "22  2018 324  3     0 25.387071      0.0000000    53.77133     0.09595960 \n",
       "23  2018 337  3     0 27.295873      0.5860635    58.89938     0.10317460 \n",
       "24  2018 343  3     1  2.939556      9.6700476    59.48544     0.01111111 \n",
       "25  2018 103  5     1 59.630984      0.5860635    36.62897     0.22539683 \n",
       "26  2018 122  5     1  6.318049     13.8108274    40.57540     0.02388135 \n",
       "27  2018 131  5     0 60.193042      1.3377536    88.86602     0.22752133 \n",
       "28  2018 139  5     0 43.983785      2.7264693    48.46490     0.16625259 \n",
       "29  2018 208  5     0 64.159399      0.0000000    90.78781     0.24251360 \n",
       "30  2018 215  5     1 56.617538      7.5299312    82.02953     0.21400642 \n",
       "⋮   ⋮    ⋮    ⋮     ⋮ ⋮             ⋮            ⋮             ⋮          \n",
       "79  2020 212  1     1  0.0000000    19.7492380    93.28830     0.000000000\n",
       "80  2020 214  1     0  0.0000000     0.0000000   128.55536     0.000000000\n",
       "81  2020 309  1     0  0.0000000     0.0000000   141.03928     0.000000000\n",
       "82  2020 316  1     0  0.8241745     0.0000000   105.36580     0.003115265\n",
       "83  2020 334  1     1  0.0000000     0.0000000   122.72679     0.000000000\n",
       "84  2020 340  1     1  0.0000000     0.0000000   124.16066     0.000000000\n",
       "85  2020 101  3     0 26.0249381    18.2499161   115.47373     0.098370646\n",
       "86  2020 102  3     1 35.5853693     0.0000000   108.48786     0.134507746\n",
       "87  2020 124  3     0 21.2579986     2.5933955    75.12177     0.080352278\n",
       "88  2020 125  3     1 24.0470192     4.9462150   102.18641     0.090894388\n",
       "89  2020 202  3     0 32.7519268     0.0000000   130.82923     0.123797728\n",
       "90  2020 207  3     0 10.3137854     0.0000000   135.33115     0.038984674\n",
       "91  2020 220  3     1  6.7189841    11.0738741   104.22390     0.025396825\n",
       "92  2020 231  3     1  3.4507826    37.4685136    72.62164     0.013043478\n",
       "93  2020 301  3     1 32.4158312     4.4196098    77.38972     0.122527333\n",
       "94  2020 324  3     0 12.1436459     0.2759492   153.64821     0.045901292\n",
       "95  2020 337  3     0 16.0267424     0.8667136   104.34917     0.060578857\n",
       "96  2020 343  3     1  3.2219142     1.6782727   129.68774     0.012178388\n",
       "97  2020 103  5     1 96.6635411     5.5384326    65.25459     0.365374740\n",
       "98  2020 122  5     1  1.7207154     9.8807830   112.13012     0.006504065\n",
       "99  2020 131  5     0 82.8384251     4.1024444   116.85707     0.313117724\n",
       "100 2020 139  5     0 40.2375527     1.1721270    95.26196     0.152092352\n",
       "101 2020 208  5     0 77.7874093     0.0000000   143.07039     0.294025587\n",
       "102 2020 215  5     1 46.9436896     4.9957308    76.73249     0.177440617\n",
       "103 2020 223  5     0 32.0635217     1.3377536   133.73077     0.121195652\n",
       "104 2020 236  5     1 22.6907618    12.4339228    80.16421     0.085767923\n",
       "105 2020 310  5     1 27.2771609     0.0000000    87.63501     0.103103874\n",
       "106 2020 326  5     0 33.4592917     6.8228845    50.65404     0.126471468\n",
       "107 2020 329  5     1 16.7762806     9.7396326   163.48350     0.063412007\n",
       "108 2020 341  5     0 28.3046388     3.3565455   102.34425     0.106987597\n",
       "    cover.rare  cover.shrub ⋯ PPT treatment ann_PPT_mm gs_PPT_mm shrubratio\n",
       "1   0.000000000 0.6650794   ⋯ -80%           51.1556    24.384   1.0000000 \n",
       "2   0.000000000 0.6693362   ⋯ -80%           51.1556    24.384   1.0000000 \n",
       "3   0.000000000 0.7588247   ⋯ -80%           51.1556    24.384   1.0000000 \n",
       "4   0.000000000 0.8216042   ⋯ -80%           51.1556    24.384   1.0000000 \n",
       "5   0.000000000 0.5431576   ⋯ -80%           51.1556    24.384   1.0000000 \n",
       "6   0.000000000 0.5296769   ⋯ -80%           51.1556    24.384   1.0000000 \n",
       "7   0.029350686 0.4532810   ⋯ -80%           51.1556    24.384   0.9391862 \n",
       "8   0.000000000 0.3797258   ⋯ -80%           51.1556    24.384   1.0000000 \n",
       "9   0.000000000 0.7380952   ⋯ -80%           51.1556    24.384   1.0000000 \n",
       "10  0.000000000 0.5227164   ⋯ -80%           51.1556    24.384   1.0000000 \n",
       "11  0.000000000 0.6428571   ⋯ -80%           51.1556    24.384   1.0000000 \n",
       "12  0.009523810 0.5291590   ⋯ -80%           51.1556    24.384   0.9823202 \n",
       "13  0.039682540 0.5000000   ⋯ ambient       255.7780   121.920   0.6385061 \n",
       "14  0.000000000 0.2666667   ⋯ ambient       255.7780   121.920   0.5396593 \n",
       "15  0.006319115 0.1912955   ⋯ ambient       255.7780   121.920   0.5066548 \n",
       "16  0.024581488 0.4447053   ⋯ ambient       255.7780   121.920   0.8048724 \n",
       "17  0.000000000 0.4372575   ⋯ ambient       255.7780   121.920   0.6168686 \n",
       "18  0.006349206 0.4663059   ⋯ ambient       255.7780   121.920   0.8640799 \n",
       "19  0.025940337 0.4565063   ⋯ ambient       255.7780   121.920   0.9159393 \n",
       "20  0.084101281 0.3010578   ⋯ ambient       255.7780   121.920   0.6372037 \n",
       "21  0.010690759 0.2870130   ⋯ ambient       255.7780   121.920   0.6310205 \n",
       "22  0.000000000 0.2912698   ⋯ ambient       255.7780   121.920   0.6792877 \n",
       "23  0.003174603 0.3190476   ⋯ ambient       255.7780   121.920   0.6787104 \n",
       "24  0.052380952 0.3222222   ⋯ ambient       255.7780   121.920   0.8250975 \n",
       "25  0.003174603 0.1984127   ⋯ +80%          460.4004   219.456   0.3782186 \n",
       "26  0.074810831 0.2197898   ⋯ +80%          460.4004   219.456   0.6684109 \n",
       "27  0.007246377 0.4813717   ⋯ +80%          460.4004   219.456   0.5908770 \n",
       "28  0.014768806 0.2625259   ⋯ +80%          460.4004   219.456   0.5092180 \n",
       "29  0.000000000 0.4917816   ⋯ +80%          460.4004   219.456   0.5859274 \n",
       "30  0.040788317 0.4443396   ⋯ +80%          460.4004   219.456   0.5611658 \n",
       "⋮   ⋮           ⋮           ⋱ ⋮             ⋮          ⋮         ⋮         \n",
       "79  0.106978160 0.5053264   ⋯ -80%          NA         NA        0.8252860 \n",
       "80  0.000000000 0.6963618   ⋯ -80%          NA         NA        1.0000000 \n",
       "81  0.000000000 0.7639851   ⋯ -80%          NA         NA        1.0000000 \n",
       "82  0.000000000 0.5707481   ⋯ -80%          NA         NA        0.9922387 \n",
       "83  0.000000000 0.6647895   ⋯ -80%          NA         NA        1.0000000 \n",
       "84  0.000000000 0.6725565   ⋯ -80%          NA         NA        1.0000000 \n",
       "85  0.098856596 0.6255009   ⋯ ambient       NA         NA        0.7228467 \n",
       "86  0.000000000 0.5876597   ⋯ ambient       NA         NA        0.7530050 \n",
       "87  0.014047969 0.4069215   ⋯ ambient       NA         NA        0.7590115 \n",
       "88  0.026792779 0.5535258   ⋯ ambient       NA         NA        0.7789807 \n",
       "89  0.000000000 0.7086790   ⋯ ambient       NA         NA        0.7997818 \n",
       "90  0.000000000 0.7330651   ⋯ ambient       NA         NA        0.9291854 \n",
       "91  0.059985234 0.5645626   ⋯ ambient       NA         NA        0.8541769 \n",
       "92  0.202960368 0.3933787   ⋯ ambient       NA         NA        0.6396075 \n",
       "93  0.023940252 0.4192065   ⋯ ambient       NA         NA        0.6775190 \n",
       "94  0.001494768 0.8322854   ⋯ ambient       NA         NA        0.9252137 \n",
       "95  0.004694836 0.5652411   ⋯ ambient       NA         NA        0.8606641 \n",
       "96  0.009090909 0.7024957   ⋯ ambient       NA         NA        0.9635912 \n",
       "97  0.030000718 0.3534727   ⋯ +80%          NA         NA        0.3896807 \n",
       "98  0.053522469 0.6073892   ⋯ +80%          NA         NA        0.9062366 \n",
       "99  0.022222222 0.6329943   ⋯ +80%          NA         NA        0.5733967 \n",
       "100 0.006349206 0.5160173   ⋯ +80%          NA         NA        0.6970134 \n",
       "101 0.000000000 0.7749872   ⋯ +80%          NA         NA        0.6477941 \n",
       "102 0.027060998 0.4156464   ⋯ +80%          NA         NA        0.5963422 \n",
       "103 0.007246377 0.7243961   ⋯ +80%          NA         NA        0.8001504 \n",
       "104 0.067352380 0.4342355   ⋯ +80%          NA         NA        0.6953333 \n",
       "105 0.000000000 0.4747035   ⋯ +80%          NA         NA        0.7626260 \n",
       "106 0.036958369 0.2743840   ⋯ +80%          NA         NA        0.5570282 \n",
       "107 0.052757882 0.8855614   ⋯ +80%          NA         NA        0.8604421 \n",
       "108 0.018181818 0.5543808   ⋯ +80%          NA         NA        0.7637321 \n",
       "    RUEann_tot RUEgs_tot RUEgs_shrub RUEgs_grass deep       surf      \n",
       "1   2.4001341  5.0352814 5.0352814   0.00000000          NA         NA\n",
       "2   2.4154962  5.0675098 5.0675098   0.00000000  0.06647203 0.10880887\n",
       "3   2.7384415  5.7450222 5.7450222   0.00000000  0.05658909 0.09354422\n",
       "4   2.9650001  6.2203231 6.2203231   0.00000000          NA         NA\n",
       "5   1.9601437  4.1122181 4.1122181   0.00000000          NA         NA\n",
       "6   1.9114947  4.0101566 4.0101566   0.00000000  0.08136947 0.13670443\n",
       "7   1.7417180  3.6539792 3.4317666   0.00000000          NA         NA\n",
       "8   1.3703521  2.8748846 2.8748846   0.00000000         NaN        NaN\n",
       "9   2.6636333  5.5880808 5.5880808   0.00000000  0.08212333 0.14243639\n",
       "10  1.8863755  3.9574586 3.9574586   0.00000000  0.08478478 0.10844430\n",
       "11  2.3199387  4.8670381 4.8670381   0.00000000          NA         NA\n",
       "12  1.9439949  4.0783393 4.0062351   0.00000000          NA         NA\n",
       "13  0.5651933  1.1857283 0.7570948   0.36854664  0.05591756 0.10460561\n",
       "14  0.3566491  0.7482200 0.4037839   0.34443611          NA         NA\n",
       "15  0.2725114  0.5717063 0.2896577   0.27248023  0.06570772 0.12448987\n",
       "16  0.3987836  0.8366147 0.6733681   0.12602557          NA         NA\n",
       "17  0.5116072  1.0733092 0.6620908   0.41121845         NaN        NaN\n",
       "18  0.3895014  0.8171416 0.7060756   0.10145209         NaN        NaN\n",
       "19  0.3597263  0.7546757 0.6912372   0.02415997          NA         NA\n",
       "20  0.3410072  0.7154048 0.4558586   0.13220092          NA         NA\n",
       "21  0.3282843  0.6887131 0.4345921   0.23793320          NA         NA\n",
       "22  0.3094809  0.6492651 0.4410378   0.20822729  0.04335977 0.10953088\n",
       "23  0.3392837  0.7117890 0.4830986   0.22388347  0.07430309 0.14662591\n",
       "24  0.2818657  0.5913308 0.4879055   0.02411053          NA         NA\n",
       "25  0.2103517  0.4413004 0.1669080   0.27172182          NA         NA\n",
       "26  0.1318510  0.2766125 0.1848908   0.02878959          NA         NA\n",
       "27  0.3266653  0.6853165 0.4049378   0.27428297  0.07900632 0.13389689\n",
       "28  0.2067226  0.4336867 0.2208411   0.20042188  0.06518514 0.14153328\n",
       "29  0.3365488  0.7060514 0.4136948   0.29235655  0.05262301 0.11387606\n",
       "30  0.3174997  0.6660880 0.3737858   0.25799039          NA         NA\n",
       "⋮   ⋮          ⋮         ⋮           ⋮           ⋮          ⋮         \n",
       "79  NA         NA        NA          NA                  NA         NA\n",
       "80  NA         NA        NA          NA          0.10153488 0.08159939\n",
       "81  NA         NA        NA          NA          0.08391084 0.10004758\n",
       "82  NA         NA        NA          NA          0.09055542 0.08537678\n",
       "83  NA         NA        NA          NA                  NA         NA\n",
       "84  NA         NA        NA          NA                  NA         NA\n",
       "85  NA         NA        NA          NA          0.05609000 0.07546351\n",
       "86  NA         NA        NA          NA                  NA         NA\n",
       "87  NA         NA        NA          NA          0.07110000 0.09006883\n",
       "88  NA         NA        NA          NA                  NA         NA\n",
       "89  NA         NA        NA          NA          0.05932559        NaN\n",
       "90  NA         NA        NA          NA                 NaN 0.09173357\n",
       "91  NA         NA        NA          NA                  NA         NA\n",
       "92  NA         NA        NA          NA                  NA         NA\n",
       "93  NA         NA        NA          NA                  NA         NA\n",
       "94  NA         NA        NA          NA          0.05297598 0.09161139\n",
       "95  NA         NA        NA          NA          0.07753215 0.13327109\n",
       "96  NA         NA        NA          NA                  NA         NA\n",
       "97  NA         NA        NA          NA                  NA         NA\n",
       "98  NA         NA        NA          NA                  NA         NA\n",
       "99  NA         NA        NA          NA                 NaN        NaN\n",
       "100 NA         NA        NA          NA                 NaN        NaN\n",
       "101 NA         NA        NA          NA          0.05736290 0.09586317\n",
       "102 NA         NA        NA          NA                  NA         NA\n",
       "103 NA         NA        NA          NA          0.10784310        NaN\n",
       "104 NA         NA        NA          NA                  NA         NA\n",
       "105 NA         NA        NA          NA                  NA         NA\n",
       "106 NA         NA        NA          NA          0.04183139 0.07079994\n",
       "107 NA         NA        NA          NA                  NA         NA\n",
       "108 NA         NA        NA          NA          0.07514428        NaN"
      ]
     },
     "metadata": {},
     "output_type": "display_data"
    }
   ],
   "source": [
    "dfy"
   ]
  },
  {
   "cell_type": "code",
   "execution_count": 42,
   "id": "f4379187",
   "metadata": {
    "vscode": {
     "languageId": "r"
    }
   },
   "outputs": [],
   "source": [
    "med.model.1ann <- \"\n",
    "  biomass.shrub ~ ann_PPT_mm + biomass.grass  \n",
    "  biomass.grass ~ ann_PPT_mm\n",
    "\"\n",
    "med.1ann.fit <- sem(med.model.1ann, data=df)"
   ]
  }
 ],
 "metadata": {
  "kernelspec": {
   "display_name": "R",
   "language": "R",
   "name": "ir"
  },
  "language_info": {
   "codemirror_mode": "r",
   "file_extension": ".r",
   "mimetype": "text/x-r-source",
   "name": "R",
   "pygments_lexer": "r",
   "version": "4.4.2"
  }
 },
 "nbformat": 4,
 "nbformat_minor": 5
}
