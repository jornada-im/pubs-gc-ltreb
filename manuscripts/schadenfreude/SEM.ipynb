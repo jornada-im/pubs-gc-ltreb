{
 "cells": [
  {
   "cell_type": "markdown",
   "id": "69efedc0",
   "metadata": {},
   "source": [
    "# SEM for schadenfreude manuscript"
   ]
  },
  {
   "cell_type": "code",
   "execution_count": null,
   "id": "38f07292-ab41-482b-847a-197993cfdccd",
   "metadata": {
    "vscode": {
     "languageId": "r"
    }
   },
   "outputs": [],
   "source": [
    "library(tidyverse)\n",
    "library(lavaan)\n",
    "library(lubridate)\n",
    "library(semPlot)\n",
    "\n",
    "# Choose paths for input data and output data\n",
    "ready_path <- '../data_tmp/'\n",
    "out_path <- '../out_tmp/'"
   ]
  },
  {
   "cell_type": "code",
   "execution_count": 8,
   "id": "5a7c4dc0-bb7b-46ab-8106-29a31d0cc15e",
   "metadata": {
    "vscode": {
     "languageId": "r"
    }
   },
   "outputs": [
    {
     "name": "stdout",
     "output_type": "stream",
     "text": [
      "tibble [827 × 13] (S3: tbl_df/tbl/data.frame)\n",
      " $ year         : num [1:827] 2006 2006 2006 2006 2006 ...\n",
      " $ plotid       : num [1:827] 104 108 114 126 134 136 137 140 203 206 ...\n",
      " $ ppt_trt      : chr [1:827] \"0.2\" \"0.2\" \"0.2\" \"0.2\" ...\n",
      " $ n_trt        : num [1:827] 1 0 1 0 0 1 1 0 1 0 ...\n",
      " $ cover_grass  : num [1:827] 0.479 0.395 0.33 0.461 0.459 ...\n",
      " $ cover_shrub  : num [1:827] 0.1067 0.127 0.0927 0.2803 0.0369 ...\n",
      " $ cover_rare   : num [1:827] 0.0183 0.1173 0.1304 0.1976 0.1018 ...\n",
      " $ cover_total  : num [1:827] 0.604 0.64 0.554 0.939 0.597 ...\n",
      " $ biomass_grass: num [1:827] 126.8 104.6 87.4 122.1 121.3 ...\n",
      " $ biomass_shrub: num [1:827] 19.7 23.4 17.1 51.7 6.8 ...\n",
      " $ biomass_rare : num [1:827] 3.38 21.65 24.08 36.48 18.79 ...\n",
      " $ biomass_total: num [1:827] 150 150 129 210 147 ...\n",
      " $ PPT_treatment: chr [1:827] \"-80%\" \"-80%\" \"-80%\" \"-80%\" ...\n"
     ]
    }
   ],
   "source": [
    "# Read in the production data\n",
    "# This comes from package knb-lter-jrn.210349001 on EDI\n",
    "df <- read_csv(paste0(ready_path, 'jrn349001_cover_and_biomass_juntar.csv'),\n",
    "               col_types = list(ppt_trt = col_character())) %>%\n",
    "    mutate(PPT_treatment = case_match(ppt_trt,\n",
    "                                      '0.2' ~ '-80%', \n",
    "                                      '1.0' ~ 'ambient',\n",
    "                                      '1.8' ~ '+80%'))\n",
    "str(df)"
   ]
  },
  {
   "cell_type": "code",
   "execution_count": 9,
   "id": "7a413ec6-3149-4c5b-a082-a6dae03486c7",
   "metadata": {
    "vscode": {
     "languageId": "r"
    }
   },
   "outputs": [
    {
     "name": "stdout",
     "output_type": "stream",
     "text": [
      "tibble [57 × 5] (S3: tbl_df/tbl/data.frame)\n",
      " $ year         : num [1:57] 2006 2007 2008 2009 2010 ...\n",
      " $ ppt_trt      : chr [1:57] \"0.2\" \"0.2\" \"0.2\" \"0.2\" ...\n",
      " $ gs_ppt_mm    : num [1:57] 36.2 29.6 56.7 19.5 28 ...\n",
      " $ season       : chr [1:57] \"growing_season\" \"growing_season\" \"growing_season\" \"growing_season\" ...\n",
      " $ PPT_treatment: chr [1:57] \"-80%\" \"-80%\" \"-80%\" \"-80%\" ...\n"
     ]
    }
   ],
   "source": [
    "# Load precipitation data\n",
    "# This comes from package knb-lter-jrn.210349002 on EDI\n",
    "ppt <- read_csv(paste0(ready_path, 'seasonal_ppt_juntar.csv'),\n",
    "                col_types = list(ppt_trt = col_character())) %>%\n",
    "    mutate(PPT_treatment = case_match(ppt_trt,\n",
    "                                      '0.2' ~ '-80%', \n",
    "                                      '1.0' ~ 'ambient',\n",
    "                                      '1.8' ~ '+80%'))\n",
    "# Split the seasons\n",
    "gs_ppt <- subset(ppt, season=='growing_season')\n",
    "ann_ppt <- subset(ppt, season=='annual')\n",
    "# Rename columns so they can be merged\n",
    "gs_ppt <- gs_ppt %>% rename(\"gs_ppt_mm\" = \"ppt_mm\")\n",
    "ann_ppt <- ann_ppt %>% rename(\"ann_ppt_mm\" = \"ppt_mm\")\n",
    "str(gs_ppt)"
   ]
  },
  {
   "cell_type": "code",
   "execution_count": 10,
   "id": "653d77ab-9f28-4b20-9465-6603c83c8585",
   "metadata": {
    "vscode": {
     "languageId": "r"
    }
   },
   "outputs": [
    {
     "name": "stdout",
     "output_type": "stream",
     "text": [
      "'data.frame':\t827 obs. of  15 variables:\n",
      " $ year         : num  2006 2006 2006 2006 2006 ...\n",
      " $ PPT_treatment: chr  \"-80%\" \"-80%\" \"-80%\" \"-80%\" ...\n",
      " $ plotid       : num  104 108 114 126 134 136 137 140 203 206 ...\n",
      " $ ppt_trt      : chr  \"0.2\" \"0.2\" \"0.2\" \"0.2\" ...\n",
      " $ n_trt        : num  1 0 1 0 0 1 1 0 1 0 ...\n",
      " $ cover_grass  : num  0.479 0.395 0.33 0.461 0.459 ...\n",
      " $ cover_shrub  : num  0.1067 0.127 0.0927 0.2803 0.0369 ...\n",
      " $ cover_rare   : num  0.0183 0.1173 0.1304 0.1976 0.1018 ...\n",
      " $ cover_total  : num  0.604 0.64 0.554 0.939 0.597 ...\n",
      " $ biomass_grass: num  126.8 104.6 87.4 122.1 121.3 ...\n",
      " $ biomass_shrub: num  19.7 23.4 17.1 51.7 6.8 ...\n",
      " $ biomass_rare : num  3.38 21.65 24.08 36.48 18.79 ...\n",
      " $ biomass_total: num  150 150 129 210 147 ...\n",
      " $ ann_ppt_mm   : num  77.2 77.2 77.2 77.2 77.2 ...\n",
      " $ gs_ppt_mm    : num  36.2 36.2 36.2 36.2 36.2 ...\n"
     ]
    }
   ],
   "source": [
    "# Merge precip data with plot data and calculate shrub ratio and RUE\n",
    "df <- merge(df, ann_ppt[,c('year','PPT_treatment','ann_ppt_mm')], on=c('year', 'PPT_treatment'), all.x=T)\n",
    "df <- merge(df, gs_ppt[,c('year','PPT_treatment','gs_ppt_mm')], on=c('year', 'PPT_treatment'), all.x=T)\n",
    "str(df)"
   ]
  },
  {
   "cell_type": "markdown",
   "id": "b41198fa-fcb1-4555-80b3-c679a5dcb4d8",
   "metadata": {},
   "source": [
    "## Mediation 2, growing season ppt"
   ]
  },
  {
   "cell_type": "code",
   "execution_count": 13,
   "id": "9800c240-14ae-4887-b550-e4802ccad351",
   "metadata": {
    "vscode": {
     "languageId": "r"
    }
   },
   "outputs": [],
   "source": [
    "med.model.2gs <- \"\n",
    "  biomass_grass ~ gs_ppt_mm  \n",
    "  biomass_shrub ~ gs_ppt_mm + biomass_grass\n",
    "\"\n",
    "med.2gs.fit <- sem(med.model.2gs, data=df)"
   ]
  },
  {
   "cell_type": "code",
   "execution_count": 14,
   "id": "558ef8bf-3589-453d-a6ef-7ff90eed85d3",
   "metadata": {
    "tags": [],
    "vscode": {
     "languageId": "r"
    }
   },
   "outputs": [
    {
     "data": {
      "text/html": [
       "<dl>\n",
       "\t<dt>$header</dt>\n",
       "\t\t<dd><dl>\n",
       "\t<dt>$lavaan.version</dt>\n",
       "\t\t<dd>'0.6-20'</dd>\n",
       "\t<dt>$sam.approach</dt>\n",
       "\t\t<dd>FALSE</dd>\n",
       "\t<dt>$optim.method</dt>\n",
       "\t\t<dd>'nlminb'</dd>\n",
       "\t<dt>$optim.iterations</dt>\n",
       "\t\t<dd>1</dd>\n",
       "\t<dt>$optim.converged</dt>\n",
       "\t\t<dd>TRUE</dd>\n",
       "</dl>\n",
       "</dd>\n",
       "\t<dt>$optim</dt>\n",
       "\t\t<dd><dl>\n",
       "\t<dt>$estimator</dt>\n",
       "\t\t<dd>'ML'</dd>\n",
       "\t<dt>$estimator.args</dt>\n",
       "\t\t<dd><ol>\n",
       "</ol>\n",
       "</dd>\n",
       "\t<dt>$optim.method</dt>\n",
       "\t\t<dd>'nlminb'</dd>\n",
       "\t<dt>$npar</dt>\n",
       "\t\t<dd>5</dd>\n",
       "\t<dt>$eq.constraints</dt>\n",
       "\t\t<dd>FALSE</dd>\n",
       "\t<dt>$nrow.ceq.jac</dt>\n",
       "\t\t<dd>0</dd>\n",
       "\t<dt>$nrow.cin.jac</dt>\n",
       "\t\t<dd>0</dd>\n",
       "\t<dt>$nrow.con.jac</dt>\n",
       "\t\t<dd>0</dd>\n",
       "\t<dt>$con.jac.rank</dt>\n",
       "\t\t<dd>0</dd>\n",
       "</dl>\n",
       "</dd>\n",
       "\t<dt>$data</dt>\n",
       "\t\t<dd><dl>\n",
       "\t<dt>$ngroups</dt>\n",
       "\t\t<dd>1</dd>\n",
       "\t<dt>$nobs</dt>\n",
       "\t\t<dd>827</dd>\n",
       "</dl>\n",
       "</dd>\n",
       "\t<dt>$test</dt>\n",
       "\t\t<dd><strong>$standard</strong> = <dl>\n",
       "\t<dt>$test</dt>\n",
       "\t\t<dd>'standard'</dd>\n",
       "\t<dt>$stat</dt>\n",
       "\t\t<dd>0</dd>\n",
       "\t<dt>$stat.group</dt>\n",
       "\t\t<dd>0</dd>\n",
       "\t<dt>$df</dt>\n",
       "\t\t<dd>0</dd>\n",
       "\t<dt>$refdistr</dt>\n",
       "\t\t<dd>'chisq'</dd>\n",
       "\t<dt>$pvalue</dt>\n",
       "\t\t<dd>&lt;NA&gt;</dd>\n",
       "</dl>\n",
       "</dd>\n",
       "\t<dt>$pe</dt>\n",
       "\t\t<dd><table class=\"dataframe\">\n",
       "<caption>A data.frame: 8 × 8</caption>\n",
       "<thead>\n",
       "\t<tr><th scope=col>lhs</th><th scope=col>op</th><th scope=col>rhs</th><th scope=col>exo</th><th scope=col>est</th><th scope=col>se</th><th scope=col>z</th><th scope=col>pvalue</th></tr>\n",
       "\t<tr><th scope=col>&lt;chr&gt;</th><th scope=col>&lt;chr&gt;</th><th scope=col>&lt;chr&gt;</th><th scope=col>&lt;int&gt;</th><th scope=col>&lt;dbl&gt;</th><th scope=col>&lt;dbl&gt;</th><th scope=col>&lt;dbl&gt;</th><th scope=col>&lt;dbl&gt;</th></tr>\n",
       "</thead>\n",
       "<tbody>\n",
       "\t<tr><td>biomass_grass</td><td>~ </td><td>gs_ppt_mm    </td><td>0</td><td> 2.339064e-01</td><td>  0.01353532</td><td> 17.2811879</td><td>0.0000000</td></tr>\n",
       "\t<tr><td>biomass_shrub</td><td>~ </td><td>gs_ppt_mm    </td><td>0</td><td>-6.437146e-03</td><td>  0.01073132</td><td> -0.5998468</td><td>0.5486083</td></tr>\n",
       "\t<tr><td>biomass_shrub</td><td>~ </td><td>biomass_grass</td><td>0</td><td>-4.711765e-01</td><td>  0.02363115</td><td>-19.9387866</td><td>0.0000000</td></tr>\n",
       "\t<tr><td>biomass_grass</td><td>~~</td><td>biomass_grass</td><td>0</td><td> 2.348093e+03</td><td>115.47221560</td><td> 20.3346994</td><td>0.0000000</td></tr>\n",
       "\t<tr><td>biomass_shrub</td><td>~~</td><td>biomass_shrub</td><td>0</td><td> 1.084402e+03</td><td> 53.32768295</td><td> 20.3346994</td><td>0.0000000</td></tr>\n",
       "\t<tr><td>gs_ppt_mm    </td><td>~~</td><td>gs_ppt_mm    </td><td>1</td><td> 1.549790e+04</td><td>  0.00000000</td><td>         NA</td><td>       NA</td></tr>\n",
       "\t<tr><td>biomass_grass</td><td>r2</td><td>biomass_grass</td><td>0</td><td> 2.653065e-01</td><td>          NA</td><td>         NA</td><td>       NA</td></tr>\n",
       "\t<tr><td>biomass_shrub</td><td>r2</td><td>biomass_shrub</td><td>0</td><td> 4.030506e-01</td><td>          NA</td><td>         NA</td><td>       NA</td></tr>\n",
       "</tbody>\n",
       "</table>\n",
       "</dd>\n",
       "</dl>\n"
      ],
      "text/latex": [
       "\\begin{description}\n",
       "\\item[\\$header] \\begin{description}\n",
       "\\item[\\$lavaan.version] '0.6-20'\n",
       "\\item[\\$sam.approach] FALSE\n",
       "\\item[\\$optim.method] 'nlminb'\n",
       "\\item[\\$optim.iterations] 1\n",
       "\\item[\\$optim.converged] TRUE\n",
       "\\end{description}\n",
       "\n",
       "\\item[\\$optim] \\begin{description}\n",
       "\\item[\\$estimator] 'ML'\n",
       "\\item[\\$estimator.args] \\begin{enumerate}\n",
       "\\end{enumerate}\n",
       "\n",
       "\\item[\\$optim.method] 'nlminb'\n",
       "\\item[\\$npar] 5\n",
       "\\item[\\$eq.constraints] FALSE\n",
       "\\item[\\$nrow.ceq.jac] 0\n",
       "\\item[\\$nrow.cin.jac] 0\n",
       "\\item[\\$nrow.con.jac] 0\n",
       "\\item[\\$con.jac.rank] 0\n",
       "\\end{description}\n",
       "\n",
       "\\item[\\$data] \\begin{description}\n",
       "\\item[\\$ngroups] 1\n",
       "\\item[\\$nobs] 827\n",
       "\\end{description}\n",
       "\n",
       "\\item[\\$test] \\textbf{\\$standard} = \\begin{description}\n",
       "\\item[\\$test] 'standard'\n",
       "\\item[\\$stat] 0\n",
       "\\item[\\$stat.group] 0\n",
       "\\item[\\$df] 0\n",
       "\\item[\\$refdistr] 'chisq'\n",
       "\\item[\\$pvalue] <NA>\n",
       "\\end{description}\n",
       "\n",
       "\\item[\\$pe] A data.frame: 8 × 8\n",
       "\\begin{tabular}{llllllll}\n",
       " lhs & op & rhs & exo & est & se & z & pvalue\\\\\n",
       " <chr> & <chr> & <chr> & <int> & <dbl> & <dbl> & <dbl> & <dbl>\\\\\n",
       "\\hline\n",
       "\t biomass\\_grass & \\textasciitilde{}  & gs\\_ppt\\_mm     & 0 &  2.339064e-01 &   0.01353532 &  17.2811879 & 0.0000000\\\\\n",
       "\t biomass\\_shrub & \\textasciitilde{}  & gs\\_ppt\\_mm     & 0 & -6.437146e-03 &   0.01073132 &  -0.5998468 & 0.5486083\\\\\n",
       "\t biomass\\_shrub & \\textasciitilde{}  & biomass\\_grass & 0 & -4.711765e-01 &   0.02363115 & -19.9387866 & 0.0000000\\\\\n",
       "\t biomass\\_grass & \\textasciitilde{}\\textasciitilde{} & biomass\\_grass & 0 &  2.348093e+03 & 115.47221560 &  20.3346994 & 0.0000000\\\\\n",
       "\t biomass\\_shrub & \\textasciitilde{}\\textasciitilde{} & biomass\\_shrub & 0 &  1.084402e+03 &  53.32768295 &  20.3346994 & 0.0000000\\\\\n",
       "\t gs\\_ppt\\_mm     & \\textasciitilde{}\\textasciitilde{} & gs\\_ppt\\_mm     & 1 &  1.549790e+04 &   0.00000000 &          NA &        NA\\\\\n",
       "\t biomass\\_grass & r2 & biomass\\_grass & 0 &  2.653065e-01 &           NA &          NA &        NA\\\\\n",
       "\t biomass\\_shrub & r2 & biomass\\_shrub & 0 &  4.030506e-01 &           NA &          NA &        NA\\\\\n",
       "\\end{tabular}\n",
       "\n",
       "\\end{description}\n"
      ],
      "text/markdown": [
       "$header\n",
       ":   $lavaan.version\n",
       ":   '0.6-20'\n",
       "$sam.approach\n",
       ":   FALSE\n",
       "$optim.method\n",
       ":   'nlminb'\n",
       "$optim.iterations\n",
       ":   1\n",
       "$optim.converged\n",
       ":   TRUE\n",
       "\n",
       "\n",
       "\n",
       "$optim\n",
       ":   $estimator\n",
       ":   'ML'\n",
       "$estimator.args\n",
       ":   \n",
       "\n",
       "\n",
       "$optim.method\n",
       ":   'nlminb'\n",
       "$npar\n",
       ":   5\n",
       "$eq.constraints\n",
       ":   FALSE\n",
       "$nrow.ceq.jac\n",
       ":   0\n",
       "$nrow.cin.jac\n",
       ":   0\n",
       "$nrow.con.jac\n",
       ":   0\n",
       "$con.jac.rank\n",
       ":   0\n",
       "\n",
       "\n",
       "\n",
       "$data\n",
       ":   $ngroups\n",
       ":   1\n",
       "$nobs\n",
       ":   827\n",
       "\n",
       "\n",
       "\n",
       "$test\n",
       ":   **$standard** = $test\n",
       ":   'standard'\n",
       "$stat\n",
       ":   0\n",
       "$stat.group\n",
       ":   0\n",
       "$df\n",
       ":   0\n",
       "$refdistr\n",
       ":   'chisq'\n",
       "$pvalue\n",
       ":   &lt;NA&gt;\n",
       "\n",
       "\n",
       "\n",
       "$pe\n",
       ":   \n",
       "A data.frame: 8 × 8\n",
       "\n",
       "| lhs &lt;chr&gt; | op &lt;chr&gt; | rhs &lt;chr&gt; | exo &lt;int&gt; | est &lt;dbl&gt; | se &lt;dbl&gt; | z &lt;dbl&gt; | pvalue &lt;dbl&gt; |\n",
       "|---|---|---|---|---|---|---|---|\n",
       "| biomass_grass | ~  | gs_ppt_mm     | 0 |  2.339064e-01 |   0.01353532 |  17.2811879 | 0.0000000 |\n",
       "| biomass_shrub | ~  | gs_ppt_mm     | 0 | -6.437146e-03 |   0.01073132 |  -0.5998468 | 0.5486083 |\n",
       "| biomass_shrub | ~  | biomass_grass | 0 | -4.711765e-01 |   0.02363115 | -19.9387866 | 0.0000000 |\n",
       "| biomass_grass | ~~ | biomass_grass | 0 |  2.348093e+03 | 115.47221560 |  20.3346994 | 0.0000000 |\n",
       "| biomass_shrub | ~~ | biomass_shrub | 0 |  1.084402e+03 |  53.32768295 |  20.3346994 | 0.0000000 |\n",
       "| gs_ppt_mm     | ~~ | gs_ppt_mm     | 1 |  1.549790e+04 |   0.00000000 |          NA |        NA |\n",
       "| biomass_grass | r2 | biomass_grass | 0 |  2.653065e-01 |           NA |          NA |        NA |\n",
       "| biomass_shrub | r2 | biomass_shrub | 0 |  4.030506e-01 |           NA |          NA |        NA |\n",
       "\n",
       "\n",
       "\n",
       "\n"
      ],
      "text/plain": [
       "lavaan 0.6-20 ended normally after 1 iteration\n",
       "\n",
       "  Estimator                                         ML\n",
       "  Optimization method                           NLMINB\n",
       "  Number of model parameters                         5\n",
       "\n",
       "  Number of observations                           827\n",
       "\n",
       "Model Test User Model:\n",
       "                                                      \n",
       "  Test statistic                                 0.000\n",
       "  Degrees of freedom                                 0\n",
       "\n",
       "Parameter Estimates:\n",
       "\n",
       "  Standard errors                             Standard\n",
       "  Information                                 Expected\n",
       "  Information saturated (h1) model          Structured\n",
       "\n",
       "Regressions:\n",
       "                   Estimate   Std.Err  z-value  P(>|z|)\n",
       "  biomass_grass ~                                      \n",
       "    gs_ppt_mm          0.234    0.014   17.281    0.000\n",
       "  biomass_shrub ~                                      \n",
       "    gs_ppt_mm         -0.006    0.011   -0.600    0.549\n",
       "    biomass_grass     -0.471    0.024  -19.939    0.000\n",
       "\n",
       "Variances:\n",
       "                   Estimate   Std.Err  z-value  P(>|z|)\n",
       "   .biomass_grass   2348.093  115.472   20.335    0.000\n",
       "   .biomass_shrub   1084.402   53.328   20.335    0.000\n",
       "\n",
       "R-Square:\n",
       "                   Estimate \n",
       "    biomass_grass      0.265\n",
       "    biomass_shrub      0.403\n"
      ]
     },
     "metadata": {},
     "output_type": "display_data"
    }
   ],
   "source": [
    "summary(med.2gs.fit, rsq=TRUE, standardized=F, fit.measures=F)"
   ]
  },
  {
   "cell_type": "code",
   "execution_count": 15,
   "id": "adbb382a-eaa7-459e-8623-cbca21920b27",
   "metadata": {
    "vscode": {
     "languageId": "r"
    }
   },
   "outputs": [
    {
     "data": {
      "image/png": "[encoded data removed]",
      "text/plain": [
       "plot without title"
      ]
     },
     "metadata": {
      "image/png": {
       "height": 420,
       "width": 420
      }
     },
     "output_type": "display_data"
    }
   ],
   "source": [
    "#png(paste0(out_path, 'fig2sem_med2_gs_2006-2024.png'), width=4, height=4, units='in', res=400)\n",
    "#pdf(paste0(out_path, 'fig2sem_med2_gs_2006-2024.pdf'), width=4, height=4)\n",
    "med2gs_plot <- semPlot::semPaths(med.2gs.fit, \"par\",\n",
    "             sizeMan = 15, sizeInt = 15, sizeLat = 15,\n",
    "             edge.label.cex=1.5,\n",
    "             fade=FALSE, residuals=FALSE,\n",
    "             nodeLabels=c('Grass NPP', 'Shrub NPP','PPT_gs'))\n",
    "#dev.off()"
   ]
  }
 ],
 "metadata": {
  "kernelspec": {
   "display_name": "R",
   "language": "R",
   "name": "ir"
  },
  "language_info": {
   "codemirror_mode": "r",
   "file_extension": ".r",
   "mimetype": "text/x-r-source",
   "name": "R",
   "pygments_lexer": "r",
   "version": "4.5.1"
  }
 },
 "nbformat": 4,
 "nbformat_minor": 5
}
